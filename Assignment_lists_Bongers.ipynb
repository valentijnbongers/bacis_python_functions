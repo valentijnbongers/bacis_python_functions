{
  "nbformat": 4,
  "nbformat_minor": 0,
  "metadata": {
    "colab": {
      "provenance": [],
      "authorship_tag": "ABX9TyNb67wP/oZiiSPHKcxczoez",
      "include_colab_link": true
    },
    "kernelspec": {
      "name": "python3",
      "display_name": "Python 3"
    },
    "language_info": {
      "name": "python"
    }
  },
  "cells": [
    {
      "cell_type": "markdown",
      "metadata": {
        "id": "view-in-github",
        "colab_type": "text"
      },
      "source": [
        "<a href=\"https://colab.research.google.com/github/valentijnbongers/bacis_python_functions/blob/main/Assignment_lists_Bongers.ipynb\" target=\"_parent\"><img src=\"https://colab.research.google.com/assets/colab-badge.svg\" alt=\"Open In Colab\"/></a>"
      ]
    },
    {
      "cell_type": "markdown",
      "source": [
        "# Learner: Jasper Bongers\n"
      ],
      "metadata": {
        "id": "uekYOOth0dgZ"
      }
    },
    {
      "cell_type": "code",
      "execution_count": 3,
      "metadata": {
        "id": "llEs7MXk0c7n"
      },
      "outputs": [],
      "source": [
        "# Student marks\n",
        "\n",
        "student_marks = [\n",
        "    ['name', ['A','B','C','D','E']],\n",
        "    ['Ankit', [41,34,45,55,63]],\n",
        "    ['Aravind',[42,23,34,44,53]],\n",
        "    ['Lakshay',[32,23,13,54,67]],\n",
        "    ['Gyan',[23,82,23,63,34]],\n",
        "    ['Pranav',[21,23,25,56,56]],\n",
        "]"
      ]
    },
    {
      "cell_type": "code",
      "source": [
        "# Find the student with the highest marks in subject B\n",
        "highest_mark_in_B = -1\n",
        "top_student = \"\"\n",
        "\n",
        "for student in student_marks[1:]:\n",
        "    name = student[0]\n",
        "    marks_in_B = student[1][1]\n",
        "    if marks_in_B > highest_mark_in_B:\n",
        "        highest_mark_in_B = marks_in_B\n",
        "        top_student = name\n",
        "\n",
        "print(f\"The student who scored the highest marks in subject B is {top_student} with {highest_mark_in_B} marks.\")"
      ],
      "metadata": {
        "colab": {
          "base_uri": "https://localhost:8080/"
        },
        "id": "2wAFshVj1vZj",
        "outputId": "287e2013-2730-4c86-91a3-f303ea60cf0e"
      },
      "execution_count": 17,
      "outputs": [
        {
          "output_type": "stream",
          "name": "stdout",
          "text": [
            "The student who scored the highest marks in subject B is Gyan with 82 marks.\n"
          ]
        }
      ]
    },
    {
      "cell_type": "code",
      "source": [
        "# What is the average marks scored in the subject C?\n",
        "\n",
        "# Calculate the average marks in subject C\n",
        "total_marks_in_C = 0\n",
        "number_of_students = len(student_marks) - 1  # Exclude the header\n",
        "\n",
        "for student in student_marks[1:]:\n",
        "    marks_in_C = student[1][2]\n",
        "    total_marks_in_C += marks_in_C\n",
        "\n",
        "average_C = total_marks_in_C / number_of_students\n",
        "print(f\"The average marks scored in subject C is {average_C:.2f}\")"
      ],
      "metadata": {
        "colab": {
          "base_uri": "https://localhost:8080/"
        },
        "id": "YTpDLSp72zcE",
        "outputId": "7cc90c41-773d-4ce8-8a12-b5516270c2e7"
      },
      "execution_count": 23,
      "outputs": [
        {
          "output_type": "stream",
          "name": "stdout",
          "text": [
            "The average marks scored in subject C is 28.00\n"
          ]
        }
      ]
    },
    {
      "cell_type": "code",
      "source": [
        "# Find the student with the highest percentage of marks\n",
        "highest_percentage = -1\n",
        "top_student = \"\"\n",
        "\n",
        "for student in student_marks[1:]:\n",
        "    name = student[0]\n",
        "    marks = student[1]\n",
        "    total_marks = sum(marks)\n",
        "    percentage = (total_marks / (len(marks) * 100)) * 100  # Assuming each subject is out of 100 marks\n",
        "    if percentage > highest_percentage:\n",
        "        highest_percentage = percentage\n",
        "        top_student = name\n",
        "\n",
        "print(f\"The student who scored the highest percentage of marks is {top_student} with {highest_percentage:.2f}%\")"
      ],
      "metadata": {
        "colab": {
          "base_uri": "https://localhost:8080/"
        },
        "id": "vEo69ZCL65NJ",
        "outputId": "bbc99a2b-35a9-4245-eab8-522b01c908c8"
      },
      "execution_count": 38,
      "outputs": [
        {
          "output_type": "stream",
          "name": "stdout",
          "text": [
            "The student who scored the highest percentage of marks is Ankit with 47.60%\n"
          ]
        }
      ]
    },
    {
      "cell_type": "code",
      "source": [
        "# If considered only top-4 subjects of a candidate, then who scored the highest percentage of marks?\n",
        "\n",
        "highest_percentage = -1\n",
        "top_student = \"\"\n",
        "\n",
        "for student in student_marks[1:]:\n",
        "    name = student[0]\n",
        "    marks = student[1]\n",
        "    top_4_marks = sorted(marks, reverse=True)[:4]\n",
        "    total_top_4_marks = sum(top_4_marks)\n",
        "    percentage = (total_top_4_marks / (4 * 100)) * 100  # Assuming each subject is out of 100 marks\n",
        "    if percentage > highest_percentage:\n",
        "        highest_percentage = percentage\n",
        "        top_student = name\n",
        "\n",
        "print(f\"The student who scored the highest percentage of marks considering only the top 4 subjects is {top_student} with {highest_percentage:.2f}%\")"
      ],
      "metadata": {
        "colab": {
          "base_uri": "https://localhost:8080/"
        },
        "id": "govywTPT8OEk",
        "outputId": "8a498fda-30cd-40f9-8086-79f269d25606"
      },
      "execution_count": 39,
      "outputs": [
        {
          "output_type": "stream",
          "name": "stdout",
          "text": [
            "The student who scored the highest percentage of marks considering only the top 4 subjects is Ankit with 51.00%\n"
          ]
        }
      ]
    },
    {
      "cell_type": "code",
      "source": [
        "# The end"
      ],
      "metadata": {
        "id": "vdBRZvCN8mW3"
      },
      "execution_count": null,
      "outputs": []
    }
  ]
}