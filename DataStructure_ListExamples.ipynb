{
  "cells": [
    {
      "cell_type": "markdown",
      "metadata": {
        "id": "view-in-github",
        "colab_type": "text"
      },
      "source": [
        "<a href=\"https://colab.research.google.com/github/valentijnbongers/bacis_python_functions/blob/main/DataStructure_ListExamples.ipynb\" target=\"_parent\"><img src=\"https://colab.research.google.com/assets/colab-badge.svg\" alt=\"Open In Colab\"/></a>"
      ]
    },
    {
      "cell_type": "markdown",
      "metadata": {
        "id": "WpHtMBfL2Eay"
      },
      "source": [
        "#### Real-World Examples Using Lists in Python\n",
        "Lists are one of the most commonly used data structures in Python, thanks to their versatility and ease of use. Here are several practical examples that illustrate their use in real-world scenarios"
      ]
    },
    {
      "cell_type": "code",
      "source": [
        "# Example Creating a list\n",
        "my_list = [1, 2, 3, 4, 5]\n",
        "print(my_list)  # Output: [1, 2, 3, 4, 5]\n"
      ],
      "metadata": {
        "colab": {
          "base_uri": "https://localhost:8080/"
        },
        "id": "3VB0VLYQ2t45",
        "outputId": "6fad8a66-a588-4a69-ba98-0b4bb99406d6"
      },
      "execution_count": 10,
      "outputs": [
        {
          "output_type": "stream",
          "name": "stdout",
          "text": [
            "[1, 2, 3, 4, 5]\n"
          ]
        }
      ]
    },
    {
      "cell_type": "markdown",
      "metadata": {
        "id": "qLc16x8k2Ea1"
      },
      "source": [
        "##### Example 1. Manage A To Do List\n",
        "- Create a To Do List To Keep Track OF Tasks"
      ]
    },
    {
      "cell_type": "code",
      "source": [
        "# Example appending a list\n",
        "my_list.append(6)\n",
        "print(my_list)  # Output: [1, 2, 3, 4, 5, 6]"
      ],
      "metadata": {
        "colab": {
          "base_uri": "https://localhost:8080/"
        },
        "id": "6TYub0hJ2zRb",
        "outputId": "a838ba1b-2a31-45f9-f654-ec21198329b7"
      },
      "execution_count": 11,
      "outputs": [
        {
          "output_type": "stream",
          "name": "stdout",
          "text": [
            "[1, 2, 3, 4, 5, 6]\n"
          ]
        }
      ]
    },
    {
      "cell_type": "code",
      "execution_count": 4,
      "metadata": {
        "colab": {
          "base_uri": "https://localhost:8080/"
        },
        "id": "JDXMj71r2Ea2",
        "outputId": "b7835d07-4031-4758-9407-6728fc521fc7"
      },
      "outputs": [
        {
          "output_type": "stream",
          "name": "stdout",
          "text": [
            "['Buy Groceries', 'Clean the house', 'Pay bills', 'Schedule meeting', 'Go For a Run']\n"
          ]
        }
      ],
      "source": [
        "to_do_list=[\"Buy Groceries\",\"Clean the house\",\"Pay bills\"]\n",
        "\n",
        "## Adding to task\n",
        "to_do_list.append(\"Schedule meeting\")\n",
        "to_do_list.append(\"Go For a Run\")\n",
        "print(to_do_list)"
      ]
    },
    {
      "cell_type": "code",
      "source": [
        "# Example inserting into a list\n",
        "my_list.insert(0, 0)  # Insert 0 at index 0\n",
        "print(my_list)  # Output: [0, 1, 2, 3, 4, 5, 6]"
      ],
      "metadata": {
        "colab": {
          "base_uri": "https://localhost:8080/"
        },
        "id": "oe6Rm1Uh25hS",
        "outputId": "beec9dfe-bece-4ea4-d324-63b61b04d68c"
      },
      "execution_count": 12,
      "outputs": [
        {
          "output_type": "stream",
          "name": "stdout",
          "text": [
            "[0, 1, 2, 3, 4, 5, 6]\n"
          ]
        }
      ]
    },
    {
      "cell_type": "code",
      "source": [
        "# Example removin from a list\n",
        "my_list.remove(3)\n",
        "print(my_list)  # Output: [0, 1, 2, 4, 5, 6]"
      ],
      "metadata": {
        "colab": {
          "base_uri": "https://localhost:8080/"
        },
        "id": "I20C9lJE3Aic",
        "outputId": "1be7272b-11d9-4782-946c-d263c3f806dd"
      },
      "execution_count": 13,
      "outputs": [
        {
          "output_type": "stream",
          "name": "stdout",
          "text": [
            "[0, 1, 2, 4, 5, 6]\n"
          ]
        }
      ]
    },
    {
      "cell_type": "code",
      "source": [
        "## Removing a completed task\n",
        "to_do_list.remove(\"Clean the house\")\n",
        "print(to_do_list)"
      ],
      "metadata": {
        "colab": {
          "base_uri": "https://localhost:8080/"
        },
        "id": "FC9YmnPr2O-R",
        "outputId": "54e058ae-68ef-48b6-f8ee-dc4ea4895eff"
      },
      "execution_count": 5,
      "outputs": [
        {
          "output_type": "stream",
          "name": "stdout",
          "text": [
            "['Buy Groceries', 'Pay bills', 'Schedule meeting', 'Go For a Run']\n"
          ]
        }
      ]
    },
    {
      "cell_type": "code",
      "source": [
        "# Popping from a list\n",
        "last_element = my_list.pop()\n",
        "print(last_element)   # Output: 6\n",
        "print(my_list)        # Output: [0, 1, 2, 4, 5]"
      ],
      "metadata": {
        "colab": {
          "base_uri": "https://localhost:8080/"
        },
        "id": "cmeDgcl43FGo",
        "outputId": "202887ed-6d62-44c6-ec7b-26e479a1e818"
      },
      "execution_count": 14,
      "outputs": [
        {
          "output_type": "stream",
          "name": "stdout",
          "text": [
            "6\n",
            "[0, 1, 2, 4, 5]\n"
          ]
        }
      ]
    },
    {
      "cell_type": "code",
      "source": [
        "## checking if a task is in the list\n",
        "if \"Pay bills\" in to_do_list:\n",
        "    print(\"Don't forgrt to pay the utility bills\")\n",
        "\n",
        "print(\"To Do List remaining\")\n",
        "for task in to_do_list:\n",
        "    print(f\"-{task}\")"
      ],
      "metadata": {
        "colab": {
          "base_uri": "https://localhost:8080/"
        },
        "id": "KO8cqqax2VOp",
        "outputId": "68345856-431a-49ee-ea27-143a52550349"
      },
      "execution_count": 6,
      "outputs": [
        {
          "output_type": "stream",
          "name": "stdout",
          "text": [
            "Don't forgrt to pay the utility bills\n",
            "To Do List remaining\n",
            "-Buy Groceries\n",
            "-Pay bills\n",
            "-Schedule meeting\n",
            "-Go For a Run\n"
          ]
        }
      ]
    },
    {
      "cell_type": "markdown",
      "metadata": {
        "id": "rQbU5C8R2Ea3"
      },
      "source": [
        "##### Example 2: Organizing Student Grades\n",
        "- Create a list to store and calculate average grades for students"
      ]
    },
    {
      "cell_type": "code",
      "execution_count": 7,
      "metadata": {
        "colab": {
          "base_uri": "https://localhost:8080/"
        },
        "id": "-Rfx8J7O2Ea4",
        "outputId": "e74c11a9-42a7-43b5-91c9-24c6f25504d9"
      },
      "outputs": [
        {
          "output_type": "stream",
          "name": "stdout",
          "text": [
            "Average Grade: 88.00\n",
            "Highest Grade: 95\n",
            "Lowest Grade: 78\n"
          ]
        }
      ],
      "source": [
        "# Organizing student grades\n",
        "grades = [85, 92, 78, 90, 88]\n",
        "\n",
        "# Adding a new grade\n",
        "grades.append(95)\n",
        "\n",
        "# Calculating the average grade\n",
        "average_grade = sum(grades) / len(grades)\n",
        "print(f\"Average Grade: {average_grade:.2f}\")\n",
        "\n",
        "# Finding the highest and lowest grades\n",
        "highest_grade = max(grades)\n",
        "lowest_grade = min(grades)\n",
        "print(f\"Highest Grade: {highest_grade}\")\n",
        "print(f\"Lowest Grade: {lowest_grade}\")\n"
      ]
    },
    {
      "cell_type": "markdown",
      "metadata": {
        "id": "V9SXXQzS2Ea4"
      },
      "source": [
        "##### Example 3: Managing An Inventory\n",
        "- Use a list to manage inventory items in a store"
      ]
    },
    {
      "cell_type": "code",
      "execution_count": 8,
      "metadata": {
        "colab": {
          "base_uri": "https://localhost:8080/"
        },
        "id": "1hGCgXX82Ea4",
        "outputId": "43461d9e-7579-4646-f319-53ed3eed345b"
      },
      "outputs": [
        {
          "output_type": "stream",
          "name": "stdout",
          "text": [
            "oranges are in stock.\n",
            "Inventory List:\n",
            "- apples\n",
            "- oranges\n",
            "- grapes\n",
            "- strawberries\n"
          ]
        }
      ],
      "source": [
        "# Managing an inventory\n",
        "inventory = [\"apples\", \"bananas\", \"oranges\", \"grapes\"]\n",
        "\n",
        "# Adding a new item\n",
        "inventory.append(\"strawberries\")\n",
        "\n",
        "# Removing an item that is out of stock\n",
        "inventory.remove(\"bananas\")\n",
        "\n",
        "# Checking if an item is in stock\n",
        "item = \"oranges\"\n",
        "if item in inventory:\n",
        "    print(f\"{item} are in stock.\")\n",
        "else:\n",
        "    print(f\"{item} are out of stock.\")\n",
        "\n",
        "# Printing the inventory\n",
        "print(\"Inventory List:\")\n",
        "for item in inventory:\n",
        "    print(f\"- {item}\")\n"
      ]
    },
    {
      "cell_type": "markdown",
      "metadata": {
        "id": "eeVqbDVZ2Ea5"
      },
      "source": [
        "##### Example 4:Collecting User Feedback\n",
        "- Use a list to collect and analyze user feedback."
      ]
    },
    {
      "cell_type": "code",
      "execution_count": 9,
      "metadata": {
        "colab": {
          "base_uri": "https://localhost:8080/"
        },
        "id": "3wgnONaz2Ea5",
        "outputId": "dc67ee70-ee37-40a5-8b22-224cd7654d22"
      },
      "outputs": [
        {
          "output_type": "stream",
          "name": "stdout",
          "text": [
            "Positive Feedback Count: 2\n",
            "User Feedback:\n",
            "- Great service!\n",
            "- Very satisfied\n",
            "- Could be better\n",
            "- Excellent experience\n",
            "- Not happy with the service\n"
          ]
        }
      ],
      "source": [
        "# Collecting user feedback\n",
        "feedback = [\"Great service!\", \"Very satisfied\", \"Could be better\", \"Excellent experience\"]\n",
        "\n",
        "# Adding new feedback\n",
        "feedback.append(\"Not happy with the service\")\n",
        "\n",
        "# Counting specific feedback\n",
        "positive_feedback_count = sum(1 for comment in feedback if \"great\" in comment.lower() or \"excellent\" in comment.lower())\n",
        "print(f\"Positive Feedback Count: {positive_feedback_count}\")\n",
        "\n",
        "# Printing all feedback\n",
        "print(\"User Feedback:\")\n",
        "for comment in feedback:\n",
        "    print(f\"- {comment}\")"
      ]
    },
    {
      "cell_type": "code",
      "execution_count": 15,
      "metadata": {
        "colab": {
          "base_uri": "https://localhost:8080/"
        },
        "id": "gpFBwkrG2Ea5",
        "outputId": "1e142005-65bf-46fa-9b67-9fad403de6d7"
      },
      "outputs": [
        {
          "output_type": "stream",
          "name": "stdout",
          "text": [
            "[0, 1, 2, 4, 5]\n"
          ]
        }
      ],
      "source": [
        "# Sorting a list\n",
        "my_list.sort()\n",
        "print(my_list)  # Output: [0, 1, 2, 4, 5]"
      ]
    },
    {
      "cell_type": "code",
      "source": [
        "# Reversing a list\n",
        "my_list.reverse()\n",
        "print(my_list)   # Output: [5, 4, 2, 1, 0]"
      ],
      "metadata": {
        "colab": {
          "base_uri": "https://localhost:8080/"
        },
        "id": "hJcBfNTg3NOG",
        "outputId": "d27c3b2c-560e-481b-eec3-051ab3fd4adf"
      },
      "execution_count": 16,
      "outputs": [
        {
          "output_type": "stream",
          "name": "stdout",
          "text": [
            "[5, 4, 2, 1, 0]\n"
          ]
        }
      ]
    },
    {
      "cell_type": "code",
      "source": [
        "# Getting the length of a list\n",
        "length = len(my_list)\n",
        "print(length)   # Output: 5 (if my_list has five elements)"
      ],
      "metadata": {
        "colab": {
          "base_uri": "https://localhost:8080/"
        },
        "id": "ukCiDjZ-3SkN",
        "outputId": "6f05bc3b-2a7d-4df9-a4c4-6d7cd2436249"
      },
      "execution_count": 17,
      "outputs": [
        {
          "output_type": "stream",
          "name": "stdout",
          "text": [
            "5\n"
          ]
        }
      ]
    },
    {
      "cell_type": "code",
      "source": [
        "# Slicing a list\n",
        "sliced_list = my_list[1:4]   # Get elements from index 1 to index 3 (exclusive)\n",
        "print(sliced_list)   # Output will depend on current my_list contents.\n"
      ],
      "metadata": {
        "colab": {
          "base_uri": "https://localhost:8080/"
        },
        "id": "ZDDYujWF3s3v",
        "outputId": "5e19a1e1-08c8-4918-dc5b-56bb98a0d335"
      },
      "execution_count": 18,
      "outputs": [
        {
          "output_type": "stream",
          "name": "stdout",
          "text": [
            "[4, 2, 1]\n"
          ]
        }
      ]
    },
    {
      "cell_type": "code",
      "source": [
        "# List Comprehensions\n",
        "squared_numbers = [x**2 for x in range(5)]\n",
        "print(squared_numbers)   # Output: [0, 1, 4, 9, 16]"
      ],
      "metadata": {
        "colab": {
          "base_uri": "https://localhost:8080/"
        },
        "id": "tMpodXwR3wQh",
        "outputId": "a660ee8a-60dd-499a-b069-66def8afe86d"
      },
      "execution_count": 19,
      "outputs": [
        {
          "output_type": "stream",
          "name": "stdout",
          "text": [
            "[0, 1, 4, 9, 16]\n"
          ]
        }
      ]
    },
    {
      "cell_type": "code",
      "source": [
        "# Creating a list of squares for even numbers from 0 to 9\n",
        "squares = [x**2 for x in range(10) if x % 2 == 0]\n",
        "print(squares)  # Output: [0, 4, 16, 36, 64]"
      ],
      "metadata": {
        "colab": {
          "base_uri": "https://localhost:8080/"
        },
        "id": "k3XpHZOZ41BT",
        "outputId": "14e99899-1c60-489f-a98d-1d4953e7246e"
      },
      "execution_count": 21,
      "outputs": [
        {
          "output_type": "stream",
          "name": "stdout",
          "text": [
            "[0, 4, 16, 36, 64]\n"
          ]
        }
      ]
    },
    {
      "cell_type": "code",
      "source": [
        "# Example List of Lists (Nested Lists)\n",
        "matrix = [\n",
        "    [1, 2, 3],\n",
        "    [4, 5, 6],\n",
        "    [7, 8, 9]\n",
        "]\n",
        "\n",
        "# Accessing elements\n",
        "print(matrix[1][2])  # Output: 6"
      ],
      "metadata": {
        "colab": {
          "base_uri": "https://localhost:8080/"
        },
        "id": "L77jM1Zv4KHH",
        "outputId": "f022224b-b8fd-49f4-c670-c87293f80e8d"
      },
      "execution_count": 20,
      "outputs": [
        {
          "output_type": "stream",
          "name": "stdout",
          "text": [
            "6\n"
          ]
        }
      ]
    },
    {
      "cell_type": "code",
      "source": [
        "# Flattening a List of Lists\n",
        "# Flattening a list of lists\n",
        "nested_list = [[1, 2], [3, 4], [5]]\n",
        "flattened = [item for sublist in nested_list for item in sublist]\n",
        "print(flattened)  # Output: [1, 2, 3, 4, 5]"
      ],
      "metadata": {
        "id": "VqrKKN8q4u8J"
      },
      "execution_count": null,
      "outputs": []
    }
  ],
  "metadata": {
    "kernelspec": {
      "display_name": "Python 3",
      "language": "python",
      "name": "python3"
    },
    "language_info": {
      "codemirror_mode": {
        "name": "ipython",
        "version": 3
      },
      "file_extension": ".py",
      "mimetype": "text/x-python",
      "name": "python",
      "nbconvert_exporter": "python",
      "pygments_lexer": "ipython3",
      "version": "3.12.0"
    },
    "colab": {
      "provenance": [],
      "include_colab_link": true
    }
  },
  "nbformat": 4,
  "nbformat_minor": 0
}