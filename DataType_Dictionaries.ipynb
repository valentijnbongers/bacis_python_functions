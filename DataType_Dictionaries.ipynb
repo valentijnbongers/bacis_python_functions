{
  "cells": [
    {
      "cell_type": "markdown",
      "metadata": {
        "id": "view-in-github",
        "colab_type": "text"
      },
      "source": [
        "<a href=\"https://colab.research.google.com/github/valentijnbongers/bacis_python_functions/blob/main/DataType_Dictionaries.ipynb\" target=\"_parent\"><img src=\"https://colab.research.google.com/assets/colab-badge.svg\" alt=\"Open In Colab\"/></a>"
      ]
    },
    {
      "cell_type": "markdown",
      "metadata": {
        "id": "sIowQ1ioDNPb"
      },
      "source": [
        "#### Dictionaries\n",
        "Video Outline:\n",
        "1. Introduction to Dictionaries\n",
        "2. Creating Dictionaries\n",
        "3. Accessing Dictionary Elements\n",
        "4. Modifying Dictionary Elements\n",
        "5. Dictionary Methods\n",
        "6. Iterating Over Dictionaries\n",
        "7. Nested Dictionaries\n",
        "8. Dictionary Comprehensions\n",
        "9. Practical Examples and Common Errors"
      ]
    },
    {
      "cell_type": "markdown",
      "metadata": {
        "id": "UvQKrM7aDNPd"
      },
      "source": [
        "##### Introduction to Dictionaries\n",
        "\n",
        "Dictionaries are unordered collections of items. They store data in key-value pairs.\n",
        "Keys must be unique and immutable (e.g., strings, numbers, or tuples), while values can be of any type."
      ]
    },
    {
      "cell_type": "code",
      "execution_count": 27,
      "metadata": {
        "colab": {
          "base_uri": "https://localhost:8080/"
        },
        "id": "aaX_2aqJDNPd",
        "outputId": "8a97b764-c943-4b13-be48-6705418acd7a"
      },
      "outputs": [
        {
          "output_type": "stream",
          "name": "stdout",
          "text": [
            "<class 'dict'>\n"
          ]
        }
      ],
      "source": [
        "## Creating Dictionaries\n",
        "empty_dict={}\n",
        "print(type(empty_dict))"
      ]
    },
    {
      "cell_type": "code",
      "source": [
        "## Creating Dictionaries\n",
        "empty_dict={}\n",
        "print(empty_dict)"
      ],
      "metadata": {
        "colab": {
          "base_uri": "https://localhost:8080/"
        },
        "id": "AHWCzUUADbqd",
        "outputId": "5d68aa82-9224-4bf2-ebd3-a3590046e18a"
      },
      "execution_count": 28,
      "outputs": [
        {
          "output_type": "stream",
          "name": "stdout",
          "text": [
            "{}\n"
          ]
        }
      ]
    },
    {
      "cell_type": "code",
      "execution_count": 29,
      "metadata": {
        "colab": {
          "base_uri": "https://localhost:8080/"
        },
        "id": "rjZ5hKaIDNPe",
        "outputId": "84b6c926-acbb-4523-cae8-4025528b22dc"
      },
      "outputs": [
        {
          "output_type": "execute_result",
          "data": {
            "text/plain": [
              "{}"
            ]
          },
          "metadata": {},
          "execution_count": 29
        }
      ],
      "source": [
        "empty_dict=dict()\n",
        "empty_dict"
      ]
    },
    {
      "cell_type": "code",
      "execution_count": 30,
      "metadata": {
        "colab": {
          "base_uri": "https://localhost:8080/"
        },
        "id": "CXdHxSrIDNPe",
        "outputId": "77b43562-0e56-4479-baab-b80010e8fa0e"
      },
      "outputs": [
        {
          "output_type": "stream",
          "name": "stdout",
          "text": [
            "{'name': 'Valentijn', 'age': 18, 'grade': 10}\n",
            "<class 'dict'>\n"
          ]
        }
      ],
      "source": [
        "student={\"name\":\"Valentijn\",\"age\":18,\"grade\":10}\n",
        "print(student)\n",
        "print(type(student))"
      ]
    },
    {
      "cell_type": "code",
      "execution_count": 31,
      "metadata": {
        "colab": {
          "base_uri": "https://localhost:8080/"
        },
        "id": "qs3Q5HVTDNPe",
        "outputId": "100d8761-9ce3-4f2e-ea68-46def7c52f61"
      },
      "outputs": [
        {
          "output_type": "stream",
          "name": "stdout",
          "text": [
            "{'name': 24, 'age': 18}\n"
          ]
        }
      ],
      "source": [
        "# Single key is always used\n",
        "student={\"name\":\"Valentijn\",\"age\":18,\"name\":24}\n",
        "print(student)"
      ]
    },
    {
      "cell_type": "code",
      "execution_count": 32,
      "metadata": {
        "colab": {
          "base_uri": "https://localhost:8080/"
        },
        "id": "KUufJ27RDNPf",
        "outputId": "5a3a4cff-263c-4d82-84cf-61e01cf81980"
      },
      "outputs": [
        {
          "output_type": "stream",
          "name": "stdout",
          "text": [
            "{'name': 'Valentijn', 'age': 18, 'grade': 'A'}\n"
          ]
        }
      ],
      "source": [
        "## accessing Dictionary Elements\n",
        "student={\"name\":\"Valentijn\",\"age\":18,\"grade\":'A'}\n",
        "print(student)"
      ]
    },
    {
      "cell_type": "code",
      "execution_count": 33,
      "metadata": {
        "colab": {
          "base_uri": "https://localhost:8080/"
        },
        "id": "e42zbDy_DNPf",
        "outputId": "e4bf6215-0c86-4780-afcd-bd5c25bb53b8"
      },
      "outputs": [
        {
          "output_type": "stream",
          "name": "stdout",
          "text": [
            "A\n",
            "18\n",
            "A\n",
            "None\n",
            "Not Available\n"
          ]
        }
      ],
      "source": [
        "## Accessing Dictionary elements\n",
        "print(student['grade'])\n",
        "print(student['age'])\n",
        "\n",
        "## Accessing using get() method\n",
        "print(student.get('grade'))\n",
        "print(student.get('last_name'))\n",
        "print(student.get('last_name',\"Not Available\"))\n"
      ]
    },
    {
      "cell_type": "code",
      "execution_count": 34,
      "metadata": {
        "colab": {
          "base_uri": "https://localhost:8080/"
        },
        "id": "3QM1ZuefDNPf",
        "outputId": "8c2cb6cb-903f-4a57-80ea-0ead2861540c"
      },
      "outputs": [
        {
          "output_type": "stream",
          "name": "stdout",
          "text": [
            "{'name': 'Valentijn', 'age': 18, 'grade': 'A'}\n"
          ]
        }
      ],
      "source": [
        "## Modifying Dicitonary Elements\n",
        "## Dictionary are mutable,so you can add, update or delete elements\n",
        "print(student)"
      ]
    },
    {
      "cell_type": "code",
      "execution_count": 35,
      "metadata": {
        "colab": {
          "base_uri": "https://localhost:8080/"
        },
        "id": "1QIGR2VqDNPf",
        "outputId": "04eb0406-a8d0-4074-d274-793eff86d716"
      },
      "outputs": [
        {
          "output_type": "stream",
          "name": "stdout",
          "text": [
            "{'name': 'Valentijn', 'age': 21, 'grade': 'A'}\n",
            "{'name': 'Valentijn', 'age': 21, 'grade': 'A', 'address': 'Kuala Lumpur'}\n"
          ]
        }
      ],
      "source": [
        "student[\"age\"]=21  ##update value for the key\n",
        "print(student)\n",
        "student[\"address\"]=\"Kuala Lumpur\" ## added a new key and value\n",
        "print(student)"
      ]
    },
    {
      "cell_type": "code",
      "execution_count": 36,
      "metadata": {
        "colab": {
          "base_uri": "https://localhost:8080/"
        },
        "id": "_EA7qipkDNPg",
        "outputId": "4de043b3-b51e-468f-99e9-4e2d4dc54b8f"
      },
      "outputs": [
        {
          "output_type": "stream",
          "name": "stdout",
          "text": [
            "{'name': 'Valentijn', 'age': 21, 'address': 'Kuala Lumpur'}\n"
          ]
        }
      ],
      "source": [
        "del student['grade'] ## delete key and value pair\n",
        "\n",
        "print(student)"
      ]
    },
    {
      "cell_type": "code",
      "execution_count": 37,
      "metadata": {
        "colab": {
          "base_uri": "https://localhost:8080/"
        },
        "id": "T_fkskrpDNPg",
        "outputId": "f0d79b8a-7f32-47e9-eb18-fbded332f804"
      },
      "outputs": [
        {
          "output_type": "stream",
          "name": "stdout",
          "text": [
            "dict_keys(['name', 'age', 'address'])\n",
            "dict_values(['Valentijn', 21, 'Kuala Lumpur'])\n",
            "dict_items([('name', 'Valentijn'), ('age', 21), ('address', 'Kuala Lumpur')])\n"
          ]
        }
      ],
      "source": [
        "## Dictionary methods\n",
        "\n",
        "keys=student.keys() ##get all the keys\n",
        "print(keys)\n",
        "values=student.values() ##get all values\n",
        "print(values)\n",
        "\n",
        "items=student.items() ##get all key value pairs\n",
        "print(items)"
      ]
    },
    {
      "cell_type": "code",
      "execution_count": 38,
      "metadata": {
        "colab": {
          "base_uri": "https://localhost:8080/"
        },
        "id": "k2HO4RshDNPg",
        "outputId": "c4800661-e211-460f-a962-e8b34761e0d4"
      },
      "outputs": [
        {
          "output_type": "stream",
          "name": "stdout",
          "text": [
            "{'name': 'Valentijn', 'age': 21, 'address': 'Kuala Lumpur'}\n",
            "{'name': 'Valentijn', 'age': 21, 'address': 'Kuala Lumpur'}\n"
          ]
        }
      ],
      "source": [
        "## shallow copy\n",
        "student_copy=student\n",
        "print(student)\n",
        "print(student_copy)"
      ]
    },
    {
      "cell_type": "code",
      "execution_count": 39,
      "metadata": {
        "colab": {
          "base_uri": "https://localhost:8080/"
        },
        "id": "JuvWPphiDNPg",
        "outputId": "cc0b9f42-cad0-424d-c82d-f7d734df5724"
      },
      "outputs": [
        {
          "output_type": "stream",
          "name": "stdout",
          "text": [
            "{'name': 'Valentijn2', 'age': 21, 'address': 'Kuala Lumpur'}\n",
            "{'name': 'Valentijn2', 'age': 21, 'address': 'Kuala Lumpur'}\n"
          ]
        }
      ],
      "source": [
        "student[\"name\"]=\"Valentijn2\"\n",
        "print(student)\n",
        "print(student_copy)\n"
      ]
    },
    {
      "cell_type": "code",
      "execution_count": 40,
      "metadata": {
        "colab": {
          "base_uri": "https://localhost:8080/"
        },
        "id": "TDmXk93aDNPg",
        "outputId": "68015507-9b57-4d6f-bba9-07b1211b7b7e"
      },
      "outputs": [
        {
          "output_type": "stream",
          "name": "stdout",
          "text": [
            "{'name': 'Valentijn2', 'age': 21, 'address': 'Kuala Lumpur'}\n",
            "{'name': 'Valentijn2', 'age': 21, 'address': 'Kuala Lumpur'}\n"
          ]
        }
      ],
      "source": [
        "student_copy1=student.copy() ## shallow copy\n",
        "print(student_copy1)\n",
        "print(student)"
      ]
    },
    {
      "cell_type": "code",
      "execution_count": 41,
      "metadata": {
        "colab": {
          "base_uri": "https://localhost:8080/"
        },
        "id": "FBqCN5qWDNPg",
        "outputId": "deedea99-bb71-4201-962a-16275c07de19"
      },
      "outputs": [
        {
          "output_type": "stream",
          "name": "stdout",
          "text": [
            "{'name': 'Valentijn2', 'age': 21, 'address': 'Kuala Lumpur'}\n",
            "{'name': 'Valentijn3', 'age': 21, 'address': 'Kuala Lumpur'}\n"
          ]
        }
      ],
      "source": [
        "student[\"name\"]=\"Valentijn3\"\n",
        "print(student_copy1)\n",
        "print(student)"
      ]
    },
    {
      "cell_type": "code",
      "execution_count": 42,
      "metadata": {
        "colab": {
          "base_uri": "https://localhost:8080/"
        },
        "id": "YTGWjHOIDNPg",
        "outputId": "a92e171a-45be-4513-dbd3-47b2322decb6"
      },
      "outputs": [
        {
          "output_type": "stream",
          "name": "stdout",
          "text": [
            "name\n",
            "age\n",
            "address\n"
          ]
        }
      ],
      "source": [
        "### Iterating Over Dictionaries\n",
        "## You can use loops to iterate over dictionatries, keys,values,or items\n",
        "\n",
        "## Iterating over keys\n",
        "for keys in student.keys():\n",
        "    print(keys)"
      ]
    },
    {
      "cell_type": "code",
      "execution_count": 43,
      "metadata": {
        "colab": {
          "base_uri": "https://localhost:8080/"
        },
        "id": "BwQ-nVxrDNPg",
        "outputId": "0ee43817-0828-494b-cfd7-c0196b13fa4f"
      },
      "outputs": [
        {
          "output_type": "stream",
          "name": "stdout",
          "text": [
            "Valentijn3\n",
            "21\n",
            "Kuala Lumpur\n"
          ]
        }
      ],
      "source": [
        "## Iterate over values\n",
        "for value in student.values():\n",
        "    print(value)"
      ]
    },
    {
      "cell_type": "code",
      "execution_count": 44,
      "metadata": {
        "colab": {
          "base_uri": "https://localhost:8080/"
        },
        "id": "BYlOS1FRDNPg",
        "outputId": "09015b2c-b7f6-4bfe-f7be-1b9a372482f6"
      },
      "outputs": [
        {
          "output_type": "stream",
          "name": "stdout",
          "text": [
            "name : Valentijn3\n",
            "age : 21\n",
            "address : Kuala Lumpur\n"
          ]
        }
      ],
      "source": [
        "## Iterate over key value pairs\n",
        "for key,value in student.items():\n",
        "    print(f\"{key} : {value}\")"
      ]
    },
    {
      "cell_type": "code",
      "execution_count": 45,
      "metadata": {
        "colab": {
          "base_uri": "https://localhost:8080/"
        },
        "id": "m6wXELPjDNPg",
        "outputId": "507f905f-be19-4949-da9c-35b2b34af107"
      },
      "outputs": [
        {
          "output_type": "stream",
          "name": "stdout",
          "text": [
            "{'student1': {'name': 'Krish', 'age': 32}, 'student2': {'name': 'Peter', 'age': 35}}\n"
          ]
        }
      ],
      "source": [
        "## Nested Disctionaries\n",
        "students={\n",
        "    \"student1\":{\"name\":\"Krish\",\"age\":32},\n",
        "    \"student2\":{\"name\":\"Peter\",\"age\":35}\n",
        "}\n",
        "print(students)"
      ]
    },
    {
      "cell_type": "code",
      "execution_count": 46,
      "metadata": {
        "colab": {
          "base_uri": "https://localhost:8080/"
        },
        "id": "mxbVm0d_DNPg",
        "outputId": "9d9e2ce8-3ca7-4ea5-bc3d-afd89fcf0732"
      },
      "outputs": [
        {
          "output_type": "stream",
          "name": "stdout",
          "text": [
            "Peter\n",
            "35\n"
          ]
        }
      ],
      "source": [
        "## Access nested dictionaries elementss\n",
        "print(students[\"student2\"][\"name\"])\n",
        "print(students[\"student2\"][\"age\"])"
      ]
    },
    {
      "cell_type": "code",
      "execution_count": 47,
      "metadata": {
        "colab": {
          "base_uri": "https://localhost:8080/"
        },
        "id": "PeKFcU1eDNPg",
        "outputId": "ab093f35-b493-4e32-91c0-ce46888c5d40"
      },
      "outputs": [
        {
          "output_type": "execute_result",
          "data": {
            "text/plain": [
              "dict_items([('student1', {'name': 'Krish', 'age': 32}), ('student2', {'name': 'Peter', 'age': 35})])"
            ]
          },
          "metadata": {},
          "execution_count": 47
        }
      ],
      "source": [
        "students.items()"
      ]
    },
    {
      "cell_type": "code",
      "execution_count": 48,
      "metadata": {
        "colab": {
          "base_uri": "https://localhost:8080/"
        },
        "id": "xbg1pogZDNPg",
        "outputId": "dbef4647-9137-40b0-85a7-fbe75fa776e7"
      },
      "outputs": [
        {
          "output_type": "stream",
          "name": "stdout",
          "text": [
            "student1:{'name': 'Krish', 'age': 32}\n",
            "name:Krish\n",
            "age:32\n",
            "student2:{'name': 'Peter', 'age': 35}\n",
            "name:Peter\n",
            "age:35\n"
          ]
        }
      ],
      "source": [
        "## Iterating over nested dictionaries\n",
        "for student_id,student_info in students.items():\n",
        "    print(f\"{student_id}:{student_info}\")\n",
        "    for key,value in student_info.items():\n",
        "        print(f\"{key}:{value}\")\n"
      ]
    },
    {
      "cell_type": "code",
      "execution_count": 49,
      "metadata": {
        "colab": {
          "base_uri": "https://localhost:8080/"
        },
        "id": "Z3g8Cdr5DNPh",
        "outputId": "3111d7bf-6a9d-4088-b3d9-1ee85dcaccd3"
      },
      "outputs": [
        {
          "output_type": "stream",
          "name": "stdout",
          "text": [
            "{0: 0, 1: 1, 2: 4, 3: 9, 4: 16}\n"
          ]
        }
      ],
      "source": [
        "## Dictionary Comphrehension\n",
        "squares={x:x**2 for x in range(5)}\n",
        "print(squares)"
      ]
    },
    {
      "cell_type": "code",
      "execution_count": 50,
      "metadata": {
        "colab": {
          "base_uri": "https://localhost:8080/"
        },
        "id": "EYrLFGPUDNPh",
        "outputId": "fb08c9ca-b2d1-4512-d8c0-5f99d62e8343"
      },
      "outputs": [
        {
          "output_type": "stream",
          "name": "stdout",
          "text": [
            "{0: 0, 2: 4, 4: 16, 6: 36, 8: 64}\n"
          ]
        }
      ],
      "source": [
        "## Condition dictionary comprehension\n",
        "evens={x:x**2 for x in range(10) if x%2==0}\n",
        "print(evens)"
      ]
    },
    {
      "cell_type": "code",
      "execution_count": 51,
      "metadata": {
        "colab": {
          "base_uri": "https://localhost:8080/"
        },
        "id": "jIxXpKIsDNPh",
        "outputId": "c969ba8c-012c-4f9a-afca-00d5c3123bcb"
      },
      "outputs": [
        {
          "output_type": "stream",
          "name": "stdout",
          "text": [
            "{1: 1, 2: 2, 3: 3, 4: 4}\n"
          ]
        }
      ],
      "source": [
        "## Practical Examples\n",
        "\n",
        "## USe a dictionary to count he frequency of elements in list\n",
        "\n",
        "numbers=[1,2,2,3,3,3,4,4,4,4]\n",
        "frequency={}\n",
        "\n",
        "for number in numbers:\n",
        "    if number in frequency:\n",
        "        frequency[number]+=1\n",
        "    else:\n",
        "        frequency[number]=1\n",
        "print(frequency)\n"
      ]
    },
    {
      "cell_type": "code",
      "execution_count": 52,
      "metadata": {
        "colab": {
          "base_uri": "https://localhost:8080/"
        },
        "id": "91en0YLiDNPh",
        "outputId": "5e520bc6-88b3-4759-d707-ba0b080573fd"
      },
      "outputs": [
        {
          "output_type": "stream",
          "name": "stdout",
          "text": [
            "{'a': 1, 'b': 3, 'c': 4}\n"
          ]
        }
      ],
      "source": [
        "## Merge 2 dictionaries into one\n",
        "\n",
        "dict1={\"a\":1,\"b\":2}\n",
        "dict2={\"b\":3,\"c\":4}\n",
        "merged_dict={**dict1,**dict2}\n",
        "print(merged_dict)"
      ]
    },
    {
      "cell_type": "markdown",
      "metadata": {
        "id": "CiBtLs8tDNPh"
      },
      "source": [
        "#### Conclusion\n",
        "Dictionaries are powerful tools in Python for managing key-value pairs. They are used in a variety of real-world scenarios, such as counting word frequency, grouping data, storing configuration settings, managing phonebooks, tracking inventory, and caching results. Understanding how to leverage dictionaries effectively can greatly enhance the efficiency and readability of your code."
      ]
    },
    {
      "cell_type": "code",
      "execution_count": 53,
      "metadata": {
        "colab": {
          "base_uri": "https://localhost:8080/"
        },
        "id": "oSpqctNUDNPh",
        "outputId": "db7ef407-007a-47a7-f9b8-2ffb8ec1c416"
      },
      "outputs": [
        {
          "output_type": "stream",
          "name": "stdout",
          "text": [
            "{'name': 'Alice', 'age': 30, 'city': 'New York'}\n",
            "{'name': 'Bob', 'age': 25, 'city': 'Los Angeles'}\n"
          ]
        }
      ],
      "source": [
        "# Creating a Dictionary\n",
        "# Using curly braces\n",
        "my_dict = {\"name\": \"Alice\", \"age\": 30, \"city\": \"New York\"}\n",
        "print(my_dict)  # Output: {'name': 'Alice', 'age': 30, 'city': 'New York'}\n",
        "\n",
        "# Using dict() constructor\n",
        "my_dict = dict(name=\"Bob\", age=25, city=\"Los Angeles\")\n",
        "print(my_dict)  # Output: {'name': 'Bob', 'age': 25, 'city': 'Los Angeles'}\n"
      ]
    },
    {
      "cell_type": "code",
      "source": [
        "# Accessing Values\n",
        "my_dict = {\"name\": \"Alice\", \"age\": 30}\n",
        "print(my_dict[\"name\"])  # Output: Alice\n"
      ],
      "metadata": {
        "colab": {
          "base_uri": "https://localhost:8080/"
        },
        "id": "gSWaAqtdTqFa",
        "outputId": "2f140ee0-1ff0-4d98-ecc6-99ff1234490d"
      },
      "execution_count": 54,
      "outputs": [
        {
          "output_type": "stream",
          "name": "stdout",
          "text": [
            "Alice\n"
          ]
        }
      ]
    },
    {
      "cell_type": "code",
      "source": [
        "# Adding or Updating Items\n",
        "my_dict[\"age\"] = 31  # Update existing key\n",
        "my_dict[\"country\"] = \"USA\"  # Add new key-value pair\n",
        "print(my_dict)  # Output: {'name': 'Alice', 'age': 31, 'country': 'USA'}"
      ],
      "metadata": {
        "colab": {
          "base_uri": "https://localhost:8080/"
        },
        "id": "9jaEKSXqTu4d",
        "outputId": "28fe5e73-9f8d-45c7-c04d-73bc47bd915b"
      },
      "execution_count": 55,
      "outputs": [
        {
          "output_type": "stream",
          "name": "stdout",
          "text": [
            "{'name': 'Alice', 'age': 31, 'country': 'USA'}\n"
          ]
        }
      ]
    },
    {
      "cell_type": "code",
      "source": [
        "# Removing Items\n",
        "# Example using pop()\n",
        "removed_value = my_dict.pop(\"city\", None)  # Remove key and return its value\n",
        "print(removed_value)  # Output: None (if key not found)\n",
        "print(my_dict)        # Output: {'name': 'Alice', 'age': 31}\n",
        "\n",
        "# Example using del\n",
        "del my_dict[\"age\"]\n",
        "print(my_dict)        # Output: {'name': 'Alice'}\n"
      ],
      "metadata": {
        "colab": {
          "base_uri": "https://localhost:8080/"
        },
        "id": "G1SiZbvlTz3h",
        "outputId": "46ee1d16-f7af-4e62-8599-6452c022de95"
      },
      "execution_count": 56,
      "outputs": [
        {
          "output_type": "stream",
          "name": "stdout",
          "text": [
            "None\n",
            "{'name': 'Alice', 'age': 31, 'country': 'USA'}\n",
            "{'name': 'Alice', 'country': 'USA'}\n"
          ]
        }
      ]
    },
    {
      "cell_type": "code",
      "source": [
        "# Iterating Through a Dictionary\n",
        "# Example of iterating through keys and values\n",
        "for key, value in my_dict.items():\n",
        "    print(f\"{key}: {value}\")\n",
        "# Output: name: Alice, country: USA\n"
      ],
      "metadata": {
        "colab": {
          "base_uri": "https://localhost:8080/"
        },
        "id": "4fnZSa7UUtai",
        "outputId": "1d1b3d77-f1cc-4497-c816-eb5e28fdf127"
      },
      "execution_count": 57,
      "outputs": [
        {
          "output_type": "stream",
          "name": "stdout",
          "text": [
            "name: Alice\n",
            "country: USA\n"
          ]
        }
      ]
    },
    {
      "cell_type": "code",
      "source": [
        "# Using Nested Dictionaries\n",
        "# Example of nested dictionaries\n",
        "my_family = {\n",
        "    \"child1\": {\"name\": \"Emil\", \"year\": 2004},\n",
        "    \"child2\": {\"name\": \"Tobias\", \"year\": 2007},\n",
        "}\n",
        "print(my_family[\"child1\"][\"name\"])  # Output: Emil\n"
      ],
      "metadata": {
        "colab": {
          "base_uri": "https://localhost:8080/"
        },
        "id": "Q2-8IVXrU6aH",
        "outputId": "85486352-d97c-4ee4-af76-c0d6b09c1809"
      },
      "execution_count": 58,
      "outputs": [
        {
          "output_type": "stream",
          "name": "stdout",
          "text": [
            "Emil\n"
          ]
        }
      ]
    },
    {
      "cell_type": "code",
      "source": [
        "# Dictionary Comprehensions\n",
        "# Example of dictionary comprehension\n",
        "squares = {x: x**2 for x in range(5)}\n",
        "print(squares)  # Output: {0: 0, 1: 1, 2: 4, 3: 9, 4: 16}"
      ],
      "metadata": {
        "colab": {
          "base_uri": "https://localhost:8080/"
        },
        "id": "ZAXzaxldVJkb",
        "outputId": "4b02f05c-e129-43c9-9008-9b039d5626f0"
      },
      "execution_count": 59,
      "outputs": [
        {
          "output_type": "stream",
          "name": "stdout",
          "text": [
            "{0: 0, 1: 1, 2: 4, 3: 9, 4: 16}\n"
          ]
        }
      ]
    },
    {
      "cell_type": "code",
      "source": [
        "# Merging Dictionaries\n",
        "# Example using update()\n",
        "dict_a = {\"a\": 1, \"b\": 2}\n",
        "dict_b = {\"b\": 3, \"c\": 4}\n",
        "dict_a.update(dict_b)\n",
        "print(dict_a)   # Output: {'a': 1, 'b': 3, 'c': 4}\n",
        "\n",
        "# Example using | operator (Python 3.9+)\n",
        "merged_dict = dict_a | dict_b\n",
        "print(merged_dict)   # Output: {'a': 1, 'b': 3, 'c': 4}"
      ],
      "metadata": {
        "colab": {
          "base_uri": "https://localhost:8080/"
        },
        "id": "XMeZtqzbWBzA",
        "outputId": "a8d18557-dfa1-41f3-a9e0-23e0ffd4b78e"
      },
      "execution_count": 60,
      "outputs": [
        {
          "output_type": "stream",
          "name": "stdout",
          "text": [
            "{'a': 1, 'b': 3, 'c': 4}\n",
            "{'a': 1, 'b': 3, 'c': 4}\n"
          ]
        }
      ]
    },
    {
      "cell_type": "code",
      "source": [
        "# Getting Keys and Values\n",
        "# Example of getting keys and values\n",
        "keys = my_dict.keys()\n",
        "values = my_dict.values()\n",
        "print(keys)   # Output: dict_keys(['name'])\n",
        "print(values) # Output: dict_values(['Alice'])"
      ],
      "metadata": {
        "colab": {
          "base_uri": "https://localhost:8080/"
        },
        "id": "IzNcPOJAWa4T",
        "outputId": "3f95330b-36e8-4cc3-e855-42db67fc0b92"
      },
      "execution_count": 61,
      "outputs": [
        {
          "output_type": "stream",
          "name": "stdout",
          "text": [
            "dict_keys(['name', 'country'])\n",
            "dict_values(['Alice', 'USA'])\n"
          ]
        }
      ]
    },
    {
      "cell_type": "code",
      "source": [
        "# Default Values with get()\n",
        "# Example using get()\n",
        "value = my_dict.get(\"city\", \"Not Found\")\n",
        "print(value)   # Output: Not Found (since city key does not exist)"
      ],
      "metadata": {
        "colab": {
          "base_uri": "https://localhost:8080/"
        },
        "id": "PCZhEPCkWo0j",
        "outputId": "2bcce7d1-0335-4679-838b-e7251f1f04a3"
      },
      "execution_count": 62,
      "outputs": [
        {
          "output_type": "stream",
          "name": "stdout",
          "text": [
            "Not Found\n"
          ]
        }
      ]
    },
    {
      "cell_type": "code",
      "source": [
        "# Merging Dictionaries\n"
      ],
      "metadata": {
        "id": "iO8rlKUzW_mJ"
      },
      "execution_count": null,
      "outputs": []
    }
  ],
  "metadata": {
    "kernelspec": {
      "display_name": "Python 3",
      "language": "python",
      "name": "python3"
    },
    "language_info": {
      "codemirror_mode": {
        "name": "ipython",
        "version": 3
      },
      "file_extension": ".py",
      "mimetype": "text/x-python",
      "name": "python",
      "nbconvert_exporter": "python",
      "pygments_lexer": "ipython3",
      "version": "3.12.0"
    },
    "colab": {
      "provenance": [],
      "include_colab_link": true
    }
  },
  "nbformat": 4,
  "nbformat_minor": 0
}