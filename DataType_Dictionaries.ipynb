{
  "cells": [
    {
      "cell_type": "markdown",
      "metadata": {
        "id": "view-in-github",
        "colab_type": "text"
      },
      "source": [
        "<a href=\"https://colab.research.google.com/github/valentijnbongers/bacis_python_functions/blob/main/DataType_Dictionaries.ipynb\" target=\"_parent\"><img src=\"https://colab.research.google.com/assets/colab-badge.svg\" alt=\"Open In Colab\"/></a>"
      ]
    },
    {
      "cell_type": "markdown",
      "metadata": {
        "id": "sIowQ1ioDNPb"
      },
      "source": [
        "#### Dictionaries\n",
        "Video Outline:\n",
        "1. Introduction to Dictionaries\n",
        "2. Creating Dictionaries\n",
        "3. Accessing Dictionary Elements\n",
        "4. Modifying Dictionary Elements\n",
        "5. Dictionary Methods\n",
        "6. Iterating Over Dictionaries\n",
        "7. Nested Dictionaries\n",
        "8. Dictionary Comprehensions\n",
        "9. Practical Examples and Common Errors"
      ]
    },
    {
      "cell_type": "markdown",
      "metadata": {
        "id": "UvQKrM7aDNPd"
      },
      "source": [
        "##### Introduction to Dictionaries\n",
        "\n",
        "Dictionaries are unordered collections of items. They store data in key-value pairs.\n",
        "Keys must be unique and immutable (e.g., strings, numbers, or tuples), while values can be of any type."
      ]
    },
    {
      "cell_type": "code",
      "execution_count": null,
      "metadata": {
        "id": "aaX_2aqJDNPd",
        "outputId": "4ec7561a-9834-42ee-ed71-66c4e9940485"
      },
      "outputs": [
        {
          "name": "stdout",
          "output_type": "stream",
          "text": [
            "<class 'dict'>\n"
          ]
        }
      ],
      "source": [
        "## Creating Dictionaries\n",
        "empty_dict={}\n",
        "print(type(empty_dict))"
      ]
    },
    {
      "cell_type": "code",
      "execution_count": null,
      "metadata": {
        "id": "rjZ5hKaIDNPe",
        "outputId": "1acdbaf4-be09-49e2-eefb-263eb6726db6"
      },
      "outputs": [
        {
          "data": {
            "text/plain": [
              "{}"
            ]
          },
          "execution_count": 2,
          "metadata": {},
          "output_type": "execute_result"
        }
      ],
      "source": [
        "empty_dict=dict()\n",
        "empty_dict"
      ]
    },
    {
      "cell_type": "code",
      "execution_count": null,
      "metadata": {
        "id": "CXdHxSrIDNPe",
        "outputId": "6f993e68-6efb-48de-ed68-81889c7aff94"
      },
      "outputs": [
        {
          "name": "stdout",
          "output_type": "stream",
          "text": [
            "{'name': 'Krish', 'age': 32, 'grade': 24}\n",
            "<class 'dict'>\n"
          ]
        }
      ],
      "source": [
        "student={\"name\":\"Krish\",\"age\":32,\"grade\":24}\n",
        "print(student)\n",
        "print(type(student))"
      ]
    },
    {
      "cell_type": "code",
      "execution_count": null,
      "metadata": {
        "id": "qs3Q5HVTDNPe",
        "outputId": "9d5abbd1-b3a6-4e24-f2f3-cdbdc96c7d04"
      },
      "outputs": [
        {
          "name": "stdout",
          "output_type": "stream",
          "text": [
            "{'name': 24, 'age': 32}\n"
          ]
        }
      ],
      "source": [
        "# Single key is slways used\n",
        "student={\"name\":\"Krish\",\"age\":32,\"name\":24}\n",
        "print(student)"
      ]
    },
    {
      "cell_type": "code",
      "execution_count": null,
      "metadata": {
        "id": "KUufJ27RDNPf",
        "outputId": "bb7e8121-3e82-403a-d809-a40ec9cd5abf"
      },
      "outputs": [
        {
          "name": "stdout",
          "output_type": "stream",
          "text": [
            "{'name': 'Krish', 'age': 32, 'grade': 'A'}\n"
          ]
        }
      ],
      "source": [
        "## accessing Dictionary Elements\n",
        "student={\"name\":\"Krish\",\"age\":32,\"grade\":'A'}\n",
        "print(student)"
      ]
    },
    {
      "cell_type": "code",
      "execution_count": null,
      "metadata": {
        "id": "e42zbDy_DNPf",
        "outputId": "a6a572c2-5e4d-4a40-eddc-778abaaea6ec"
      },
      "outputs": [
        {
          "name": "stdout",
          "output_type": "stream",
          "text": [
            "A\n",
            "32\n",
            "A\n",
            "None\n",
            "Not Available\n"
          ]
        }
      ],
      "source": [
        "## Accessing Dictionary elements\n",
        "print(student['grade'])\n",
        "print(student['age'])\n",
        "\n",
        "## Accessing using get() method\n",
        "print(student.get('grade'))\n",
        "print(student.get('last_name'))\n",
        "print(student.get('last_name',\"Not Available\"))\n"
      ]
    },
    {
      "cell_type": "code",
      "execution_count": null,
      "metadata": {
        "id": "3QM1ZuefDNPf",
        "outputId": "e70d1a4d-8521-4623-c257-85ceb3b54cde"
      },
      "outputs": [
        {
          "name": "stdout",
          "output_type": "stream",
          "text": [
            "{'name': 'Krish', 'age': 32, 'grade': 'A'}\n"
          ]
        }
      ],
      "source": [
        "## Modifying Dicitonary Elements\n",
        "## Dictionary are mutable,so you can add, update or delete elements\n",
        "print(student)"
      ]
    },
    {
      "cell_type": "code",
      "execution_count": null,
      "metadata": {
        "id": "1QIGR2VqDNPf",
        "outputId": "2816cef2-eec5-4376-9209-762c417f237c"
      },
      "outputs": [
        {
          "name": "stdout",
          "output_type": "stream",
          "text": [
            "{'name': 'Krish', 'age': 33, 'grade': 'A'}\n",
            "{'name': 'Krish', 'age': 33, 'grade': 'A', 'address': 'India'}\n"
          ]
        }
      ],
      "source": [
        "student[\"age\"]=33  ##update value for the key\n",
        "print(student)\n",
        "student[\"address\"]=\"India\" ## added a new key and value\n",
        "print(student)"
      ]
    },
    {
      "cell_type": "code",
      "execution_count": null,
      "metadata": {
        "id": "_EA7qipkDNPg",
        "outputId": "6a4a9c3e-c966-4a29-d33c-4236a786b98d"
      },
      "outputs": [
        {
          "name": "stdout",
          "output_type": "stream",
          "text": [
            "{'name': 'Krish', 'age': 33, 'address': 'India'}\n"
          ]
        }
      ],
      "source": [
        "del student['grade'] ## delete key and value pair\n",
        "\n",
        "print(student)"
      ]
    },
    {
      "cell_type": "code",
      "execution_count": null,
      "metadata": {
        "id": "T_fkskrpDNPg",
        "outputId": "c8e442a5-2ea9-4e2b-fac3-b3a9743f0509"
      },
      "outputs": [
        {
          "name": "stdout",
          "output_type": "stream",
          "text": [
            "dict_keys(['name', 'age', 'address'])\n",
            "dict_values(['Krish', 33, 'India'])\n",
            "dict_items([('name', 'Krish'), ('age', 33), ('address', 'India')])\n"
          ]
        }
      ],
      "source": [
        "## Dictionary methods\n",
        "\n",
        "keys=student.keys() ##get all the keys\n",
        "print(keys)\n",
        "values=student.values() ##get all values\n",
        "print(values)\n",
        "\n",
        "items=student.items() ##get all key value pairs\n",
        "print(items)"
      ]
    },
    {
      "cell_type": "code",
      "execution_count": null,
      "metadata": {
        "id": "k2HO4RshDNPg",
        "outputId": "cfaba799-40f2-4b16-cdf5-5c9a74d705a4"
      },
      "outputs": [
        {
          "name": "stdout",
          "output_type": "stream",
          "text": [
            "{'name': 'Krish1', 'age': 33, 'address': 'India'}\n",
            "{'name': 'Krish1', 'age': 33, 'address': 'India'}\n"
          ]
        }
      ],
      "source": [
        "## shallow copy\n",
        "student_copy=student\n",
        "print(student)\n",
        "print(student_copy)"
      ]
    },
    {
      "cell_type": "code",
      "execution_count": null,
      "metadata": {
        "id": "JuvWPphiDNPg",
        "outputId": "68290e4c-862a-4e7d-c44c-9361e905bfdf"
      },
      "outputs": [
        {
          "name": "stdout",
          "output_type": "stream",
          "text": [
            "{'name': 'Krish2', 'age': 33, 'address': 'India'}\n",
            "{'name': 'Krish2', 'age': 33, 'address': 'India'}\n"
          ]
        }
      ],
      "source": [
        "student[\"name\"]=\"Krish2\"\n",
        "print(student)\n",
        "print(student_copy)\n"
      ]
    },
    {
      "cell_type": "code",
      "execution_count": null,
      "metadata": {
        "id": "TDmXk93aDNPg",
        "outputId": "ee7240f6-ae55-4fe3-af7d-aa578deea96e"
      },
      "outputs": [
        {
          "name": "stdout",
          "output_type": "stream",
          "text": [
            "{'name': 'Krish2', 'age': 33, 'address': 'India'}\n",
            "{'name': 'Krish2', 'age': 33, 'address': 'India'}\n"
          ]
        }
      ],
      "source": [
        "student_copy1=student.copy() ## shallow copy\n",
        "print(student_copy1)\n",
        "print(student)"
      ]
    },
    {
      "cell_type": "code",
      "execution_count": null,
      "metadata": {
        "id": "FBqCN5qWDNPg",
        "outputId": "ea791229-70e9-427d-c542-de00f8999fde"
      },
      "outputs": [
        {
          "name": "stdout",
          "output_type": "stream",
          "text": [
            "{'name': 'Krish2', 'age': 33, 'address': 'India'}\n",
            "{'name': 'KRish3', 'age': 33, 'address': 'India'}\n"
          ]
        }
      ],
      "source": [
        "student[\"name\"]=\"KRish3\"\n",
        "print(student_copy1)\n",
        "print(student)"
      ]
    },
    {
      "cell_type": "code",
      "execution_count": null,
      "metadata": {
        "id": "YTGWjHOIDNPg",
        "outputId": "ebc5d2a5-5657-45b5-90d5-6736a997c468"
      },
      "outputs": [
        {
          "name": "stdout",
          "output_type": "stream",
          "text": [
            "name\n",
            "age\n",
            "address\n"
          ]
        }
      ],
      "source": [
        "### Iterating Over Dictionaries\n",
        "## You can use loops to iterate over dictionatries, keys,values,or items\n",
        "\n",
        "## Iterating over keys\n",
        "for keys in student.keys():\n",
        "    print(keys)\n"
      ]
    },
    {
      "cell_type": "code",
      "execution_count": null,
      "metadata": {
        "id": "BwQ-nVxrDNPg",
        "outputId": "6e8c50d4-e3da-4b7b-db3a-da9e8b50cfcf"
      },
      "outputs": [
        {
          "name": "stdout",
          "output_type": "stream",
          "text": [
            "KRish3\n",
            "33\n",
            "India\n"
          ]
        }
      ],
      "source": [
        "## Iterate over values\n",
        "for value in student.values():\n",
        "    print(value)"
      ]
    },
    {
      "cell_type": "code",
      "execution_count": null,
      "metadata": {
        "id": "BYlOS1FRDNPg",
        "outputId": "1ebd4595-6c7c-47ad-8cf3-eb52725e0c32"
      },
      "outputs": [
        {
          "name": "stdout",
          "output_type": "stream",
          "text": [
            "name:KRish3\n",
            "age:33\n",
            "address:India\n"
          ]
        }
      ],
      "source": [
        "## Iterate over key value pairs\n",
        "for key,value in student.items():\n",
        "    print(f\"{key}:{value}\")"
      ]
    },
    {
      "cell_type": "code",
      "execution_count": null,
      "metadata": {
        "id": "m6wXELPjDNPg",
        "outputId": "7ef9f697-5842-464f-d745-d360e47a2a0a"
      },
      "outputs": [
        {
          "name": "stdout",
          "output_type": "stream",
          "text": [
            "{'student1': {'name': 'Krish', 'age': 32}, 'student2': {'name': 'Peter', 'age': 35}}\n"
          ]
        }
      ],
      "source": [
        "## Nested Disctionaries\n",
        "students={\n",
        "    \"student1\":{\"name\":\"Krish\",\"age\":32},\n",
        "    \"student2\":{\"name\":\"Peter\",\"age\":35}\n",
        "}\n",
        "print(students)"
      ]
    },
    {
      "cell_type": "code",
      "execution_count": null,
      "metadata": {
        "id": "mxbVm0d_DNPg",
        "outputId": "043402e4-5a25-495a-cdb5-6ce26e87f264"
      },
      "outputs": [
        {
          "name": "stdout",
          "output_type": "stream",
          "text": [
            "Peter\n",
            "35\n"
          ]
        }
      ],
      "source": [
        "## Access nested dictionaries elementss\n",
        "print(students[\"student2\"][\"name\"])\n",
        "print(students[\"student2\"][\"age\"])"
      ]
    },
    {
      "cell_type": "code",
      "execution_count": null,
      "metadata": {
        "id": "PeKFcU1eDNPg",
        "outputId": "12c07d04-50d3-46a9-d598-e72d96a9cf4c"
      },
      "outputs": [
        {
          "data": {
            "text/plain": [
              "dict_items([('student1', {'name': 'Krish', 'age': 32}), ('student2', {'name': 'Peter', 'age': 35})])"
            ]
          },
          "execution_count": 32,
          "metadata": {},
          "output_type": "execute_result"
        }
      ],
      "source": [
        "students.items()"
      ]
    },
    {
      "cell_type": "code",
      "execution_count": null,
      "metadata": {
        "id": "xbg1pogZDNPg",
        "outputId": "35377f6d-4804-478f-ef62-a4a93d4a901f"
      },
      "outputs": [
        {
          "name": "stdout",
          "output_type": "stream",
          "text": [
            "student1:{'name': 'Krish', 'age': 32}\n",
            "name:Krish\n",
            "age:32\n",
            "student2:{'name': 'Peter', 'age': 35}\n",
            "name:Peter\n",
            "age:35\n"
          ]
        }
      ],
      "source": [
        "## Iterating over nested dictionaries\n",
        "for student_id,student_info in students.items():\n",
        "    print(f\"{student_id}:{student_info}\")\n",
        "    for key,value in student_info.items():\n",
        "        print(f\"{key}:{value}\")\n"
      ]
    },
    {
      "cell_type": "code",
      "execution_count": null,
      "metadata": {
        "id": "Z3g8Cdr5DNPh",
        "outputId": "9389c3c8-c352-4352-d4c3-7861c18d018e"
      },
      "outputs": [
        {
          "name": "stdout",
          "output_type": "stream",
          "text": [
            "{0: 0, 1: 1, 2: 4, 3: 9, 4: 16}\n"
          ]
        }
      ],
      "source": [
        "## Dictionary Comphrehension\n",
        "squares={x:x**2 for x in range(5)}\n",
        "print(squares)"
      ]
    },
    {
      "cell_type": "code",
      "execution_count": null,
      "metadata": {
        "id": "EYrLFGPUDNPh",
        "outputId": "55ebab91-fb7f-4411-cfec-779d663036ca"
      },
      "outputs": [
        {
          "name": "stdout",
          "output_type": "stream",
          "text": [
            "{0: 0, 2: 4, 4: 16, 6: 36, 8: 64}\n"
          ]
        }
      ],
      "source": [
        "## Condition dictionary comprehension\n",
        "evens={x:x**2 for x in range(10) if x%2==0}\n",
        "print(evens)"
      ]
    },
    {
      "cell_type": "code",
      "execution_count": null,
      "metadata": {
        "id": "jIxXpKIsDNPh",
        "outputId": "152a6ceb-8b66-4ca2-beb2-64f6b0e6f2a4"
      },
      "outputs": [
        {
          "name": "stdout",
          "output_type": "stream",
          "text": [
            "{1: 1, 2: 2, 3: 3, 4: 4}\n"
          ]
        }
      ],
      "source": [
        "## Practical Examples\n",
        "\n",
        "## USe a dictionary to count he frequency of elements in list\n",
        "\n",
        "numbers=[1,2,2,3,3,3,4,4,4,4]\n",
        "frequency={}\n",
        "\n",
        "for number in numbers:\n",
        "    if number in frequency:\n",
        "        frequency[number]+=1\n",
        "    else:\n",
        "        frequency[number]=1\n",
        "print(frequency)\n"
      ]
    },
    {
      "cell_type": "code",
      "execution_count": null,
      "metadata": {
        "id": "91en0YLiDNPh",
        "outputId": "1289855a-abf7-43ba-e9e9-bc92e215422e"
      },
      "outputs": [
        {
          "name": "stdout",
          "output_type": "stream",
          "text": [
            "{'a': 1, 'b': 3, 'c': 4}\n"
          ]
        }
      ],
      "source": [
        "## Merge 2 dictionaries into one\n",
        "\n",
        "dict1={\"a\":1,\"b\":2}\n",
        "dict2={\"b\":3,\"c\":4}\n",
        "merged_dict={**dict1,**dict2}\n",
        "print(merged_dict)"
      ]
    },
    {
      "cell_type": "markdown",
      "metadata": {
        "id": "CiBtLs8tDNPh"
      },
      "source": [
        "#### Conclusion\n",
        "Dictionaries are powerful tools in Python for managing key-value pairs. They are used in a variety of real-world scenarios, such as counting word frequency, grouping data, storing configuration settings, managing phonebooks, tracking inventory, and caching results. Understanding how to leverage dictionaries effectively can greatly enhance the efficiency and readability of your code."
      ]
    },
    {
      "cell_type": "code",
      "execution_count": null,
      "metadata": {
        "id": "oSpqctNUDNPh"
      },
      "outputs": [],
      "source": []
    }
  ],
  "metadata": {
    "kernelspec": {
      "display_name": "Python 3",
      "language": "python",
      "name": "python3"
    },
    "language_info": {
      "codemirror_mode": {
        "name": "ipython",
        "version": 3
      },
      "file_extension": ".py",
      "mimetype": "text/x-python",
      "name": "python",
      "nbconvert_exporter": "python",
      "pygments_lexer": "ipython3",
      "version": "3.12.0"
    },
    "colab": {
      "provenance": [],
      "include_colab_link": true
    }
  },
  "nbformat": 4,
  "nbformat_minor": 0
}