{
  "cells": [
    {
      "cell_type": "markdown",
      "metadata": {
        "id": "view-in-github",
        "colab_type": "text"
      },
      "source": [
        "<a href=\"https://colab.research.google.com/github/valentijnbongers/bacis_python_functions/blob/main/DataType_Dictionaries.ipynb\" target=\"_parent\"><img src=\"https://colab.research.google.com/assets/colab-badge.svg\" alt=\"Open In Colab\"/></a>"
      ]
    },
    {
      "cell_type": "markdown",
      "metadata": {
        "id": "sIowQ1ioDNPb"
      },
      "source": [
        "#### Dictionaries\n",
        "Video Outline:\n",
        "1. Introduction to Dictionaries\n",
        "2. Creating Dictionaries\n",
        "3. Accessing Dictionary Elements\n",
        "4. Modifying Dictionary Elements\n",
        "5. Dictionary Methods\n",
        "6. Iterating Over Dictionaries\n",
        "7. Nested Dictionaries\n",
        "8. Dictionary Comprehensions\n",
        "9. Practical Examples and Common Errors"
      ]
    },
    {
      "cell_type": "markdown",
      "metadata": {
        "id": "UvQKrM7aDNPd"
      },
      "source": [
        "##### Introduction to Dictionaries\n",
        "\n",
        "Dictionaries are unordered collections of items. They store data in key-value pairs.\n",
        "Keys must be unique and immutable (e.g., strings, numbers, or tuples), while values can be of any type."
      ]
    },
    {
      "cell_type": "code",
      "execution_count": 1,
      "metadata": {
        "colab": {
          "base_uri": "https://localhost:8080/"
        },
        "id": "aaX_2aqJDNPd",
        "outputId": "c8e4160f-c835-4615-f10d-d179d5ebc852"
      },
      "outputs": [
        {
          "output_type": "stream",
          "name": "stdout",
          "text": [
            "<class 'dict'>\n"
          ]
        }
      ],
      "source": [
        "## Creating Dictionaries\n",
        "empty_dict={}\n",
        "print(type(empty_dict))"
      ]
    },
    {
      "cell_type": "code",
      "source": [
        "## Creating Dictionaries\n",
        "empty_dict={}\n",
        "print(empty_dict)"
      ],
      "metadata": {
        "colab": {
          "base_uri": "https://localhost:8080/"
        },
        "id": "AHWCzUUADbqd",
        "outputId": "c39e5b12-9568-48ba-be96-9beb86f8c31a"
      },
      "execution_count": 2,
      "outputs": [
        {
          "output_type": "stream",
          "name": "stdout",
          "text": [
            "{}\n"
          ]
        }
      ]
    },
    {
      "cell_type": "code",
      "execution_count": 3,
      "metadata": {
        "colab": {
          "base_uri": "https://localhost:8080/"
        },
        "id": "rjZ5hKaIDNPe",
        "outputId": "a9c2d3b8-0ffe-4c39-8d10-330f0428d850"
      },
      "outputs": [
        {
          "output_type": "execute_result",
          "data": {
            "text/plain": [
              "{}"
            ]
          },
          "metadata": {},
          "execution_count": 3
        }
      ],
      "source": [
        "empty_dict=dict()\n",
        "empty_dict"
      ]
    },
    {
      "cell_type": "code",
      "execution_count": 4,
      "metadata": {
        "colab": {
          "base_uri": "https://localhost:8080/"
        },
        "id": "CXdHxSrIDNPe",
        "outputId": "d5af85b3-cb98-4064-d9a6-5d5c0100cc1a"
      },
      "outputs": [
        {
          "output_type": "stream",
          "name": "stdout",
          "text": [
            "{'name': 'Valentijn', 'age': 18, 'grade': 10}\n",
            "<class 'dict'>\n"
          ]
        }
      ],
      "source": [
        "student={\"name\":\"Valentijn\",\"age\":18,\"grade\":10}\n",
        "print(student)\n",
        "print(type(student))"
      ]
    },
    {
      "cell_type": "code",
      "execution_count": 6,
      "metadata": {
        "colab": {
          "base_uri": "https://localhost:8080/"
        },
        "id": "qs3Q5HVTDNPe",
        "outputId": "5664454a-4cd7-4d58-9d93-1777ee39e707"
      },
      "outputs": [
        {
          "output_type": "stream",
          "name": "stdout",
          "text": [
            "{'name': 24, 'age': 18}\n"
          ]
        }
      ],
      "source": [
        "# Single key is always used\n",
        "student={\"name\":\"Valentijn\",\"age\":18,\"name\":24}\n",
        "print(student)"
      ]
    },
    {
      "cell_type": "code",
      "execution_count": 7,
      "metadata": {
        "colab": {
          "base_uri": "https://localhost:8080/"
        },
        "id": "KUufJ27RDNPf",
        "outputId": "a1e27f4f-aeb5-4ace-dfcc-8b7fa6517c73"
      },
      "outputs": [
        {
          "output_type": "stream",
          "name": "stdout",
          "text": [
            "{'name': 'Valentijn', 'age': 18, 'grade': 'A'}\n"
          ]
        }
      ],
      "source": [
        "## accessing Dictionary Elements\n",
        "student={\"name\":\"Valentijn\",\"age\":18,\"grade\":'A'}\n",
        "print(student)"
      ]
    },
    {
      "cell_type": "code",
      "execution_count": 8,
      "metadata": {
        "colab": {
          "base_uri": "https://localhost:8080/"
        },
        "id": "e42zbDy_DNPf",
        "outputId": "f87c4665-043f-47c9-d81b-7f42e2b93dd1"
      },
      "outputs": [
        {
          "output_type": "stream",
          "name": "stdout",
          "text": [
            "A\n",
            "18\n",
            "A\n",
            "None\n",
            "Not Available\n"
          ]
        }
      ],
      "source": [
        "## Accessing Dictionary elements\n",
        "print(student['grade'])\n",
        "print(student['age'])\n",
        "\n",
        "## Accessing using get() method\n",
        "print(student.get('grade'))\n",
        "print(student.get('last_name'))\n",
        "print(student.get('last_name',\"Not Available\"))\n"
      ]
    },
    {
      "cell_type": "code",
      "execution_count": 9,
      "metadata": {
        "colab": {
          "base_uri": "https://localhost:8080/"
        },
        "id": "3QM1ZuefDNPf",
        "outputId": "fed34128-ff5d-4c73-a01c-50018f9e606f"
      },
      "outputs": [
        {
          "output_type": "stream",
          "name": "stdout",
          "text": [
            "{'name': 'Valentijn', 'age': 18, 'grade': 'A'}\n"
          ]
        }
      ],
      "source": [
        "## Modifying Dicitonary Elements\n",
        "## Dictionary are mutable,so you can add, update or delete elements\n",
        "print(student)"
      ]
    },
    {
      "cell_type": "code",
      "execution_count": 10,
      "metadata": {
        "colab": {
          "base_uri": "https://localhost:8080/"
        },
        "id": "1QIGR2VqDNPf",
        "outputId": "36baeafc-694b-4e36-b86e-a8cd682c2548"
      },
      "outputs": [
        {
          "output_type": "stream",
          "name": "stdout",
          "text": [
            "{'name': 'Valentijn', 'age': 21, 'grade': 'A'}\n",
            "{'name': 'Valentijn', 'age': 21, 'grade': 'A', 'address': 'Kuala Lumpur'}\n"
          ]
        }
      ],
      "source": [
        "student[\"age\"]=21  ##update value for the key\n",
        "print(student)\n",
        "student[\"address\"]=\"Kuala Lumpur\" ## added a new key and value\n",
        "print(student)"
      ]
    },
    {
      "cell_type": "code",
      "execution_count": 11,
      "metadata": {
        "colab": {
          "base_uri": "https://localhost:8080/"
        },
        "id": "_EA7qipkDNPg",
        "outputId": "0370852f-64f1-467d-9d9c-3b39fe3048a8"
      },
      "outputs": [
        {
          "output_type": "stream",
          "name": "stdout",
          "text": [
            "{'name': 'Valentijn', 'age': 21, 'address': 'Kuala Lumpur'}\n"
          ]
        }
      ],
      "source": [
        "del student['grade'] ## delete key and value pair\n",
        "\n",
        "print(student)"
      ]
    },
    {
      "cell_type": "code",
      "execution_count": 12,
      "metadata": {
        "colab": {
          "base_uri": "https://localhost:8080/"
        },
        "id": "T_fkskrpDNPg",
        "outputId": "9c558183-a0e1-4665-98f0-2c282bfa1a99"
      },
      "outputs": [
        {
          "output_type": "stream",
          "name": "stdout",
          "text": [
            "dict_keys(['name', 'age', 'address'])\n",
            "dict_values(['Valentijn', 21, 'Kuala Lumpur'])\n",
            "dict_items([('name', 'Valentijn'), ('age', 21), ('address', 'Kuala Lumpur')])\n"
          ]
        }
      ],
      "source": [
        "## Dictionary methods\n",
        "\n",
        "keys=student.keys() ##get all the keys\n",
        "print(keys)\n",
        "values=student.values() ##get all values\n",
        "print(values)\n",
        "\n",
        "items=student.items() ##get all key value pairs\n",
        "print(items)"
      ]
    },
    {
      "cell_type": "code",
      "execution_count": 13,
      "metadata": {
        "colab": {
          "base_uri": "https://localhost:8080/"
        },
        "id": "k2HO4RshDNPg",
        "outputId": "6fc59c8b-1213-4c42-8688-d73f5eac7d91"
      },
      "outputs": [
        {
          "output_type": "stream",
          "name": "stdout",
          "text": [
            "{'name': 'Valentijn', 'age': 21, 'address': 'Kuala Lumpur'}\n",
            "{'name': 'Valentijn', 'age': 21, 'address': 'Kuala Lumpur'}\n"
          ]
        }
      ],
      "source": [
        "## shallow copy\n",
        "student_copy=student\n",
        "print(student)\n",
        "print(student_copy)"
      ]
    },
    {
      "cell_type": "code",
      "execution_count": 14,
      "metadata": {
        "colab": {
          "base_uri": "https://localhost:8080/"
        },
        "id": "JuvWPphiDNPg",
        "outputId": "34a57fd7-1cad-4217-84b3-3e9af5a3d871"
      },
      "outputs": [
        {
          "output_type": "stream",
          "name": "stdout",
          "text": [
            "{'name': 'Valentijn2', 'age': 21, 'address': 'Kuala Lumpur'}\n",
            "{'name': 'Valentijn2', 'age': 21, 'address': 'Kuala Lumpur'}\n"
          ]
        }
      ],
      "source": [
        "student[\"name\"]=\"Valentijn2\"\n",
        "print(student)\n",
        "print(student_copy)\n"
      ]
    },
    {
      "cell_type": "code",
      "execution_count": 15,
      "metadata": {
        "colab": {
          "base_uri": "https://localhost:8080/"
        },
        "id": "TDmXk93aDNPg",
        "outputId": "47b240f5-977f-4599-940c-dea674ab7bef"
      },
      "outputs": [
        {
          "output_type": "stream",
          "name": "stdout",
          "text": [
            "{'name': 'Valentijn2', 'age': 21, 'address': 'Kuala Lumpur'}\n",
            "{'name': 'Valentijn2', 'age': 21, 'address': 'Kuala Lumpur'}\n"
          ]
        }
      ],
      "source": [
        "student_copy1=student.copy() ## shallow copy\n",
        "print(student_copy1)\n",
        "print(student)"
      ]
    },
    {
      "cell_type": "code",
      "execution_count": 16,
      "metadata": {
        "colab": {
          "base_uri": "https://localhost:8080/"
        },
        "id": "FBqCN5qWDNPg",
        "outputId": "61d3ff6c-4c7d-4006-835a-b7eafe91b7fb"
      },
      "outputs": [
        {
          "output_type": "stream",
          "name": "stdout",
          "text": [
            "{'name': 'Valentijn2', 'age': 21, 'address': 'Kuala Lumpur'}\n",
            "{'name': 'Valentijn3', 'age': 21, 'address': 'Kuala Lumpur'}\n"
          ]
        }
      ],
      "source": [
        "student[\"name\"]=\"Valentijn3\"\n",
        "print(student_copy1)\n",
        "print(student)"
      ]
    },
    {
      "cell_type": "code",
      "execution_count": 17,
      "metadata": {
        "colab": {
          "base_uri": "https://localhost:8080/"
        },
        "id": "YTGWjHOIDNPg",
        "outputId": "aea9e43f-0e65-406b-eeea-d58d0ef03b1c"
      },
      "outputs": [
        {
          "output_type": "stream",
          "name": "stdout",
          "text": [
            "name\n",
            "age\n",
            "address\n"
          ]
        }
      ],
      "source": [
        "### Iterating Over Dictionaries\n",
        "## You can use loops to iterate over dictionatries, keys,values,or items\n",
        "\n",
        "## Iterating over keys\n",
        "for keys in student.keys():\n",
        "    print(keys)"
      ]
    },
    {
      "cell_type": "code",
      "execution_count": 18,
      "metadata": {
        "colab": {
          "base_uri": "https://localhost:8080/"
        },
        "id": "BwQ-nVxrDNPg",
        "outputId": "098d721f-c719-4273-a995-e53c02f46e07"
      },
      "outputs": [
        {
          "output_type": "stream",
          "name": "stdout",
          "text": [
            "Valentijn3\n",
            "21\n",
            "Kuala Lumpur\n"
          ]
        }
      ],
      "source": [
        "## Iterate over values\n",
        "for value in student.values():\n",
        "    print(value)"
      ]
    },
    {
      "cell_type": "code",
      "execution_count": 20,
      "metadata": {
        "colab": {
          "base_uri": "https://localhost:8080/"
        },
        "id": "BYlOS1FRDNPg",
        "outputId": "a9cf9dc8-eba8-4612-97bf-bd76bba43fa8"
      },
      "outputs": [
        {
          "output_type": "stream",
          "name": "stdout",
          "text": [
            "name : Valentijn3\n",
            "age : 21\n",
            "address : Kuala Lumpur\n"
          ]
        }
      ],
      "source": [
        "## Iterate over key value pairs\n",
        "for key,value in student.items():\n",
        "    print(f\"{key} : {value}\")"
      ]
    },
    {
      "cell_type": "code",
      "execution_count": null,
      "metadata": {
        "id": "m6wXELPjDNPg",
        "outputId": "7ef9f697-5842-464f-d745-d360e47a2a0a"
      },
      "outputs": [
        {
          "name": "stdout",
          "output_type": "stream",
          "text": [
            "{'student1': {'name': 'Krish', 'age': 32}, 'student2': {'name': 'Peter', 'age': 35}}\n"
          ]
        }
      ],
      "source": [
        "## Nested Disctionaries\n",
        "students={\n",
        "    \"student1\":{\"name\":\"Krish\",\"age\":32},\n",
        "    \"student2\":{\"name\":\"Peter\",\"age\":35}\n",
        "}\n",
        "print(students)"
      ]
    },
    {
      "cell_type": "code",
      "execution_count": null,
      "metadata": {
        "id": "mxbVm0d_DNPg",
        "outputId": "043402e4-5a25-495a-cdb5-6ce26e87f264"
      },
      "outputs": [
        {
          "name": "stdout",
          "output_type": "stream",
          "text": [
            "Peter\n",
            "35\n"
          ]
        }
      ],
      "source": [
        "## Access nested dictionaries elementss\n",
        "print(students[\"student2\"][\"name\"])\n",
        "print(students[\"student2\"][\"age\"])"
      ]
    },
    {
      "cell_type": "code",
      "execution_count": null,
      "metadata": {
        "id": "PeKFcU1eDNPg",
        "outputId": "12c07d04-50d3-46a9-d598-e72d96a9cf4c"
      },
      "outputs": [
        {
          "data": {
            "text/plain": [
              "dict_items([('student1', {'name': 'Krish', 'age': 32}), ('student2', {'name': 'Peter', 'age': 35})])"
            ]
          },
          "execution_count": 32,
          "metadata": {},
          "output_type": "execute_result"
        }
      ],
      "source": [
        "students.items()"
      ]
    },
    {
      "cell_type": "code",
      "execution_count": null,
      "metadata": {
        "id": "xbg1pogZDNPg",
        "outputId": "35377f6d-4804-478f-ef62-a4a93d4a901f"
      },
      "outputs": [
        {
          "name": "stdout",
          "output_type": "stream",
          "text": [
            "student1:{'name': 'Krish', 'age': 32}\n",
            "name:Krish\n",
            "age:32\n",
            "student2:{'name': 'Peter', 'age': 35}\n",
            "name:Peter\n",
            "age:35\n"
          ]
        }
      ],
      "source": [
        "## Iterating over nested dictionaries\n",
        "for student_id,student_info in students.items():\n",
        "    print(f\"{student_id}:{student_info}\")\n",
        "    for key,value in student_info.items():\n",
        "        print(f\"{key}:{value}\")\n"
      ]
    },
    {
      "cell_type": "code",
      "execution_count": null,
      "metadata": {
        "id": "Z3g8Cdr5DNPh",
        "outputId": "9389c3c8-c352-4352-d4c3-7861c18d018e"
      },
      "outputs": [
        {
          "name": "stdout",
          "output_type": "stream",
          "text": [
            "{0: 0, 1: 1, 2: 4, 3: 9, 4: 16}\n"
          ]
        }
      ],
      "source": [
        "## Dictionary Comphrehension\n",
        "squares={x:x**2 for x in range(5)}\n",
        "print(squares)"
      ]
    },
    {
      "cell_type": "code",
      "execution_count": null,
      "metadata": {
        "id": "EYrLFGPUDNPh",
        "outputId": "55ebab91-fb7f-4411-cfec-779d663036ca"
      },
      "outputs": [
        {
          "name": "stdout",
          "output_type": "stream",
          "text": [
            "{0: 0, 2: 4, 4: 16, 6: 36, 8: 64}\n"
          ]
        }
      ],
      "source": [
        "## Condition dictionary comprehension\n",
        "evens={x:x**2 for x in range(10) if x%2==0}\n",
        "print(evens)"
      ]
    },
    {
      "cell_type": "code",
      "execution_count": null,
      "metadata": {
        "id": "jIxXpKIsDNPh",
        "outputId": "152a6ceb-8b66-4ca2-beb2-64f6b0e6f2a4"
      },
      "outputs": [
        {
          "name": "stdout",
          "output_type": "stream",
          "text": [
            "{1: 1, 2: 2, 3: 3, 4: 4}\n"
          ]
        }
      ],
      "source": [
        "## Practical Examples\n",
        "\n",
        "## USe a dictionary to count he frequency of elements in list\n",
        "\n",
        "numbers=[1,2,2,3,3,3,4,4,4,4]\n",
        "frequency={}\n",
        "\n",
        "for number in numbers:\n",
        "    if number in frequency:\n",
        "        frequency[number]+=1\n",
        "    else:\n",
        "        frequency[number]=1\n",
        "print(frequency)\n"
      ]
    },
    {
      "cell_type": "code",
      "execution_count": null,
      "metadata": {
        "id": "91en0YLiDNPh",
        "outputId": "1289855a-abf7-43ba-e9e9-bc92e215422e"
      },
      "outputs": [
        {
          "name": "stdout",
          "output_type": "stream",
          "text": [
            "{'a': 1, 'b': 3, 'c': 4}\n"
          ]
        }
      ],
      "source": [
        "## Merge 2 dictionaries into one\n",
        "\n",
        "dict1={\"a\":1,\"b\":2}\n",
        "dict2={\"b\":3,\"c\":4}\n",
        "merged_dict={**dict1,**dict2}\n",
        "print(merged_dict)"
      ]
    },
    {
      "cell_type": "markdown",
      "metadata": {
        "id": "CiBtLs8tDNPh"
      },
      "source": [
        "#### Conclusion\n",
        "Dictionaries are powerful tools in Python for managing key-value pairs. They are used in a variety of real-world scenarios, such as counting word frequency, grouping data, storing configuration settings, managing phonebooks, tracking inventory, and caching results. Understanding how to leverage dictionaries effectively can greatly enhance the efficiency and readability of your code."
      ]
    },
    {
      "cell_type": "code",
      "execution_count": null,
      "metadata": {
        "id": "oSpqctNUDNPh"
      },
      "outputs": [],
      "source": []
    }
  ],
  "metadata": {
    "kernelspec": {
      "display_name": "Python 3",
      "language": "python",
      "name": "python3"
    },
    "language_info": {
      "codemirror_mode": {
        "name": "ipython",
        "version": 3
      },
      "file_extension": ".py",
      "mimetype": "text/x-python",
      "name": "python",
      "nbconvert_exporter": "python",
      "pygments_lexer": "ipython3",
      "version": "3.12.0"
    },
    "colab": {
      "provenance": [],
      "include_colab_link": true
    }
  },
  "nbformat": 4,
  "nbformat_minor": 0
}