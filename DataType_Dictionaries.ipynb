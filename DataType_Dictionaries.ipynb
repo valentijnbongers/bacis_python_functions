{
  "cells": [
    {
      "cell_type": "markdown",
      "metadata": {
        "id": "view-in-github",
        "colab_type": "text"
      },
      "source": [
        "<a href=\"https://colab.research.google.com/github/valentijnbongers/bacis_python_functions/blob/main/DataType_Dictionaries.ipynb\" target=\"_parent\"><img src=\"https://colab.research.google.com/assets/colab-badge.svg\" alt=\"Open In Colab\"/></a>"
      ]
    },
    {
      "cell_type": "markdown",
      "metadata": {
        "id": "sIowQ1ioDNPb"
      },
      "source": [
        "#### Dictionaries\n",
        "Video Outline:\n",
        "1. Introduction to Dictionaries\n",
        "2. Creating Dictionaries\n",
        "3. Accessing Dictionary Elements\n",
        "4. Modifying Dictionary Elements\n",
        "5. Dictionary Methods\n",
        "6. Iterating Over Dictionaries\n",
        "7. Nested Dictionaries\n",
        "8. Dictionary Comprehensions\n",
        "9. Practical Examples and Common Errors"
      ]
    },
    {
      "cell_type": "markdown",
      "metadata": {
        "id": "UvQKrM7aDNPd"
      },
      "source": [
        "##### Introduction to Dictionaries\n",
        "\n",
        "Dictionaries are unordered collections of items. They store data in key-value pairs.\n",
        "Keys must be unique and immutable (e.g., strings, numbers, or tuples), while values can be of any type."
      ]
    },
    {
      "cell_type": "code",
      "execution_count": 65,
      "metadata": {
        "colab": {
          "base_uri": "https://localhost:8080/"
        },
        "id": "aaX_2aqJDNPd",
        "outputId": "32dc4df2-67f2-4cd5-925c-225ee82c8510"
      },
      "outputs": [
        {
          "output_type": "stream",
          "name": "stdout",
          "text": [
            "<class 'dict'>\n"
          ]
        }
      ],
      "source": [
        "## Creating Dictionaries\n",
        "empty_dict={}\n",
        "print(type(empty_dict))"
      ]
    },
    {
      "cell_type": "code",
      "source": [
        "## Creating Dictionaries\n",
        "empty_dict={}\n",
        "print(empty_dict)"
      ],
      "metadata": {
        "colab": {
          "base_uri": "https://localhost:8080/"
        },
        "id": "AHWCzUUADbqd",
        "outputId": "46548775-b58a-48fb-b69f-0fbc712c6c6c"
      },
      "execution_count": 66,
      "outputs": [
        {
          "output_type": "stream",
          "name": "stdout",
          "text": [
            "{}\n"
          ]
        }
      ]
    },
    {
      "cell_type": "code",
      "execution_count": 67,
      "metadata": {
        "colab": {
          "base_uri": "https://localhost:8080/"
        },
        "id": "rjZ5hKaIDNPe",
        "outputId": "51f79cea-e00c-4915-fcfd-0d3c2651c264"
      },
      "outputs": [
        {
          "output_type": "execute_result",
          "data": {
            "text/plain": [
              "{}"
            ]
          },
          "metadata": {},
          "execution_count": 67
        }
      ],
      "source": [
        "empty_dict=dict()\n",
        "empty_dict"
      ]
    },
    {
      "cell_type": "code",
      "execution_count": 68,
      "metadata": {
        "colab": {
          "base_uri": "https://localhost:8080/"
        },
        "id": "CXdHxSrIDNPe",
        "outputId": "08666ac1-3910-4005-b200-d0ac635c3214"
      },
      "outputs": [
        {
          "output_type": "stream",
          "name": "stdout",
          "text": [
            "{'name': 'Valentijn', 'age': 18, 'grade': 10}\n",
            "<class 'dict'>\n"
          ]
        }
      ],
      "source": [
        "student={\"name\":\"Valentijn\",\"age\":18,\"grade\":10}\n",
        "print(student)\n",
        "print(type(student))"
      ]
    },
    {
      "cell_type": "code",
      "execution_count": 69,
      "metadata": {
        "colab": {
          "base_uri": "https://localhost:8080/"
        },
        "id": "qs3Q5HVTDNPe",
        "outputId": "33582dc3-2a94-474b-f17d-3f6d2018611b"
      },
      "outputs": [
        {
          "output_type": "stream",
          "name": "stdout",
          "text": [
            "{'name': 24, 'age': 18}\n"
          ]
        }
      ],
      "source": [
        "# Single key is always used\n",
        "student={\"name\":\"Valentijn\",\"age\":18,\"name\":24}\n",
        "print(student)"
      ]
    },
    {
      "cell_type": "code",
      "execution_count": 70,
      "metadata": {
        "colab": {
          "base_uri": "https://localhost:8080/"
        },
        "id": "KUufJ27RDNPf",
        "outputId": "fca52499-763d-4c63-a1ee-3069410f20ce"
      },
      "outputs": [
        {
          "output_type": "stream",
          "name": "stdout",
          "text": [
            "{'name': 'Valentijn', 'age': 18, 'grade': 'A'}\n"
          ]
        }
      ],
      "source": [
        "## accessing Dictionary Elements\n",
        "student={\"name\":\"Valentijn\",\"age\":18,\"grade\":'A'}\n",
        "print(student)"
      ]
    },
    {
      "cell_type": "code",
      "execution_count": 71,
      "metadata": {
        "colab": {
          "base_uri": "https://localhost:8080/"
        },
        "id": "e42zbDy_DNPf",
        "outputId": "b0a85100-9b00-4ee3-c9cf-6d8fcfa51e1e"
      },
      "outputs": [
        {
          "output_type": "stream",
          "name": "stdout",
          "text": [
            "A\n",
            "18\n",
            "A\n",
            "None\n",
            "Not Available\n"
          ]
        }
      ],
      "source": [
        "## Accessing Dictionary elements\n",
        "print(student['grade'])\n",
        "print(student['age'])\n",
        "\n",
        "## Accessing using get() method\n",
        "print(student.get('grade'))\n",
        "print(student.get('last_name'))\n",
        "print(student.get('last_name',\"Not Available\"))\n"
      ]
    },
    {
      "cell_type": "code",
      "execution_count": 72,
      "metadata": {
        "colab": {
          "base_uri": "https://localhost:8080/"
        },
        "id": "3QM1ZuefDNPf",
        "outputId": "293e464c-dcf4-41e2-f631-ba657738800c"
      },
      "outputs": [
        {
          "output_type": "stream",
          "name": "stdout",
          "text": [
            "{'name': 'Valentijn', 'age': 18, 'grade': 'A'}\n"
          ]
        }
      ],
      "source": [
        "## Modifying Dicitonary Elements\n",
        "## Dictionary are mutable,so you can add, update or delete elements\n",
        "print(student)"
      ]
    },
    {
      "cell_type": "code",
      "execution_count": 73,
      "metadata": {
        "colab": {
          "base_uri": "https://localhost:8080/"
        },
        "id": "1QIGR2VqDNPf",
        "outputId": "1b703007-bc41-4ae3-c93e-dd34d423519b"
      },
      "outputs": [
        {
          "output_type": "stream",
          "name": "stdout",
          "text": [
            "{'name': 'Valentijn', 'age': 21, 'grade': 'A'}\n",
            "{'name': 'Valentijn', 'age': 21, 'grade': 'A', 'address': 'Kuala Lumpur'}\n"
          ]
        }
      ],
      "source": [
        "student[\"age\"]=21  ##update value for the key\n",
        "print(student)\n",
        "student[\"address\"]=\"Kuala Lumpur\" ## added a new key and value\n",
        "print(student)"
      ]
    },
    {
      "cell_type": "code",
      "execution_count": 74,
      "metadata": {
        "colab": {
          "base_uri": "https://localhost:8080/"
        },
        "id": "_EA7qipkDNPg",
        "outputId": "aa667c7a-1d32-4fec-f753-76a26fedc88b"
      },
      "outputs": [
        {
          "output_type": "stream",
          "name": "stdout",
          "text": [
            "{'name': 'Valentijn', 'age': 21, 'address': 'Kuala Lumpur'}\n"
          ]
        }
      ],
      "source": [
        "del student['grade'] ## delete key and value pair\n",
        "\n",
        "print(student)"
      ]
    },
    {
      "cell_type": "code",
      "execution_count": 75,
      "metadata": {
        "colab": {
          "base_uri": "https://localhost:8080/"
        },
        "id": "T_fkskrpDNPg",
        "outputId": "5cf6129c-c6c4-4dfc-c7f8-387ddf0a90d7"
      },
      "outputs": [
        {
          "output_type": "stream",
          "name": "stdout",
          "text": [
            "dict_keys(['name', 'age', 'address'])\n",
            "dict_values(['Valentijn', 21, 'Kuala Lumpur'])\n",
            "dict_items([('name', 'Valentijn'), ('age', 21), ('address', 'Kuala Lumpur')])\n"
          ]
        }
      ],
      "source": [
        "## Dictionary methods\n",
        "\n",
        "keys=student.keys() ##get all the keys\n",
        "print(keys)\n",
        "values=student.values() ##get all values\n",
        "print(values)\n",
        "\n",
        "items=student.items() ##get all key value pairs\n",
        "print(items)"
      ]
    },
    {
      "cell_type": "code",
      "execution_count": 76,
      "metadata": {
        "colab": {
          "base_uri": "https://localhost:8080/"
        },
        "id": "k2HO4RshDNPg",
        "outputId": "02215ccd-0c7b-4b52-c91c-a6cb80611903"
      },
      "outputs": [
        {
          "output_type": "stream",
          "name": "stdout",
          "text": [
            "{'name': 'Valentijn', 'age': 21, 'address': 'Kuala Lumpur'}\n",
            "{'name': 'Valentijn', 'age': 21, 'address': 'Kuala Lumpur'}\n"
          ]
        }
      ],
      "source": [
        "## shallow copy\n",
        "student_copy=student\n",
        "print(student)\n",
        "print(student_copy)"
      ]
    },
    {
      "cell_type": "code",
      "execution_count": 77,
      "metadata": {
        "colab": {
          "base_uri": "https://localhost:8080/"
        },
        "id": "JuvWPphiDNPg",
        "outputId": "3471a1e6-a77e-4c34-817c-7c63174fc5f9"
      },
      "outputs": [
        {
          "output_type": "stream",
          "name": "stdout",
          "text": [
            "{'name': 'Valentijn2', 'age': 21, 'address': 'Kuala Lumpur'}\n",
            "{'name': 'Valentijn2', 'age': 21, 'address': 'Kuala Lumpur'}\n"
          ]
        }
      ],
      "source": [
        "student[\"name\"]=\"Valentijn2\"\n",
        "print(student)\n",
        "print(student_copy)\n"
      ]
    },
    {
      "cell_type": "code",
      "execution_count": 78,
      "metadata": {
        "colab": {
          "base_uri": "https://localhost:8080/"
        },
        "id": "TDmXk93aDNPg",
        "outputId": "19b84cb1-c0f9-4140-a346-44db1e3dc938"
      },
      "outputs": [
        {
          "output_type": "stream",
          "name": "stdout",
          "text": [
            "{'name': 'Valentijn2', 'age': 21, 'address': 'Kuala Lumpur'}\n",
            "{'name': 'Valentijn2', 'age': 21, 'address': 'Kuala Lumpur'}\n"
          ]
        }
      ],
      "source": [
        "student_copy1=student.copy() ## shallow copy\n",
        "print(student_copy1)\n",
        "print(student)"
      ]
    },
    {
      "cell_type": "code",
      "execution_count": 79,
      "metadata": {
        "colab": {
          "base_uri": "https://localhost:8080/"
        },
        "id": "FBqCN5qWDNPg",
        "outputId": "2bc1cc6b-d7fb-4791-b53f-81cac2bb0dab"
      },
      "outputs": [
        {
          "output_type": "stream",
          "name": "stdout",
          "text": [
            "{'name': 'Valentijn2', 'age': 21, 'address': 'Kuala Lumpur'}\n",
            "{'name': 'Valentijn3', 'age': 21, 'address': 'Kuala Lumpur'}\n"
          ]
        }
      ],
      "source": [
        "student[\"name\"]=\"Valentijn3\"\n",
        "print(student_copy1)\n",
        "print(student)"
      ]
    },
    {
      "cell_type": "code",
      "execution_count": 80,
      "metadata": {
        "colab": {
          "base_uri": "https://localhost:8080/"
        },
        "id": "YTGWjHOIDNPg",
        "outputId": "507115a9-1ab8-401c-f52d-5adb760653ef"
      },
      "outputs": [
        {
          "output_type": "stream",
          "name": "stdout",
          "text": [
            "name\n",
            "age\n",
            "address\n"
          ]
        }
      ],
      "source": [
        "### Iterating Over Dictionaries\n",
        "## You can use loops to iterate over dictionatries, keys,values,or items\n",
        "\n",
        "## Iterating over keys\n",
        "for keys in student.keys():\n",
        "    print(keys)"
      ]
    },
    {
      "cell_type": "code",
      "execution_count": 81,
      "metadata": {
        "colab": {
          "base_uri": "https://localhost:8080/"
        },
        "id": "BwQ-nVxrDNPg",
        "outputId": "0dfcbe42-7387-4a52-9416-e3e796f4a0f6"
      },
      "outputs": [
        {
          "output_type": "stream",
          "name": "stdout",
          "text": [
            "Valentijn3\n",
            "21\n",
            "Kuala Lumpur\n"
          ]
        }
      ],
      "source": [
        "## Iterate over values\n",
        "for value in student.values():\n",
        "    print(value)"
      ]
    },
    {
      "cell_type": "code",
      "execution_count": 82,
      "metadata": {
        "colab": {
          "base_uri": "https://localhost:8080/"
        },
        "id": "BYlOS1FRDNPg",
        "outputId": "fc075f4c-ba25-493b-e1a1-55c6922ad6d9"
      },
      "outputs": [
        {
          "output_type": "stream",
          "name": "stdout",
          "text": [
            "name : Valentijn3\n",
            "age : 21\n",
            "address : Kuala Lumpur\n"
          ]
        }
      ],
      "source": [
        "## Iterate over key value pairs\n",
        "for key,value in student.items():\n",
        "    print(f\"{key} : {value}\")"
      ]
    },
    {
      "cell_type": "code",
      "execution_count": 83,
      "metadata": {
        "colab": {
          "base_uri": "https://localhost:8080/"
        },
        "id": "m6wXELPjDNPg",
        "outputId": "927d1b3a-fbb3-499e-ba0a-1efb39b68cf5"
      },
      "outputs": [
        {
          "output_type": "stream",
          "name": "stdout",
          "text": [
            "{'student1': {'name': 'Krish', 'age': 32}, 'student2': {'name': 'Peter', 'age': 35}}\n"
          ]
        }
      ],
      "source": [
        "## Nested Disctionaries\n",
        "students={\n",
        "    \"student1\":{\"name\":\"Krish\",\"age\":32},\n",
        "    \"student2\":{\"name\":\"Peter\",\"age\":35}\n",
        "}\n",
        "print(students)"
      ]
    },
    {
      "cell_type": "code",
      "execution_count": 84,
      "metadata": {
        "colab": {
          "base_uri": "https://localhost:8080/"
        },
        "id": "mxbVm0d_DNPg",
        "outputId": "70177a58-e8cb-4c1b-8f97-34bf6a8bea48"
      },
      "outputs": [
        {
          "output_type": "stream",
          "name": "stdout",
          "text": [
            "Peter\n",
            "35\n"
          ]
        }
      ],
      "source": [
        "## Access nested dictionaries elementss\n",
        "print(students[\"student2\"][\"name\"])\n",
        "print(students[\"student2\"][\"age\"])"
      ]
    },
    {
      "cell_type": "code",
      "execution_count": 85,
      "metadata": {
        "colab": {
          "base_uri": "https://localhost:8080/"
        },
        "id": "PeKFcU1eDNPg",
        "outputId": "10bd2b50-47e0-4c01-83e0-de005b5d5f88"
      },
      "outputs": [
        {
          "output_type": "execute_result",
          "data": {
            "text/plain": [
              "dict_items([('student1', {'name': 'Krish', 'age': 32}), ('student2', {'name': 'Peter', 'age': 35})])"
            ]
          },
          "metadata": {},
          "execution_count": 85
        }
      ],
      "source": [
        "students.items()"
      ]
    },
    {
      "cell_type": "code",
      "execution_count": 86,
      "metadata": {
        "colab": {
          "base_uri": "https://localhost:8080/"
        },
        "id": "xbg1pogZDNPg",
        "outputId": "d8dd85ff-2164-40a3-f18f-9f7e3a33cbd5"
      },
      "outputs": [
        {
          "output_type": "stream",
          "name": "stdout",
          "text": [
            "student1:{'name': 'Krish', 'age': 32}\n",
            "name:Krish\n",
            "age:32\n",
            "student2:{'name': 'Peter', 'age': 35}\n",
            "name:Peter\n",
            "age:35\n"
          ]
        }
      ],
      "source": [
        "## Iterating over nested dictionaries\n",
        "for student_id,student_info in students.items():\n",
        "    print(f\"{student_id}:{student_info}\")\n",
        "    for key,value in student_info.items():\n",
        "        print(f\"{key}:{value}\")\n"
      ]
    },
    {
      "cell_type": "code",
      "execution_count": 87,
      "metadata": {
        "colab": {
          "base_uri": "https://localhost:8080/"
        },
        "id": "Z3g8Cdr5DNPh",
        "outputId": "f1bbe219-3308-4050-e0cc-4f8cca43c5a2"
      },
      "outputs": [
        {
          "output_type": "stream",
          "name": "stdout",
          "text": [
            "{0: 0, 1: 1, 2: 4, 3: 9, 4: 16}\n"
          ]
        }
      ],
      "source": [
        "## Dictionary Comphrehension\n",
        "squares={x:x**2 for x in range(5)}\n",
        "print(squares)"
      ]
    },
    {
      "cell_type": "code",
      "execution_count": 88,
      "metadata": {
        "colab": {
          "base_uri": "https://localhost:8080/"
        },
        "id": "EYrLFGPUDNPh",
        "outputId": "f0be0a76-6ba1-46ee-bb90-46752463fbc3"
      },
      "outputs": [
        {
          "output_type": "stream",
          "name": "stdout",
          "text": [
            "{0: 0, 2: 4, 4: 16, 6: 36, 8: 64}\n"
          ]
        }
      ],
      "source": [
        "## Condition dictionary comprehension\n",
        "evens={x:x**2 for x in range(10) if x%2==0}\n",
        "print(evens)"
      ]
    },
    {
      "cell_type": "code",
      "execution_count": 89,
      "metadata": {
        "colab": {
          "base_uri": "https://localhost:8080/"
        },
        "id": "jIxXpKIsDNPh",
        "outputId": "192a6101-b4b3-4637-babd-57576772b775"
      },
      "outputs": [
        {
          "output_type": "stream",
          "name": "stdout",
          "text": [
            "{1: 1, 2: 2, 3: 3, 4: 4}\n"
          ]
        }
      ],
      "source": [
        "## Practical Examples\n",
        "\n",
        "## USe a dictionary to count he frequency of elements in list\n",
        "\n",
        "numbers=[1,2,2,3,3,3,4,4,4,4]\n",
        "frequency={}\n",
        "\n",
        "for number in numbers:\n",
        "    if number in frequency:\n",
        "        frequency[number]+=1\n",
        "    else:\n",
        "        frequency[number]=1\n",
        "print(frequency)\n"
      ]
    },
    {
      "cell_type": "code",
      "execution_count": 90,
      "metadata": {
        "colab": {
          "base_uri": "https://localhost:8080/"
        },
        "id": "91en0YLiDNPh",
        "outputId": "a9b3425c-8450-4a5b-b299-9f8c1df0aed8"
      },
      "outputs": [
        {
          "output_type": "stream",
          "name": "stdout",
          "text": [
            "{'a': 1, 'b': 3, 'c': 4}\n"
          ]
        }
      ],
      "source": [
        "## Merge 2 dictionaries into one\n",
        "\n",
        "dict1={\"a\":1,\"b\":2}\n",
        "dict2={\"b\":3,\"c\":4}\n",
        "merged_dict={**dict1,**dict2}\n",
        "print(merged_dict)"
      ]
    },
    {
      "cell_type": "markdown",
      "metadata": {
        "id": "CiBtLs8tDNPh"
      },
      "source": [
        "#### Conclusion\n",
        "Dictionaries are powerful tools in Python for managing key-value pairs. They are used in a variety of real-world scenarios, such as counting word frequency, grouping data, storing configuration settings, managing phonebooks, tracking inventory, and caching results. Understanding how to leverage dictionaries effectively can greatly enhance the efficiency and readability of your code."
      ]
    },
    {
      "cell_type": "code",
      "execution_count": 91,
      "metadata": {
        "colab": {
          "base_uri": "https://localhost:8080/"
        },
        "id": "oSpqctNUDNPh",
        "outputId": "4ac8aed5-5255-4037-99ac-72f0494eb421"
      },
      "outputs": [
        {
          "output_type": "stream",
          "name": "stdout",
          "text": [
            "{'name': 'Alice', 'age': 30, 'city': 'New York'}\n",
            "{'name': 'Bob', 'age': 25, 'city': 'Los Angeles'}\n"
          ]
        }
      ],
      "source": [
        "# Creating a Dictionary\n",
        "# Using curly braces\n",
        "my_dict = {\"name\": \"Alice\", \"age\": 30, \"city\": \"New York\"}\n",
        "print(my_dict)  # Output: {'name': 'Alice', 'age': 30, 'city': 'New York'}\n",
        "\n",
        "# Using dict() constructor\n",
        "my_dict = dict(name=\"Bob\", age=25, city=\"Los Angeles\")\n",
        "print(my_dict)  # Output: {'name': 'Bob', 'age': 25, 'city': 'Los Angeles'}\n"
      ]
    },
    {
      "cell_type": "code",
      "source": [
        "# Accessing Values\n",
        "my_dict = {\"name\": \"Alice\", \"age\": 30}\n",
        "print(my_dict[\"name\"])  # Output: Alice\n"
      ],
      "metadata": {
        "colab": {
          "base_uri": "https://localhost:8080/"
        },
        "id": "gSWaAqtdTqFa",
        "outputId": "a74b346b-acbe-4a72-b83a-58ed55ccda53"
      },
      "execution_count": 92,
      "outputs": [
        {
          "output_type": "stream",
          "name": "stdout",
          "text": [
            "Alice\n"
          ]
        }
      ]
    },
    {
      "cell_type": "code",
      "source": [
        "# Adding or Updating Items\n",
        "my_dict[\"age\"] = 31  # Update existing key\n",
        "my_dict[\"country\"] = \"USA\"  # Add new key-value pair\n",
        "print(my_dict)  # Output: {'name': 'Alice', 'age': 31, 'country': 'USA'}"
      ],
      "metadata": {
        "colab": {
          "base_uri": "https://localhost:8080/"
        },
        "id": "9jaEKSXqTu4d",
        "outputId": "07454da3-f804-42a8-972e-65aca3338c9f"
      },
      "execution_count": 93,
      "outputs": [
        {
          "output_type": "stream",
          "name": "stdout",
          "text": [
            "{'name': 'Alice', 'age': 31, 'country': 'USA'}\n"
          ]
        }
      ]
    },
    {
      "cell_type": "code",
      "source": [
        "# Removing Items\n",
        "# Example using pop()\n",
        "removed_value = my_dict.pop(\"city\", None)  # Remove key and return its value\n",
        "print(removed_value)  # Output: None (if key not found)\n",
        "print(my_dict)        # Output: {'name': 'Alice', 'age': 31}\n",
        "\n",
        "# Example using del\n",
        "del my_dict[\"age\"]\n",
        "print(my_dict)        # Output: {'name': 'Alice'}\n"
      ],
      "metadata": {
        "colab": {
          "base_uri": "https://localhost:8080/"
        },
        "id": "G1SiZbvlTz3h",
        "outputId": "38b1328f-a8b7-494e-e039-519750513355"
      },
      "execution_count": 94,
      "outputs": [
        {
          "output_type": "stream",
          "name": "stdout",
          "text": [
            "None\n",
            "{'name': 'Alice', 'age': 31, 'country': 'USA'}\n",
            "{'name': 'Alice', 'country': 'USA'}\n"
          ]
        }
      ]
    },
    {
      "cell_type": "code",
      "source": [
        "# Iterating Through a Dictionary\n",
        "# Example of iterating through keys and values\n",
        "for key, value in my_dict.items():\n",
        "    print(f\"{key}: {value}\")\n",
        "# Output: name: Alice, country: USA\n"
      ],
      "metadata": {
        "colab": {
          "base_uri": "https://localhost:8080/"
        },
        "id": "4fnZSa7UUtai",
        "outputId": "59fe407e-9df4-41a8-b4b7-d43668892ea0"
      },
      "execution_count": 95,
      "outputs": [
        {
          "output_type": "stream",
          "name": "stdout",
          "text": [
            "name: Alice\n",
            "country: USA\n"
          ]
        }
      ]
    },
    {
      "cell_type": "code",
      "source": [
        "# Using Nested Dictionaries\n",
        "# Example of nested dictionaries\n",
        "my_family = {\n",
        "    \"child1\": {\"name\": \"Emil\", \"year\": 2004},\n",
        "    \"child2\": {\"name\": \"Tobias\", \"year\": 2007},\n",
        "}\n",
        "print(my_family[\"child1\"][\"name\"])  # Output: Emil\n"
      ],
      "metadata": {
        "colab": {
          "base_uri": "https://localhost:8080/"
        },
        "id": "Q2-8IVXrU6aH",
        "outputId": "9dfc8011-8fa6-4159-ccaf-2de686e98910"
      },
      "execution_count": 96,
      "outputs": [
        {
          "output_type": "stream",
          "name": "stdout",
          "text": [
            "Emil\n"
          ]
        }
      ]
    },
    {
      "cell_type": "code",
      "source": [
        "# Dictionary Comprehensions\n",
        "# Example of dictionary comprehension\n",
        "squares = {x: x**2 for x in range(5)}\n",
        "print(squares)  # Output: {0: 0, 1: 1, 2: 4, 3: 9, 4: 16}"
      ],
      "metadata": {
        "colab": {
          "base_uri": "https://localhost:8080/"
        },
        "id": "ZAXzaxldVJkb",
        "outputId": "a0da4862-fa16-48f8-d3d2-a4df7727586c"
      },
      "execution_count": 97,
      "outputs": [
        {
          "output_type": "stream",
          "name": "stdout",
          "text": [
            "{0: 0, 1: 1, 2: 4, 3: 9, 4: 16}\n"
          ]
        }
      ]
    },
    {
      "cell_type": "code",
      "source": [
        "# Merging Dictionaries\n",
        "# Example using update()\n",
        "dict_a = {\"a\": 1, \"b\": 2}\n",
        "dict_b = {\"b\": 3, \"c\": 4}\n",
        "dict_a.update(dict_b)\n",
        "print(dict_a)   # Output: {'a': 1, 'b': 3, 'c': 4}\n",
        "\n",
        "# Example using | operator (Python 3.9+)\n",
        "merged_dict = dict_a | dict_b\n",
        "print(merged_dict)   # Output: {'a': 1, 'b': 3, 'c': 4}"
      ],
      "metadata": {
        "colab": {
          "base_uri": "https://localhost:8080/"
        },
        "id": "XMeZtqzbWBzA",
        "outputId": "8540858a-aa1c-46a3-af5b-d07168d774f1"
      },
      "execution_count": 98,
      "outputs": [
        {
          "output_type": "stream",
          "name": "stdout",
          "text": [
            "{'a': 1, 'b': 3, 'c': 4}\n",
            "{'a': 1, 'b': 3, 'c': 4}\n"
          ]
        }
      ]
    },
    {
      "cell_type": "code",
      "source": [
        "# Getting Keys and Values\n",
        "# Example of getting keys and values\n",
        "keys = my_dict.keys()\n",
        "values = my_dict.values()\n",
        "print(keys)   # Output: dict_keys(['name'])\n",
        "print(values) # Output: dict_values(['Alice'])"
      ],
      "metadata": {
        "colab": {
          "base_uri": "https://localhost:8080/"
        },
        "id": "IzNcPOJAWa4T",
        "outputId": "788a7b57-c767-4a2c-8e6d-9f92a383cf01"
      },
      "execution_count": 99,
      "outputs": [
        {
          "output_type": "stream",
          "name": "stdout",
          "text": [
            "dict_keys(['name', 'country'])\n",
            "dict_values(['Alice', 'USA'])\n"
          ]
        }
      ]
    },
    {
      "cell_type": "code",
      "source": [
        "# Default Values with get()\n",
        "# Example using get()\n",
        "value = my_dict.get(\"city\", \"Not Found\")\n",
        "print(value)   # Output: Not Found (since city key does not exist)"
      ],
      "metadata": {
        "colab": {
          "base_uri": "https://localhost:8080/"
        },
        "id": "PCZhEPCkWo0j",
        "outputId": "9d0f14ed-ae21-4c13-90a6-3d96e8c9a67b"
      },
      "execution_count": 100,
      "outputs": [
        {
          "output_type": "stream",
          "name": "stdout",
          "text": [
            "Not Found\n"
          ]
        }
      ]
    },
    {
      "cell_type": "code",
      "source": [
        "# Merging Dictionaries\n",
        "# Using update() method\n",
        "dict_a = {'a': 1, 'b': 2}\n",
        "dict_b = {'b': 3, 'c': 4}\n",
        "dict_a.update(dict_b)\n",
        "print(dict_a)  # Output: {'a': 1, 'b': 3, 'c': 4}\n",
        "\n",
        "# Using the | operator (Python 3.9+)\n",
        "merged_dict = dict_a | dict_b\n",
        "print(merged_dict)  # Output: {'a': 1, 'b': 3, 'c': 4}\n"
      ],
      "metadata": {
        "colab": {
          "base_uri": "https://localhost:8080/"
        },
        "id": "iO8rlKUzW_mJ",
        "outputId": "ce1baaab-de78-4e8e-957d-f25c8a04fa99"
      },
      "execution_count": 101,
      "outputs": [
        {
          "output_type": "stream",
          "name": "stdout",
          "text": [
            "{'a': 1, 'b': 3, 'c': 4}\n",
            "{'a': 1, 'b': 3, 'c': 4}\n"
          ]
        }
      ]
    },
    {
      "cell_type": "code",
      "source": [
        "# Define two dictionaries\n",
        "dict_a = {'key1': 'value1', 'key2': 'value2'}\n",
        "dict_b = {'key2': 'new_value2', 'key3': 'value3'}\n",
        "\n",
        "# Merge the dictionaries\n",
        "merged_dict = dict_a | dict_b\n",
        "\n",
        "# Print the merged dictionary\n",
        "print(merged_dict)"
      ],
      "metadata": {
        "colab": {
          "base_uri": "https://localhost:8080/"
        },
        "id": "gI_bUQxAdamS",
        "outputId": "b6e14b18-e9a4-4734-da49-4cdf40b551f6"
      },
      "execution_count": 102,
      "outputs": [
        {
          "output_type": "stream",
          "name": "stdout",
          "text": [
            "{'key1': 'value1', 'key2': 'new_value2', 'key3': 'value3'}\n"
          ]
        }
      ]
    },
    {
      "cell_type": "code",
      "source": [
        "# Checking if a Key Exists\n",
        "\n",
        "my_dict = {'name': 'Alice', 'age': 30}\n",
        "print('name' in my_dict)  # Output: True\n",
        "print('address' in my_dict)  # Output: False"
      ],
      "metadata": {
        "id": "iO-3nPMxdptr",
        "colab": {
          "base_uri": "https://localhost:8080/"
        },
        "outputId": "404af675-b231-48dd-c807-c1c9d58dc3b6"
      },
      "execution_count": 103,
      "outputs": [
        {
          "output_type": "stream",
          "name": "stdout",
          "text": [
            "True\n",
            "False\n"
          ]
        }
      ]
    },
    {
      "cell_type": "code",
      "source": [
        "# Removing an Item with popitem()\n",
        "# Example\n",
        "my_dict = {'name': 'Alice', 'age': 30, 'city': 'New York'}\n",
        "last_item = my_dict.popitem()\n",
        "print(last_item)  # Output: ('city', 'New York')\n",
        "print(my_dict)    # Output: {'name': 'Alice', 'age': 30}"
      ],
      "metadata": {
        "colab": {
          "base_uri": "https://localhost:8080/"
        },
        "id": "HTyj0DumgFax",
        "outputId": "358295dd-f5dc-4f0a-fb9c-9f4e87872fcf"
      },
      "execution_count": 104,
      "outputs": [
        {
          "output_type": "stream",
          "name": "stdout",
          "text": [
            "('city', 'New York')\n",
            "{'name': 'Alice', 'age': 30}\n"
          ]
        }
      ]
    },
    {
      "cell_type": "code",
      "source": [
        "# Using setdefault()\n",
        "# Example\n",
        "my_dict = {'name': 'Alice'}\n",
        "value = my_dict.setdefault('age', 25)\n",
        "print(value)      # Output: 25 (since 'age' was not present)\n",
        "print(my_dict)    # Output: {'name': 'Alice', 'age': 25}"
      ],
      "metadata": {
        "colab": {
          "base_uri": "https://localhost:8080/"
        },
        "id": "IG-z0kingMP-",
        "outputId": "702d47c6-1122-45f5-e032-2f59a012c16c"
      },
      "execution_count": 105,
      "outputs": [
        {
          "output_type": "stream",
          "name": "stdout",
          "text": [
            "25\n",
            "{'name': 'Alice', 'age': 25}\n"
          ]
        }
      ]
    },
    {
      "cell_type": "code",
      "source": [
        "# Dictionary Comprehensions\n",
        "# Example of dictionary comprehension\n",
        "squares = {x: x**2 for x in range(5)}\n",
        "print(squares)   # Output: {0: 0, 1: 1, 2: 4, 3: 9, 4: 16}\n"
      ],
      "metadata": {
        "colab": {
          "base_uri": "https://localhost:8080/"
        },
        "id": "ouo2DdQegRix",
        "outputId": "dc8a0c25-8168-4230-9309-26bfcb642adb"
      },
      "execution_count": 106,
      "outputs": [
        {
          "output_type": "stream",
          "name": "stdout",
          "text": [
            "{0: 0, 1: 1, 2: 4, 3: 9, 4: 16}\n"
          ]
        }
      ]
    },
    {
      "cell_type": "code",
      "source": [
        "# Using fromkeys()\n",
        "# The fromkeys() method creates a new dictionary from a sequence of keys with a specified value.\n",
        "keys = ['a', 'b', 'c']\n",
        "new_dict = dict.fromkeys(keys, 0)\n",
        "print(new_dict)   # Output: {'a': 0, 'b': 0, 'c': 0}"
      ],
      "metadata": {
        "colab": {
          "base_uri": "https://localhost:8080/"
        },
        "id": "Y_QyMtOKgXz8",
        "outputId": "799f4263-5d55-48ec-ba86-4c95d26de286"
      },
      "execution_count": 107,
      "outputs": [
        {
          "output_type": "stream",
          "name": "stdout",
          "text": [
            "{'a': 0, 'b': 0, 'c': 0}\n"
          ]
        }
      ]
    },
    {
      "cell_type": "code",
      "source": [
        "# Clearing a Dictionary\n",
        "# The clear() method removes all items from the dictionary.\n",
        "# Example\n",
        "my_dict = {'name': 'Alice', 'age': 30}\n",
        "my_dict.clear()\n",
        "print(my_dict)    # Output: {}\n",
        "\n"
      ],
      "metadata": {
        "colab": {
          "base_uri": "https://localhost:8080/"
        },
        "id": "NpAss5Tagm8p",
        "outputId": "b97e4896-3208-4405-f83e-e93550ed13cf"
      },
      "execution_count": 108,
      "outputs": [
        {
          "output_type": "stream",
          "name": "stdout",
          "text": [
            "{}\n"
          ]
        }
      ]
    },
    {
      "cell_type": "code",
      "source": [
        "# Copying a Dictionary\n",
        "# The copy() method creates a shallow copy of the dictionary.\n",
        "# A shalow copy has the advantage that changing is easier and less prone to mistakes\n",
        "original_dict = {'name': 'Alice', 'age': 30}\n",
        "copied_dict = original_dict.copy()\n",
        "print(copied_dict)    # Output: {'name': 'Alice', 'age': 30}\n",
        "\n",
        "original_dict['age'] = 31\n",
        "print(original_dict)    # Output: {'name': 'Alice', 'age\n",
        "print(copied_dict)    # Output: {'name': 'Alice', 'age\n"
      ],
      "metadata": {
        "colab": {
          "base_uri": "https://localhost:8080/"
        },
        "id": "Dtn4vb6PhrW4",
        "outputId": "67e2fdd8-e15a-46a6-faca-144b3972d23b"
      },
      "execution_count": 110,
      "outputs": [
        {
          "output_type": "stream",
          "name": "stdout",
          "text": [
            "{'name': 'Alice', 'age': 30}\n",
            "{'name': 'Alice', 'age': 31}\n",
            "{'name': 'Alice', 'age': 30}\n"
          ]
        }
      ]
    },
    {
      "cell_type": "code",
      "source": [
        "# Getting All Keys and Values\n",
        "# You can retrieve all keys and values using the keys() and values() methods.\n",
        "# Example\n",
        "my_dict = {'name': 'Alice', 'age': 30}\n",
        "keys = my_dict.keys()\n",
        "values = my_dict.values()\n",
        "print(keys)   # Output: dict_keys(['name', 'age'])\n",
        "print(values) # Output: dict_values(['Alice', 30])\n",
        "\n"
      ],
      "metadata": {
        "colab": {
          "base_uri": "https://localhost:8080/"
        },
        "id": "3bIjg_lYinbV",
        "outputId": "4fce8d74-b2ae-4e36-99e8-acba4317c27a"
      },
      "execution_count": 111,
      "outputs": [
        {
          "output_type": "stream",
          "name": "stdout",
          "text": [
            "dict_keys(['name', 'age'])\n",
            "dict_values(['Alice', 30])\n"
          ]
        }
      ]
    },
    {
      "cell_type": "code",
      "source": [
        "# Using items() for Key-Value Pairs\n",
        "# The items() method returns a view object that displays a list of dictionary's key-value tuple pairs.\n",
        "# Example\n",
        "my_dict = {'name': 'Alice', 'age': 30}\n",
        "items = my_dict.items()\n",
        "print(items)   # Output: dict_items([('name', 'Alice'), ('age', 30)])"
      ],
      "metadata": {
        "colab": {
          "base_uri": "https://localhost:8080/"
        },
        "id": "xds6VagqjVyv",
        "outputId": "6ac08346-8e9b-40d0-e58e-6ea7671faf55"
      },
      "execution_count": 112,
      "outputs": [
        {
          "output_type": "stream",
          "name": "stdout",
          "text": [
            "dict_items([('name', 'Alice'), ('age', 30)])\n"
          ]
        }
      ]
    },
    {
      "cell_type": "code",
      "source": [
        "# The End"
      ],
      "metadata": {
        "id": "nFHicHGnjfhZ"
      },
      "execution_count": 113,
      "outputs": []
    }
  ],
  "metadata": {
    "kernelspec": {
      "display_name": "Python 3",
      "language": "python",
      "name": "python3"
    },
    "language_info": {
      "codemirror_mode": {
        "name": "ipython",
        "version": 3
      },
      "file_extension": ".py",
      "mimetype": "text/x-python",
      "name": "python",
      "nbconvert_exporter": "python",
      "pygments_lexer": "ipython3",
      "version": "3.12.0"
    },
    "colab": {
      "provenance": [],
      "include_colab_link": true
    }
  },
  "nbformat": 4,
  "nbformat_minor": 0
}