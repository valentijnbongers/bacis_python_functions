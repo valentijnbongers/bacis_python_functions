{
  "cells": [
    {
      "cell_type": "markdown",
      "metadata": {
        "id": "view-in-github",
        "colab_type": "text"
      },
      "source": [
        "<a href=\"https://colab.research.google.com/github/valentijnbongers/bacis_python_functions/blob/main/DataTypes_Sets.ipynb\" target=\"_parent\"><img src=\"https://colab.research.google.com/assets/colab-badge.svg\" alt=\"Open In Colab\"/></a>"
      ]
    },
    {
      "cell_type": "markdown",
      "metadata": {
        "id": "s3wOSh4oifz0"
      },
      "source": [
        "#### Sets\n",
        "Sets are a built-in data type in Python used to store collections of unique items. They are unordered, meaning that the elements do not follow a specific order, and they do not allow duplicate elements. Sets are useful for membership tests, eliminating duplicate entries, and performing mathematical set operations like union, intersection, difference, and symmetric difference."
      ]
    },
    {
      "cell_type": "code",
      "execution_count": 1,
      "metadata": {
        "colab": {
          "base_uri": "https://localhost:8080/"
        },
        "id": "ON-W1Jr7ifz1",
        "outputId": "fcf3687c-3b65-4c06-aa80-20f716a27482"
      },
      "outputs": [
        {
          "output_type": "stream",
          "name": "stdout",
          "text": [
            "{1, 2, 3, 4, 5}\n",
            "<class 'set'>\n"
          ]
        }
      ],
      "source": [
        "##create a set\n",
        "my_set={1,2,3,4,5}\n",
        "print(my_set)\n",
        "print(type(my_set))"
      ]
    },
    {
      "cell_type": "code",
      "execution_count": 2,
      "metadata": {
        "colab": {
          "base_uri": "https://localhost:8080/"
        },
        "id": "yw7GKOy4ifz2",
        "outputId": "37008f1e-04d7-48c7-eda9-34a02c5c0a56"
      },
      "outputs": [
        {
          "output_type": "stream",
          "name": "stdout",
          "text": [
            "<class 'set'>\n"
          ]
        }
      ],
      "source": [
        "my_empty_set=set()\n",
        "print(type(my_empty_set))"
      ]
    },
    {
      "cell_type": "code",
      "execution_count": 3,
      "metadata": {
        "colab": {
          "base_uri": "https://localhost:8080/"
        },
        "id": "oNNdmcH_ifz3",
        "outputId": "eba10278-9169-4d91-dfc4-b1b6afefa5c7"
      },
      "outputs": [
        {
          "output_type": "stream",
          "name": "stdout",
          "text": [
            "{1, 2, 3, 4, 5, 6, 7}\n"
          ]
        }
      ],
      "source": [
        "my_set=set([1,2,3,4,5,6,7,6,5,2,3,1])\n",
        "print(my_set)"
      ]
    },
    {
      "cell_type": "code",
      "execution_count": 4,
      "metadata": {
        "colab": {
          "base_uri": "https://localhost:8080/"
        },
        "id": "PfNIKj9Uifz3",
        "outputId": "0973b106-ef58-4d5a-f7f8-b80c011e2209"
      },
      "outputs": [
        {
          "output_type": "stream",
          "name": "stdout",
          "text": [
            "{1, 2, 3, 4, 5, 6}\n"
          ]
        }
      ],
      "source": [
        "my_empty_set=set([1,2,3,6,5,4,5,6])\n",
        "print(my_empty_set)"
      ]
    },
    {
      "cell_type": "code",
      "execution_count": 5,
      "metadata": {
        "colab": {
          "base_uri": "https://localhost:8080/"
        },
        "id": "zZ0TLqGoifz3",
        "outputId": "7099c6d9-016d-46ed-f851-e504115c3344"
      },
      "outputs": [
        {
          "output_type": "stream",
          "name": "stdout",
          "text": [
            "{1, 2, 3, 4, 5, 6, 7}\n",
            "{1, 2, 3, 4, 5, 6, 7}\n"
          ]
        }
      ],
      "source": [
        "## Basics Sets Operation\n",
        "## Adiing and Removing Elements\n",
        "my_set.add(7)\n",
        "print(my_set)\n",
        "my_set.add(7)\n",
        "print(my_set)"
      ]
    },
    {
      "cell_type": "code",
      "execution_count": 6,
      "metadata": {
        "colab": {
          "base_uri": "https://localhost:8080/"
        },
        "id": "J_GfGucyifz3",
        "outputId": "ce5c04b7-f10b-46ca-b168-9703fdb71f75"
      },
      "outputs": [
        {
          "output_type": "stream",
          "name": "stdout",
          "text": [
            "{1, 2, 4, 5, 6, 7}\n"
          ]
        }
      ],
      "source": [
        "## Remove the elements from a set\n",
        "my_set.remove(3)\n",
        "print(my_set)"
      ]
    },
    {
      "cell_type": "code",
      "execution_count": 7,
      "metadata": {
        "colab": {
          "base_uri": "https://localhost:8080/",
          "height": 141
        },
        "id": "DJJOI-c0ifz4",
        "outputId": "48a05cad-f962-48dc-811d-f1f49c60b324"
      },
      "outputs": [
        {
          "output_type": "error",
          "ename": "KeyError",
          "evalue": "10",
          "traceback": [
            "\u001b[0;31m---------------------------------------------------------------------------\u001b[0m",
            "\u001b[0;31mKeyError\u001b[0m                                  Traceback (most recent call last)",
            "\u001b[0;32m<ipython-input-7-aa5e57d43179>\u001b[0m in \u001b[0;36m<cell line: 1>\u001b[0;34m()\u001b[0m\n\u001b[0;32m----> 1\u001b[0;31m \u001b[0mmy_set\u001b[0m\u001b[0;34m.\u001b[0m\u001b[0mremove\u001b[0m\u001b[0;34m(\u001b[0m\u001b[0;36m10\u001b[0m\u001b[0;34m)\u001b[0m\u001b[0;34m\u001b[0m\u001b[0;34m\u001b[0m\u001b[0m\n\u001b[0m",
            "\u001b[0;31mKeyError\u001b[0m: 10"
          ]
        }
      ],
      "source": [
        "my_set.remove(10)"
      ]
    },
    {
      "cell_type": "code",
      "execution_count": 8,
      "metadata": {
        "colab": {
          "base_uri": "https://localhost:8080/"
        },
        "id": "EyMqE-wvifz4",
        "outputId": "4b0ce87d-c186-4c4b-ceb5-b41982ea3e80"
      },
      "outputs": [
        {
          "output_type": "stream",
          "name": "stdout",
          "text": [
            "{1, 2, 4, 5, 6, 7}\n"
          ]
        }
      ],
      "source": [
        "my_set.discard(11)\n",
        "print(my_set)"
      ]
    },
    {
      "cell_type": "code",
      "execution_count": 9,
      "metadata": {
        "colab": {
          "base_uri": "https://localhost:8080/"
        },
        "id": "46-oKGMjifz4",
        "outputId": "0a9fdd2a-6016-424a-ec1a-fcf01ad22dbe"
      },
      "outputs": [
        {
          "output_type": "stream",
          "name": "stdout",
          "text": [
            "1\n",
            "{2, 4, 5, 6, 7}\n"
          ]
        }
      ],
      "source": [
        "## pop method\n",
        "removed_element=my_set.pop()\n",
        "print(removed_element)\n",
        "print(my_set)"
      ]
    },
    {
      "cell_type": "code",
      "execution_count": 10,
      "metadata": {
        "colab": {
          "base_uri": "https://localhost:8080/"
        },
        "id": "iJ5Q6CaJifz5",
        "outputId": "f015eb02-6997-4f4f-c8fe-6387469fb77a"
      },
      "outputs": [
        {
          "output_type": "stream",
          "name": "stdout",
          "text": [
            "set()\n"
          ]
        }
      ],
      "source": [
        "## clear all the elements\n",
        "my_set.clear()\n",
        "print(my_set)"
      ]
    },
    {
      "cell_type": "code",
      "execution_count": 11,
      "metadata": {
        "colab": {
          "base_uri": "https://localhost:8080/"
        },
        "id": "mXK8loXXifz5",
        "outputId": "e20cec38-d3a2-4a21-e2f5-c5468f9f8f67"
      },
      "outputs": [
        {
          "output_type": "stream",
          "name": "stdout",
          "text": [
            "True\n",
            "False\n"
          ]
        }
      ],
      "source": [
        "## Set Memebership test\n",
        "my_set={1,2,3,4,5}\n",
        "print(3 in my_set)\n",
        "print(10 in my_set)"
      ]
    },
    {
      "cell_type": "code",
      "execution_count": 12,
      "metadata": {
        "colab": {
          "base_uri": "https://localhost:8080/"
        },
        "id": "ZSWfjoRcifz5",
        "outputId": "ddcfdf57-1fb1-4644-9e8e-4f74092865d9"
      },
      "outputs": [
        {
          "output_type": "stream",
          "name": "stdout",
          "text": [
            "{1, 2, 3, 4, 5, 6, 7, 8, 9}\n",
            "{4, 5, 6}\n",
            "{4, 5, 6}\n"
          ]
        }
      ],
      "source": [
        "## MAthematical Operation\n",
        "set1={1,2,3,4,5,6}\n",
        "set2={4,5,6,7,8,9}\n",
        "\n",
        "### Union\n",
        "union_set=set1.union(set2)\n",
        "print(union_set)\n",
        "\n",
        "## Intersection\n",
        "intersection_set=set1.intersection(set2)\n",
        "print(intersection_set)\n",
        "\n",
        "set1.intersection_update(set2)\n",
        "print(set1)"
      ]
    },
    {
      "cell_type": "code",
      "execution_count": null,
      "metadata": {
        "id": "8H3Wy_qwifz6",
        "outputId": "e2b56d2f-f0fc-4635-dc84-9ebb5c77ca48"
      },
      "outputs": [
        {
          "name": "stdout",
          "output_type": "stream",
          "text": [
            "{1, 2, 3}\n"
          ]
        }
      ],
      "source": [
        "set1={1,2,3,4,5,6}\n",
        "set2={4,5,6,7,8,9}\n",
        "\n",
        "## Difference\n",
        "print(set1.difference(set2))"
      ]
    },
    {
      "cell_type": "code",
      "execution_count": null,
      "metadata": {
        "id": "ZrKp01Jwifz6",
        "outputId": "28089f45-db2f-42b6-dab2-10f01d2d767e"
      },
      "outputs": [
        {
          "data": {
            "text/plain": [
              "{1, 2, 3, 4, 5, 6}"
            ]
          },
          "execution_count": 22,
          "metadata": {},
          "output_type": "execute_result"
        }
      ],
      "source": [
        "set1"
      ]
    },
    {
      "cell_type": "code",
      "execution_count": null,
      "metadata": {
        "id": "DQlSn8Vjifz6",
        "outputId": "e66d9688-2a37-41db-c489-686fb52e3fb6"
      },
      "outputs": [
        {
          "data": {
            "text/plain": [
              "{7, 8, 9}"
            ]
          },
          "execution_count": 24,
          "metadata": {},
          "output_type": "execute_result"
        }
      ],
      "source": [
        "set2.difference(set1)"
      ]
    },
    {
      "cell_type": "code",
      "execution_count": null,
      "metadata": {
        "id": "BKRz1dvXifz6",
        "outputId": "9b969d68-4dca-48ca-de06-628b69bcd888"
      },
      "outputs": [
        {
          "data": {
            "text/plain": [
              "{1, 2, 3, 7, 8, 9}"
            ]
          },
          "execution_count": 25,
          "metadata": {},
          "output_type": "execute_result"
        }
      ],
      "source": [
        "## Symmetric Difference\n",
        "set1.symmetric_difference(set2)"
      ]
    },
    {
      "cell_type": "code",
      "execution_count": null,
      "metadata": {
        "id": "jfxlAaDoifz6",
        "outputId": "2fb86406-94c6-4569-958e-c1b5899e9492"
      },
      "outputs": [
        {
          "name": "stdout",
          "output_type": "stream",
          "text": [
            "False\n",
            "True\n"
          ]
        }
      ],
      "source": [
        "## Sets Methods\n",
        "set1={1,2,3,4,5}\n",
        "set2={3,4,5}\n",
        "\n",
        "## is subset\n",
        "print(set1.issubset(set2))\n",
        "\n",
        "print(set1.issuperset(set2))"
      ]
    },
    {
      "cell_type": "code",
      "execution_count": null,
      "metadata": {
        "id": "ftiKkzgEifz6",
        "outputId": "add29c87-50a0-4995-baa5-95f2f4d4541f"
      },
      "outputs": [
        {
          "data": {
            "text/plain": [
              "{1, 2, 3, 4, 5}"
            ]
          },
          "execution_count": 31,
          "metadata": {},
          "output_type": "execute_result"
        }
      ],
      "source": [
        "lst=[1,2,2,3,4,4,5]\n",
        "\n",
        "set(lst)"
      ]
    },
    {
      "cell_type": "code",
      "execution_count": null,
      "metadata": {
        "id": "Ul1uRZ6Aifz7",
        "outputId": "605f93e6-d00a-4a9a-bfdc-3aa5b22cc809"
      },
      "outputs": [
        {
          "name": "stdout",
          "output_type": "stream",
          "text": [
            "{'tutorial', 'we', 'discussing', 'this', 'In', 'about', 'sets', 'are'}\n",
            "8\n"
          ]
        }
      ],
      "source": [
        "### Counting Unique words in text\n",
        "\n",
        "text=\"In this tutorial we are discussing about sets\"\n",
        "words=text.split()\n",
        "\n",
        "## convert list of words to set to get unique words\n",
        "\n",
        "unique_words=set(words)\n",
        "print(unique_words)\n",
        "print(len(unique_words))"
      ]
    },
    {
      "cell_type": "markdown",
      "metadata": {
        "id": "9s0V0RDIifz7"
      },
      "source": [
        "#### Conclusion\n",
        "Sets are a powerful and flexible data type in Python that provide a way to store collections of unique elements. They support various operations such as union, intersection, difference, and symmetric difference, which are useful for mathematical computations. Understanding how to use sets and their associated methods can help you write more efficient and clean Python code, especially when dealing with unique collections and membership tests."
      ]
    },
    {
      "cell_type": "code",
      "execution_count": null,
      "metadata": {
        "id": "QnPeRMzhifz7"
      },
      "outputs": [],
      "source": []
    },
    {
      "cell_type": "code",
      "execution_count": null,
      "metadata": {
        "id": "N_usmLj5ifz7"
      },
      "outputs": [],
      "source": []
    },
    {
      "cell_type": "code",
      "execution_count": null,
      "metadata": {
        "id": "POsOqASfifz7"
      },
      "outputs": [],
      "source": []
    },
    {
      "cell_type": "code",
      "execution_count": null,
      "metadata": {
        "id": "IScIKy_4ifz7"
      },
      "outputs": [],
      "source": []
    },
    {
      "cell_type": "code",
      "execution_count": null,
      "metadata": {
        "id": "Q6AlzQvJifz7"
      },
      "outputs": [],
      "source": []
    },
    {
      "cell_type": "code",
      "execution_count": null,
      "metadata": {
        "id": "xDn2RtqTifz7"
      },
      "outputs": [],
      "source": []
    },
    {
      "cell_type": "code",
      "execution_count": null,
      "metadata": {
        "id": "J3VrfE3qifz7"
      },
      "outputs": [],
      "source": []
    },
    {
      "cell_type": "code",
      "execution_count": null,
      "metadata": {
        "id": "WMl190fQifz7"
      },
      "outputs": [],
      "source": []
    }
  ],
  "metadata": {
    "kernelspec": {
      "display_name": "Python 3",
      "language": "python",
      "name": "python3"
    },
    "language_info": {
      "codemirror_mode": {
        "name": "ipython",
        "version": 3
      },
      "file_extension": ".py",
      "mimetype": "text/x-python",
      "name": "python",
      "nbconvert_exporter": "python",
      "pygments_lexer": "ipython3",
      "version": "3.12.0"
    },
    "colab": {
      "provenance": [],
      "include_colab_link": true
    }
  },
  "nbformat": 4,
  "nbformat_minor": 0
}