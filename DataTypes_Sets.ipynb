{
  "cells": [
    {
      "cell_type": "markdown",
      "metadata": {
        "id": "view-in-github",
        "colab_type": "text"
      },
      "source": [
        "<a href=\"https://colab.research.google.com/github/valentijnbongers/bacis_python_functions/blob/main/DataTypes_Sets.ipynb\" target=\"_parent\"><img src=\"https://colab.research.google.com/assets/colab-badge.svg\" alt=\"Open In Colab\"/></a>"
      ]
    },
    {
      "cell_type": "markdown",
      "metadata": {
        "id": "s3wOSh4oifz0"
      },
      "source": [
        "#### Sets\n",
        "Sets are a built-in data type in Python used to store collections of unique items. They are unordered, meaning that the elements do not follow a specific order, and they do not allow duplicate elements. Sets are useful for membership tests, eliminating duplicate entries, and performing mathematical set operations like union, intersection, difference, and symmetric difference."
      ]
    },
    {
      "cell_type": "code",
      "execution_count": 1,
      "metadata": {
        "colab": {
          "base_uri": "https://localhost:8080/"
        },
        "id": "ON-W1Jr7ifz1",
        "outputId": "fcf3687c-3b65-4c06-aa80-20f716a27482"
      },
      "outputs": [
        {
          "output_type": "stream",
          "name": "stdout",
          "text": [
            "{1, 2, 3, 4, 5}\n",
            "<class 'set'>\n"
          ]
        }
      ],
      "source": [
        "##create a set\n",
        "my_set={1,2,3,4,5}\n",
        "print(my_set)\n",
        "print(type(my_set))"
      ]
    },
    {
      "cell_type": "code",
      "execution_count": 2,
      "metadata": {
        "colab": {
          "base_uri": "https://localhost:8080/"
        },
        "id": "yw7GKOy4ifz2",
        "outputId": "37008f1e-04d7-48c7-eda9-34a02c5c0a56"
      },
      "outputs": [
        {
          "output_type": "stream",
          "name": "stdout",
          "text": [
            "<class 'set'>\n"
          ]
        }
      ],
      "source": [
        "my_empty_set=set()\n",
        "print(type(my_empty_set))"
      ]
    },
    {
      "cell_type": "code",
      "execution_count": 3,
      "metadata": {
        "colab": {
          "base_uri": "https://localhost:8080/"
        },
        "id": "oNNdmcH_ifz3",
        "outputId": "eba10278-9169-4d91-dfc4-b1b6afefa5c7"
      },
      "outputs": [
        {
          "output_type": "stream",
          "name": "stdout",
          "text": [
            "{1, 2, 3, 4, 5, 6, 7}\n"
          ]
        }
      ],
      "source": [
        "my_set=set([1,2,3,4,5,6,7,6,5,2,3,1])\n",
        "print(my_set)"
      ]
    },
    {
      "cell_type": "code",
      "execution_count": 4,
      "metadata": {
        "colab": {
          "base_uri": "https://localhost:8080/"
        },
        "id": "PfNIKj9Uifz3",
        "outputId": "0973b106-ef58-4d5a-f7f8-b80c011e2209"
      },
      "outputs": [
        {
          "output_type": "stream",
          "name": "stdout",
          "text": [
            "{1, 2, 3, 4, 5, 6}\n"
          ]
        }
      ],
      "source": [
        "my_empty_set=set([1,2,3,6,5,4,5,6])\n",
        "print(my_empty_set)"
      ]
    },
    {
      "cell_type": "code",
      "execution_count": 5,
      "metadata": {
        "colab": {
          "base_uri": "https://localhost:8080/"
        },
        "id": "zZ0TLqGoifz3",
        "outputId": "7099c6d9-016d-46ed-f851-e504115c3344"
      },
      "outputs": [
        {
          "output_type": "stream",
          "name": "stdout",
          "text": [
            "{1, 2, 3, 4, 5, 6, 7}\n",
            "{1, 2, 3, 4, 5, 6, 7}\n"
          ]
        }
      ],
      "source": [
        "## Basics Sets Operation\n",
        "## Adiing and Removing Elements\n",
        "my_set.add(7)\n",
        "print(my_set)\n",
        "my_set.add(7)\n",
        "print(my_set)"
      ]
    },
    {
      "cell_type": "code",
      "execution_count": 6,
      "metadata": {
        "colab": {
          "base_uri": "https://localhost:8080/"
        },
        "id": "J_GfGucyifz3",
        "outputId": "ce5c04b7-f10b-46ca-b168-9703fdb71f75"
      },
      "outputs": [
        {
          "output_type": "stream",
          "name": "stdout",
          "text": [
            "{1, 2, 4, 5, 6, 7}\n"
          ]
        }
      ],
      "source": [
        "## Remove the elements from a set\n",
        "my_set.remove(3)\n",
        "print(my_set)"
      ]
    },
    {
      "cell_type": "code",
      "execution_count": 7,
      "metadata": {
        "colab": {
          "base_uri": "https://localhost:8080/",
          "height": 141
        },
        "id": "DJJOI-c0ifz4",
        "outputId": "48a05cad-f962-48dc-811d-f1f49c60b324"
      },
      "outputs": [
        {
          "output_type": "error",
          "ename": "KeyError",
          "evalue": "10",
          "traceback": [
            "\u001b[0;31m---------------------------------------------------------------------------\u001b[0m",
            "\u001b[0;31mKeyError\u001b[0m                                  Traceback (most recent call last)",
            "\u001b[0;32m<ipython-input-7-aa5e57d43179>\u001b[0m in \u001b[0;36m<cell line: 1>\u001b[0;34m()\u001b[0m\n\u001b[0;32m----> 1\u001b[0;31m \u001b[0mmy_set\u001b[0m\u001b[0;34m.\u001b[0m\u001b[0mremove\u001b[0m\u001b[0;34m(\u001b[0m\u001b[0;36m10\u001b[0m\u001b[0;34m)\u001b[0m\u001b[0;34m\u001b[0m\u001b[0;34m\u001b[0m\u001b[0m\n\u001b[0m",
            "\u001b[0;31mKeyError\u001b[0m: 10"
          ]
        }
      ],
      "source": [
        "my_set.remove(10)"
      ]
    },
    {
      "cell_type": "code",
      "execution_count": 8,
      "metadata": {
        "colab": {
          "base_uri": "https://localhost:8080/"
        },
        "id": "EyMqE-wvifz4",
        "outputId": "4b0ce87d-c186-4c4b-ceb5-b41982ea3e80"
      },
      "outputs": [
        {
          "output_type": "stream",
          "name": "stdout",
          "text": [
            "{1, 2, 4, 5, 6, 7}\n"
          ]
        }
      ],
      "source": [
        "my_set.discard(11)\n",
        "print(my_set)"
      ]
    },
    {
      "cell_type": "code",
      "execution_count": 9,
      "metadata": {
        "colab": {
          "base_uri": "https://localhost:8080/"
        },
        "id": "46-oKGMjifz4",
        "outputId": "0a9fdd2a-6016-424a-ec1a-fcf01ad22dbe"
      },
      "outputs": [
        {
          "output_type": "stream",
          "name": "stdout",
          "text": [
            "1\n",
            "{2, 4, 5, 6, 7}\n"
          ]
        }
      ],
      "source": [
        "## pop method\n",
        "removed_element=my_set.pop()\n",
        "print(removed_element)\n",
        "print(my_set)"
      ]
    },
    {
      "cell_type": "code",
      "execution_count": 10,
      "metadata": {
        "colab": {
          "base_uri": "https://localhost:8080/"
        },
        "id": "iJ5Q6CaJifz5",
        "outputId": "f015eb02-6997-4f4f-c8fe-6387469fb77a"
      },
      "outputs": [
        {
          "output_type": "stream",
          "name": "stdout",
          "text": [
            "set()\n"
          ]
        }
      ],
      "source": [
        "## clear all the elements\n",
        "my_set.clear()\n",
        "print(my_set)"
      ]
    },
    {
      "cell_type": "code",
      "execution_count": 11,
      "metadata": {
        "colab": {
          "base_uri": "https://localhost:8080/"
        },
        "id": "mXK8loXXifz5",
        "outputId": "e20cec38-d3a2-4a21-e2f5-c5468f9f8f67"
      },
      "outputs": [
        {
          "output_type": "stream",
          "name": "stdout",
          "text": [
            "True\n",
            "False\n"
          ]
        }
      ],
      "source": [
        "## Set Memebership test\n",
        "my_set={1,2,3,4,5}\n",
        "print(3 in my_set)\n",
        "print(10 in my_set)"
      ]
    },
    {
      "cell_type": "code",
      "execution_count": 13,
      "metadata": {
        "colab": {
          "base_uri": "https://localhost:8080/"
        },
        "id": "ZSWfjoRcifz5",
        "outputId": "81f90df1-2d46-4871-d46a-a7ca43e92b68"
      },
      "outputs": [
        {
          "output_type": "stream",
          "name": "stdout",
          "text": [
            "{1, 2, 3, 4, 5, 6, 7, 8, 9}\n",
            "{4, 5, 6}\n",
            "{4, 5, 6}\n"
          ]
        }
      ],
      "source": [
        "## MAthematical Operation\n",
        "set1={1,2,3,4,5,6}\n",
        "set2={4,5,6,7,8,9}\n",
        "\n",
        "### Union\n",
        "union_set=set1.union(set2)\n",
        "print(union_set)\n",
        "\n",
        "## Intersection\n",
        "intersection_set=set1.intersection(set2)\n",
        "print(intersection_set)\n",
        "\n",
        "set1.intersection_update(set2)\n",
        "print(set1)"
      ]
    },
    {
      "cell_type": "code",
      "execution_count": 14,
      "metadata": {
        "colab": {
          "base_uri": "https://localhost:8080/"
        },
        "id": "8H3Wy_qwifz6",
        "outputId": "07e3fdb1-bca4-466c-eea1-bc8523988087"
      },
      "outputs": [
        {
          "output_type": "stream",
          "name": "stdout",
          "text": [
            "{1, 2, 3}\n"
          ]
        }
      ],
      "source": [
        "set1={1,2,3,4,5,6}\n",
        "set2={4,5,6,7,8,9}\n",
        "\n",
        "## Difference\n",
        "print(set1.difference(set2))"
      ]
    },
    {
      "cell_type": "code",
      "execution_count": 15,
      "metadata": {
        "colab": {
          "base_uri": "https://localhost:8080/"
        },
        "id": "ZrKp01Jwifz6",
        "outputId": "fff937d1-9523-4c08-fcbd-a0ea52c0ae6d"
      },
      "outputs": [
        {
          "output_type": "execute_result",
          "data": {
            "text/plain": [
              "{1, 2, 3, 4, 5, 6}"
            ]
          },
          "metadata": {},
          "execution_count": 15
        }
      ],
      "source": [
        "set1"
      ]
    },
    {
      "cell_type": "code",
      "execution_count": 16,
      "metadata": {
        "colab": {
          "base_uri": "https://localhost:8080/"
        },
        "id": "DQlSn8Vjifz6",
        "outputId": "16206845-bf70-4a45-dd81-4a0c97c95cc9"
      },
      "outputs": [
        {
          "output_type": "execute_result",
          "data": {
            "text/plain": [
              "{7, 8, 9}"
            ]
          },
          "metadata": {},
          "execution_count": 16
        }
      ],
      "source": [
        "set2.difference(set1)"
      ]
    },
    {
      "cell_type": "code",
      "execution_count": 17,
      "metadata": {
        "colab": {
          "base_uri": "https://localhost:8080/"
        },
        "id": "BKRz1dvXifz6",
        "outputId": "87275c57-011d-4312-8f5b-30ae96ab162d"
      },
      "outputs": [
        {
          "output_type": "execute_result",
          "data": {
            "text/plain": [
              "{1, 2, 3, 7, 8, 9}"
            ]
          },
          "metadata": {},
          "execution_count": 17
        }
      ],
      "source": [
        "## Symmetric Difference\n",
        "set1.symmetric_difference(set2)"
      ]
    },
    {
      "cell_type": "code",
      "execution_count": 19,
      "metadata": {
        "colab": {
          "base_uri": "https://localhost:8080/"
        },
        "id": "jfxlAaDoifz6",
        "outputId": "f9e55cf3-aff8-4745-dace-d0cc23ef9bfc"
      },
      "outputs": [
        {
          "output_type": "stream",
          "name": "stdout",
          "text": [
            "False\n",
            "True\n"
          ]
        }
      ],
      "source": [
        "## Sets Methods\n",
        "set1={1,2,3,4,5}\n",
        "set2={3,4,5}\n",
        "\n",
        "## is subset\n",
        "print(set1.issubset(set2))\n",
        "\n",
        "print(set1.issuperset(set2))"
      ]
    },
    {
      "cell_type": "code",
      "execution_count": 20,
      "metadata": {
        "colab": {
          "base_uri": "https://localhost:8080/"
        },
        "id": "ftiKkzgEifz6",
        "outputId": "6551704e-b3bb-4574-b201-fc16c7d8eebb"
      },
      "outputs": [
        {
          "output_type": "execute_result",
          "data": {
            "text/plain": [
              "{1, 2, 3, 4, 5}"
            ]
          },
          "metadata": {},
          "execution_count": 20
        }
      ],
      "source": [
        "lst=[1,2,2,3,4,4,5]\n",
        "\n",
        "set(lst)"
      ]
    },
    {
      "cell_type": "code",
      "execution_count": 22,
      "metadata": {
        "colab": {
          "base_uri": "https://localhost:8080/"
        },
        "id": "Ul1uRZ6Aifz7",
        "outputId": "29d065e6-5647-4d6d-9305-4cbdaeae9a91"
      },
      "outputs": [
        {
          "output_type": "stream",
          "name": "stdout",
          "text": [
            "{'In', 'discussing', 'this', 'tutorial', 'we', 'are', 'about', 'sets'}\n",
            "8\n"
          ]
        }
      ],
      "source": [
        "### Counting Unique words in text\n",
        "\n",
        "text=\"In this tutorial we we are discussing about sets\"\n",
        "words=text.split()\n",
        "\n",
        "## convert list of words to set to get unique words\n",
        "\n",
        "unique_words=set(words)\n",
        "print(unique_words)\n",
        "print(len(unique_words))"
      ]
    },
    {
      "cell_type": "markdown",
      "metadata": {
        "id": "9s0V0RDIifz7"
      },
      "source": [
        "#### Conclusion\n",
        "Sets are a powerful and flexible data type in Python that provide a way to store collections of unique elements. They support various operations such as union, intersection, difference, and symmetric difference, which are useful for mathematical computations. Understanding how to use sets and their associated methods can help you write more efficient and clean Python code, especially when dealing with unique collections and membership tests."
      ]
    },
    {
      "cell_type": "code",
      "execution_count": 23,
      "metadata": {
        "colab": {
          "base_uri": "https://localhost:8080/"
        },
        "id": "QnPeRMzhifz7",
        "outputId": "fab0b1ad-ab8c-43ae-a945-07d7770716b3"
      },
      "outputs": [
        {
          "output_type": "stream",
          "name": "stdout",
          "text": [
            "{'banana', 'cherry', 'apple'}\n"
          ]
        }
      ],
      "source": [
        "# Creating a Set\n",
        "fruits = {\"apple\", \"banana\", \"cherry\"}\n",
        "print(fruits)  # Output: {'banana', 'cherry', 'apple'}"
      ]
    },
    {
      "cell_type": "code",
      "execution_count": 24,
      "metadata": {
        "colab": {
          "base_uri": "https://localhost:8080/"
        },
        "id": "N_usmLj5ifz7",
        "outputId": "df8a8e5b-9efd-43db-9b9b-3018b2faabea"
      },
      "outputs": [
        {
          "output_type": "stream",
          "name": "stdout",
          "text": [
            "{'orange', 'banana', 'cherry', 'apple'}\n"
          ]
        }
      ],
      "source": [
        "# Adding Items to a Set\n",
        "# Example\n",
        "fruits.add(\"orange\")\n",
        "print(fruits)  # Output: {'banana', 'cherry', 'apple', 'orange'}"
      ]
    },
    {
      "cell_type": "code",
      "execution_count": 25,
      "metadata": {
        "colab": {
          "base_uri": "https://localhost:8080/"
        },
        "id": "POsOqASfifz7",
        "outputId": "bc7e1a5c-2c60-4f0b-c879-a935c2e8dbb1"
      },
      "outputs": [
        {
          "output_type": "stream",
          "name": "stdout",
          "text": [
            "{'orange', 'cherry', 'apple'}\n"
          ]
        }
      ],
      "source": [
        "# Removing Items from a Set\n",
        "# Example\n",
        "fruits.remove(\"banana\")\n",
        "print(fruits)  # Output: {'cherry', 'apple', 'orange'}"
      ]
    },
    {
      "cell_type": "code",
      "execution_count": 26,
      "metadata": {
        "colab": {
          "base_uri": "https://localhost:8080/"
        },
        "id": "IScIKy_4ifz7",
        "outputId": "05e72452-5083-4d91-b607-438851641635"
      },
      "outputs": [
        {
          "output_type": "stream",
          "name": "stdout",
          "text": [
            "{'orange', 'cherry', 'apple'}\n"
          ]
        }
      ],
      "source": [
        "# Using discard() Method\n",
        "# The discard() method removes an item from the set but does not raise an error if the item is not found.\n",
        "# Example\n",
        "fruits.discard(\"grape\")  # No error raised\n",
        "print(fruits)  # Output: {'cherry', 'apple', 'orange'}"
      ]
    },
    {
      "cell_type": "code",
      "execution_count": 27,
      "metadata": {
        "colab": {
          "base_uri": "https://localhost:8080/"
        },
        "id": "Q6AlzQvJifz7",
        "outputId": "e8b94993-2114-40c1-bb1d-0a367b2c2e70"
      },
      "outputs": [
        {
          "output_type": "stream",
          "name": "stdout",
          "text": [
            "3\n"
          ]
        }
      ],
      "source": [
        "# Finding the Length of a Set\n",
        "print(len(fruits))  # Output: 3"
      ]
    },
    {
      "cell_type": "code",
      "execution_count": 28,
      "metadata": {
        "colab": {
          "base_uri": "https://localhost:8080/"
        },
        "id": "xDn2RtqTifz7",
        "outputId": "b8e35d78-faac-49ca-af78-23b9b3ecefa4"
      },
      "outputs": [
        {
          "output_type": "stream",
          "name": "stdout",
          "text": [
            "{1, 2, 3, 4, 5}\n",
            "{1, 2, 3, 4, 5}\n"
          ]
        }
      ],
      "source": [
        "# Set Union\n",
        "set_a = {1, 2, 3}\n",
        "set_b = {3, 4, 5}\n",
        "union_set = set_a.union(set_b)\n",
        "print(union_set)  # Output: {1, 2, 3, 4, 5}\n",
        "# Or using |\n",
        "print(set_a | set_b)  # Output: {1, 2, 3, 4, 5}"
      ]
    },
    {
      "cell_type": "code",
      "execution_count": 29,
      "metadata": {
        "colab": {
          "base_uri": "https://localhost:8080/"
        },
        "id": "J3VrfE3qifz7",
        "outputId": "5febbe13-89ab-4479-fee9-7e79970f4b76"
      },
      "outputs": [
        {
          "output_type": "stream",
          "name": "stdout",
          "text": [
            "{3}\n",
            "{3}\n"
          ]
        }
      ],
      "source": [
        "# Set Intersection\n",
        "# Example\n",
        "intersection_set = set_a.intersection(set_b)\n",
        "print(intersection_set)  # Output: {3}\n",
        "# Or using &\n",
        "print(set_a & set_b)     # Output: {3}\n"
      ]
    },
    {
      "cell_type": "code",
      "execution_count": 31,
      "metadata": {
        "colab": {
          "base_uri": "https://localhost:8080/"
        },
        "id": "WMl190fQifz7",
        "outputId": "37bc9ce5-cad7-46de-c7eb-6c5fe35686b6"
      },
      "outputs": [
        {
          "output_type": "stream",
          "name": "stdout",
          "text": [
            "{1, 2}\n",
            "{1, 2}\n"
          ]
        }
      ],
      "source": [
        "# Set Difference\n",
        "difference_set = set_a.difference(set_b)\n",
        "print(difference_set)  # Output: {1, 2}\n",
        "# Or using -\n",
        "print(set_a - set_b)   # Output: {1, 2}\n"
      ]
    },
    {
      "cell_type": "code",
      "source": [],
      "metadata": {
        "id": "FJkjTaPEmus8"
      },
      "execution_count": null,
      "outputs": []
    }
  ],
  "metadata": {
    "kernelspec": {
      "display_name": "Python 3",
      "language": "python",
      "name": "python3"
    },
    "language_info": {
      "codemirror_mode": {
        "name": "ipython",
        "version": 3
      },
      "file_extension": ".py",
      "mimetype": "text/x-python",
      "name": "python",
      "nbconvert_exporter": "python",
      "pygments_lexer": "ipython3",
      "version": "3.12.0"
    },
    "colab": {
      "provenance": [],
      "include_colab_link": true
    }
  },
  "nbformat": 4,
  "nbformat_minor": 0
}