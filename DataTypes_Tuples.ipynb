{
  "cells": [
    {
      "cell_type": "markdown",
      "metadata": {
        "id": "view-in-github",
        "colab_type": "text"
      },
      "source": [
        "<a href=\"https://colab.research.google.com/github/valentijnbongers/bacis_python_functions/blob/main/DataTypes_Tuples.ipynb\" target=\"_parent\"><img src=\"https://colab.research.google.com/assets/colab-badge.svg\" alt=\"Open In Colab\"/></a>"
      ]
    },
    {
      "cell_type": "markdown",
      "metadata": {
        "id": "VUlDlNz41u-Y"
      },
      "source": [
        "#### Tuples\n",
        "Video Outline:\n",
        "1. Introduction to Tuples\n",
        "2. Creating Tuples\n",
        "3. Accessing Tuple Elements\n",
        "4. Tuple Operations\n",
        "5. Immutable Nature of Tuples\n",
        "6. Tuple Methods\n",
        "7. Packing and Unpacking Tuples\n",
        "8. Nested Tuples\n",
        "9. Practical Examples and Common Errors\n"
      ]
    },
    {
      "cell_type": "markdown",
      "metadata": {
        "id": "XUdWYVY71u-a"
      },
      "source": [
        "\n",
        "##### Introduction to Tuples\n",
        "Explanation:\n",
        "\n",
        "Tuples are ordered collections of items that are immutable.\n",
        "They are similar to lists, but their immutability makes them different.\n"
      ]
    },
    {
      "cell_type": "code",
      "execution_count": 1,
      "metadata": {
        "colab": {
          "base_uri": "https://localhost:8080/"
        },
        "id": "UHWY1ype1u-b",
        "outputId": "7fbe1a5d-ca2f-4efe-96bb-bbdfce7c9098"
      },
      "outputs": [
        {
          "output_type": "stream",
          "name": "stdout",
          "text": [
            "()\n",
            "<class 'tuple'>\n"
          ]
        }
      ],
      "source": [
        "## creating a tuple\n",
        "empty_tuple=()\n",
        "print(empty_tuple)\n",
        "print(type(empty_tuple))"
      ]
    },
    {
      "cell_type": "code",
      "execution_count": 2,
      "metadata": {
        "colab": {
          "base_uri": "https://localhost:8080/"
        },
        "id": "cp3OhK-B1u-c",
        "outputId": "99cb4b71-b153-44e0-f95d-b63f6575b163"
      },
      "outputs": [
        {
          "output_type": "stream",
          "name": "stdout",
          "text": [
            "<class 'list'>\n",
            "<class 'tuple'>\n"
          ]
        }
      ],
      "source": [
        "lst=list()\n",
        "print(type(lst))\n",
        "tpl=tuple()\n",
        "print(type(tpl))"
      ]
    },
    {
      "cell_type": "code",
      "execution_count": 3,
      "metadata": {
        "colab": {
          "base_uri": "https://localhost:8080/"
        },
        "id": "U7kckeeq1u-c",
        "outputId": "0f296c5d-d9a8-47a3-8b79-2a33e6645b87"
      },
      "outputs": [
        {
          "output_type": "execute_result",
          "data": {
            "text/plain": [
              "(1, 2, 3, 4, 5, 6)"
            ]
          },
          "metadata": {},
          "execution_count": 3
        }
      ],
      "source": [
        "numbers=tuple([1,2,3,4,5,6])\n",
        "numbers"
      ]
    },
    {
      "cell_type": "code",
      "execution_count": 4,
      "metadata": {
        "colab": {
          "base_uri": "https://localhost:8080/"
        },
        "id": "J3mnZd5a1u-d",
        "outputId": "ea7f5ff3-03d3-4cb6-a67e-fbc4bff432ca"
      },
      "outputs": [
        {
          "output_type": "execute_result",
          "data": {
            "text/plain": [
              "[1, 2, 3, 4, 5, 6]"
            ]
          },
          "metadata": {},
          "execution_count": 4
        }
      ],
      "source": [
        "list((1,2,3,4,5,6))"
      ]
    },
    {
      "cell_type": "code",
      "execution_count": 5,
      "metadata": {
        "colab": {
          "base_uri": "https://localhost:8080/"
        },
        "id": "yQngjNvq1u-d",
        "outputId": "0c7fbddb-f5a5-481e-82c8-8e2dd06b0b8f"
      },
      "outputs": [
        {
          "output_type": "stream",
          "name": "stdout",
          "text": [
            "(1, 'Hello World', 3.14, True)\n"
          ]
        }
      ],
      "source": [
        "mixed_tuple=(1,\"Hello World\",3.14, True)\n",
        "print(mixed_tuple)"
      ]
    },
    {
      "cell_type": "code",
      "execution_count": 6,
      "metadata": {
        "colab": {
          "base_uri": "https://localhost:8080/"
        },
        "id": "uh50MaRB1u-d",
        "outputId": "64bb8c4f-7f9c-4dfe-ad32-7e60baed13a0"
      },
      "outputs": [
        {
          "output_type": "execute_result",
          "data": {
            "text/plain": [
              "(1, 2, 3, 4, 5, 6)"
            ]
          },
          "metadata": {},
          "execution_count": 6
        }
      ],
      "source": [
        "## Accessing Tuple Elements\n",
        "\n",
        "numbers"
      ]
    },
    {
      "cell_type": "code",
      "execution_count": 7,
      "metadata": {
        "colab": {
          "base_uri": "https://localhost:8080/"
        },
        "id": "RCMVAEnl1u-e",
        "outputId": "4037d266-4aa8-46f9-c747-45150a870378"
      },
      "outputs": [
        {
          "output_type": "stream",
          "name": "stdout",
          "text": [
            "3\n",
            "6\n"
          ]
        }
      ],
      "source": [
        "print(numbers[2])\n",
        "print(numbers[-1])"
      ]
    },
    {
      "cell_type": "code",
      "execution_count": 8,
      "metadata": {
        "colab": {
          "base_uri": "https://localhost:8080/"
        },
        "id": "yo3ftv0w1u-e",
        "outputId": "7f44c873-8f1f-482c-ad98-806eb156a6b0"
      },
      "outputs": [
        {
          "output_type": "execute_result",
          "data": {
            "text/plain": [
              "(1, 2, 3, 4)"
            ]
          },
          "metadata": {},
          "execution_count": 8
        }
      ],
      "source": [
        "numbers[0:4]"
      ]
    },
    {
      "cell_type": "code",
      "execution_count": 9,
      "metadata": {
        "colab": {
          "base_uri": "https://localhost:8080/"
        },
        "id": "IHBypQmv1u-f",
        "outputId": "1e1de903-f608-49fe-eb9c-8388699169d4"
      },
      "outputs": [
        {
          "output_type": "execute_result",
          "data": {
            "text/plain": [
              "(6, 5, 4, 3, 2, 1)"
            ]
          },
          "metadata": {},
          "execution_count": 9
        }
      ],
      "source": [
        "numbers[::-1]"
      ]
    },
    {
      "cell_type": "code",
      "execution_count": 10,
      "metadata": {
        "colab": {
          "base_uri": "https://localhost:8080/"
        },
        "id": "KQInEJKP1u-f",
        "outputId": "4bfbae6e-d163-454e-a78f-97ebd2ce2f8f"
      },
      "outputs": [
        {
          "output_type": "stream",
          "name": "stdout",
          "text": [
            "(1, 2, 3, 4, 5, 6, 1, 'Hello World', 3.14, True)\n"
          ]
        }
      ],
      "source": [
        "## Tuple Operations\n",
        "concatenation_tuple=numbers + mixed_tuple\n",
        "print(concatenation_tuple)"
      ]
    },
    {
      "cell_type": "code",
      "execution_count": 11,
      "metadata": {
        "colab": {
          "base_uri": "https://localhost:8080/"
        },
        "id": "xI5FCD711u-f",
        "outputId": "70ea4898-6366-4da0-f7d5-ab72ade753c4"
      },
      "outputs": [
        {
          "output_type": "execute_result",
          "data": {
            "text/plain": [
              "(1,\n",
              " 'Hello World',\n",
              " 3.14,\n",
              " True,\n",
              " 1,\n",
              " 'Hello World',\n",
              " 3.14,\n",
              " True,\n",
              " 1,\n",
              " 'Hello World',\n",
              " 3.14,\n",
              " True)"
            ]
          },
          "metadata": {},
          "execution_count": 11
        }
      ],
      "source": [
        "mixed_tuple * 3"
      ]
    },
    {
      "cell_type": "code",
      "execution_count": 12,
      "metadata": {
        "colab": {
          "base_uri": "https://localhost:8080/"
        },
        "id": "TZC4MmOr1u-f",
        "outputId": "92a7d9ab-ce00-42fc-8cdf-9af76a270e0e"
      },
      "outputs": [
        {
          "output_type": "execute_result",
          "data": {
            "text/plain": [
              "(1, 2, 3, 4, 5, 6, 1, 2, 3, 4, 5, 6, 1, 2, 3, 4, 5, 6)"
            ]
          },
          "metadata": {},
          "execution_count": 12
        }
      ],
      "source": [
        "numbers *3"
      ]
    },
    {
      "cell_type": "code",
      "execution_count": 13,
      "metadata": {
        "colab": {
          "base_uri": "https://localhost:8080/"
        },
        "id": "bKPuLMBQ1u-f",
        "outputId": "ee943964-9bcf-4998-bb10-f5a6f348f28b"
      },
      "outputs": [
        {
          "output_type": "stream",
          "name": "stdout",
          "text": [
            "[1, 2, 3, 4, 5]\n",
            "[1, 'Valentijn', 3, 4, 5]\n"
          ]
        }
      ],
      "source": [
        "## Immutable Nature Of Tuples\n",
        "## Tuples are immutable, meaning their elements cannot be changed once assigned.\n",
        "\n",
        "lst=[1,2,3,4,5]\n",
        "print(lst)\n",
        "\n",
        "lst[1]=\"Valentijn\"\n",
        "print(lst)"
      ]
    },
    {
      "cell_type": "code",
      "execution_count": 16,
      "metadata": {
        "colab": {
          "base_uri": "https://localhost:8080/"
        },
        "id": "QeGrv9VO1u-f",
        "outputId": "dabd6fd1-0c55-46ca-c0e1-b620e55feb07"
      },
      "outputs": [
        {
          "output_type": "execute_result",
          "data": {
            "text/plain": [
              "tuple"
            ]
          },
          "metadata": {},
          "execution_count": 16
        }
      ],
      "source": [
        "type(numbers)"
      ]
    },
    {
      "cell_type": "code",
      "source": [
        "numbers[1]=\"Valentijn\""
      ],
      "metadata": {
        "colab": {
          "base_uri": "https://localhost:8080/",
          "height": 141
        },
        "id": "5OL9dKsg2xTe",
        "outputId": "cc2d0a0b-0352-4f20-fece-21319543656b"
      },
      "execution_count": 17,
      "outputs": [
        {
          "output_type": "error",
          "ename": "TypeError",
          "evalue": "'tuple' object does not support item assignment",
          "traceback": [
            "\u001b[0;31m---------------------------------------------------------------------------\u001b[0m",
            "\u001b[0;31mTypeError\u001b[0m                                 Traceback (most recent call last)",
            "\u001b[0;32m<ipython-input-17-487dbf91daf9>\u001b[0m in \u001b[0;36m<cell line: 1>\u001b[0;34m()\u001b[0m\n\u001b[0;32m----> 1\u001b[0;31m \u001b[0mnumbers\u001b[0m\u001b[0;34m[\u001b[0m\u001b[0;36m1\u001b[0m\u001b[0;34m]\u001b[0m\u001b[0;34m=\u001b[0m\u001b[0;34m\"Valentijn\"\u001b[0m\u001b[0;34m\u001b[0m\u001b[0;34m\u001b[0m\u001b[0m\n\u001b[0m",
            "\u001b[0;31mTypeError\u001b[0m: 'tuple' object does not support item assignment"
          ]
        }
      ]
    },
    {
      "cell_type": "code",
      "execution_count": 18,
      "metadata": {
        "colab": {
          "base_uri": "https://localhost:8080/"
        },
        "id": "M-9dbgzS1u-f",
        "outputId": "a6bf58ac-f92b-4a51-be43-12e4f8869b5f"
      },
      "outputs": [
        {
          "output_type": "execute_result",
          "data": {
            "text/plain": [
              "(1, 2, 3, 4, 5, 6)"
            ]
          },
          "metadata": {},
          "execution_count": 18
        }
      ],
      "source": [
        "numbers"
      ]
    },
    {
      "cell_type": "code",
      "execution_count": 19,
      "metadata": {
        "colab": {
          "base_uri": "https://localhost:8080/"
        },
        "id": "B9kpfsgo1u-g",
        "outputId": "198b6b99-da93-4fa1-d9e3-727e0c6caad6"
      },
      "outputs": [
        {
          "output_type": "stream",
          "name": "stdout",
          "text": [
            "1\n",
            "2\n"
          ]
        }
      ],
      "source": [
        "## Tuple Methods\n",
        "print(numbers.count(1))\n",
        "print(numbers.index(3))"
      ]
    },
    {
      "cell_type": "code",
      "execution_count": 20,
      "metadata": {
        "colab": {
          "base_uri": "https://localhost:8080/"
        },
        "id": "VpST7E261u-g",
        "outputId": "dc9615ed-e920-46b1-b25b-c701d8ca29ee"
      },
      "outputs": [
        {
          "output_type": "stream",
          "name": "stdout",
          "text": [
            "(1, 'Hello', 3.14)\n"
          ]
        }
      ],
      "source": [
        "## Packing and Unpacking tuple\n",
        "## packing\n",
        "packed_tuple=1,\"Hello\",3.14\n",
        "print(packed_tuple)"
      ]
    },
    {
      "cell_type": "code",
      "execution_count": 21,
      "metadata": {
        "colab": {
          "base_uri": "https://localhost:8080/"
        },
        "id": "5nAu5GQr1u-g",
        "outputId": "4f8f8757-6a92-4d27-9fdd-39c5d98f3cc6"
      },
      "outputs": [
        {
          "output_type": "stream",
          "name": "stdout",
          "text": [
            "1\n",
            "Hello\n",
            "3.14\n"
          ]
        }
      ],
      "source": [
        "##unpacking a tuple\n",
        "a,b,c=packed_tuple\n",
        "\n",
        "print(a)\n",
        "print(b)\n",
        "print(c)"
      ]
    },
    {
      "cell_type": "code",
      "source": [
        "type(a)"
      ],
      "metadata": {
        "colab": {
          "base_uri": "https://localhost:8080/"
        },
        "id": "1cgdLEpX3O_q",
        "outputId": "0b1d18b7-e04e-4c60-a2f4-7458107fe5ff"
      },
      "execution_count": 22,
      "outputs": [
        {
          "output_type": "execute_result",
          "data": {
            "text/plain": [
              "int"
            ]
          },
          "metadata": {},
          "execution_count": 22
        }
      ]
    },
    {
      "cell_type": "code",
      "source": [
        "type(b)"
      ],
      "metadata": {
        "colab": {
          "base_uri": "https://localhost:8080/"
        },
        "id": "pQKrk6SH3Rxi",
        "outputId": "00d02ffb-f223-46b1-86e6-8b2478dabc0c"
      },
      "execution_count": 23,
      "outputs": [
        {
          "output_type": "execute_result",
          "data": {
            "text/plain": [
              "str"
            ]
          },
          "metadata": {},
          "execution_count": 23
        }
      ]
    },
    {
      "cell_type": "code",
      "source": [
        "type(c)"
      ],
      "metadata": {
        "colab": {
          "base_uri": "https://localhost:8080/"
        },
        "id": "qt2ZXaBe3VjI",
        "outputId": "ec279653-b016-40bc-b610-193d317386a5"
      },
      "execution_count": 24,
      "outputs": [
        {
          "output_type": "execute_result",
          "data": {
            "text/plain": [
              "float"
            ]
          },
          "metadata": {},
          "execution_count": 24
        }
      ]
    },
    {
      "cell_type": "code",
      "execution_count": 25,
      "metadata": {
        "colab": {
          "base_uri": "https://localhost:8080/"
        },
        "id": "OqTQz91l1u-g",
        "outputId": "a71bd26e-51c7-4322-b73a-879777f98b3f"
      },
      "outputs": [
        {
          "output_type": "stream",
          "name": "stdout",
          "text": [
            "1\n",
            "[2, 3, 4, 5]\n",
            "6\n"
          ]
        }
      ],
      "source": [
        "## Unpacking with *\n",
        "numbers=(1,2,3,4,5,6)\n",
        "first,*middle,last=numbers\n",
        "print(first)\n",
        "print(middle)\n",
        "print(last)"
      ]
    },
    {
      "cell_type": "code",
      "source": [
        "type(first)"
      ],
      "metadata": {
        "colab": {
          "base_uri": "https://localhost:8080/"
        },
        "id": "WhAEjlSN3eRa",
        "outputId": "30fa850d-def7-4ea3-cec2-663db3450529"
      },
      "execution_count": 26,
      "outputs": [
        {
          "output_type": "execute_result",
          "data": {
            "text/plain": [
              "int"
            ]
          },
          "metadata": {},
          "execution_count": 26
        }
      ]
    },
    {
      "cell_type": "code",
      "source": [
        "type(middle)"
      ],
      "metadata": {
        "colab": {
          "base_uri": "https://localhost:8080/"
        },
        "id": "0ieZd5k43hJA",
        "outputId": "d84f7471-ddbf-445b-f725-0ec1e956e047"
      },
      "execution_count": 27,
      "outputs": [
        {
          "output_type": "execute_result",
          "data": {
            "text/plain": [
              "list"
            ]
          },
          "metadata": {},
          "execution_count": 27
        }
      ]
    },
    {
      "cell_type": "code",
      "source": [
        "type(last)"
      ],
      "metadata": {
        "colab": {
          "base_uri": "https://localhost:8080/"
        },
        "id": "9tC58PpJ3kzL",
        "outputId": "468275ab-bdf0-4df1-84a9-9e11bc26e7ce"
      },
      "execution_count": 28,
      "outputs": [
        {
          "output_type": "execute_result",
          "data": {
            "text/plain": [
              "int"
            ]
          },
          "metadata": {},
          "execution_count": 28
        }
      ]
    },
    {
      "cell_type": "code",
      "execution_count": 29,
      "metadata": {
        "colab": {
          "base_uri": "https://localhost:8080/"
        },
        "id": "96URYuEw1u-g",
        "outputId": "d5ecff34-d9fc-4569-e22a-068c90ee7278"
      },
      "outputs": [
        {
          "output_type": "execute_result",
          "data": {
            "text/plain": [
              "[1, 2, 3]"
            ]
          },
          "metadata": {},
          "execution_count": 29
        }
      ],
      "source": [
        "## Nested Tuple\n",
        "## Nested List\n",
        "lst=[[1,2,3,4],[6,7,8,9],[1,\"Hello\",3.14,\"c\"]]\n",
        "lst[0][0:3]"
      ]
    },
    {
      "cell_type": "code",
      "execution_count": 30,
      "metadata": {
        "colab": {
          "base_uri": "https://localhost:8080/"
        },
        "id": "dEaYOZ2v1u-g",
        "outputId": "49ba93a9-8f46-4eae-993a-e2b73f89d67d"
      },
      "outputs": [
        {
          "output_type": "execute_result",
          "data": {
            "text/plain": [
              "(1, 'Hello', 3.14)"
            ]
          },
          "metadata": {},
          "execution_count": 30
        }
      ],
      "source": [
        "lst=[[1,2,3,4],[6,7,8,9],(1,\"Hello\",3.14,\"c\")]\n",
        "lst[2][0:3]"
      ]
    },
    {
      "cell_type": "code",
      "execution_count": 31,
      "metadata": {
        "colab": {
          "base_uri": "https://localhost:8080/"
        },
        "id": "fWdYaZjp1u-g",
        "outputId": "5f0b19d8-5ecb-445d-be55-90a480710aee"
      },
      "outputs": [
        {
          "output_type": "stream",
          "name": "stdout",
          "text": [
            "(1, 2, 3)\n",
            "c\n"
          ]
        }
      ],
      "source": [
        "nested_tuple = ((1, 2, 3), (\"a\", \"b\", \"c\"), (True, False))\n",
        "\n",
        "## access the elements inside a tuple\n",
        "print(nested_tuple[0])\n",
        "print(nested_tuple[1][2])"
      ]
    },
    {
      "cell_type": "code",
      "source": [
        "num1 = nested_tuple[1][2]\n",
        "type(num1)"
      ],
      "metadata": {
        "colab": {
          "base_uri": "https://localhost:8080/"
        },
        "id": "dYv1ojyA395U",
        "outputId": "b05bb1a2-b04e-4773-cac1-aefdcc390ec0"
      },
      "execution_count": 32,
      "outputs": [
        {
          "output_type": "execute_result",
          "data": {
            "text/plain": [
              "str"
            ]
          },
          "metadata": {},
          "execution_count": 32
        }
      ]
    },
    {
      "cell_type": "code",
      "source": [
        "num1 = nested_tuple[0][2]\n",
        "type(num1)"
      ],
      "metadata": {
        "colab": {
          "base_uri": "https://localhost:8080/"
        },
        "id": "9k_uBUH94EX_",
        "outputId": "97ccc6c4-3bdf-4966-9513-686d94589509"
      },
      "execution_count": 33,
      "outputs": [
        {
          "output_type": "execute_result",
          "data": {
            "text/plain": [
              "int"
            ]
          },
          "metadata": {},
          "execution_count": 33
        }
      ]
    },
    {
      "cell_type": "code",
      "source": [
        "num1 = nested_tuple[2][1]\n",
        "type(num1)"
      ],
      "metadata": {
        "colab": {
          "base_uri": "https://localhost:8080/"
        },
        "id": "IQWcc7_j4Hxd",
        "outputId": "6557579c-d552-4d3e-b709-e09b75448ce0"
      },
      "execution_count": 35,
      "outputs": [
        {
          "output_type": "execute_result",
          "data": {
            "text/plain": [
              "bool"
            ]
          },
          "metadata": {},
          "execution_count": 35
        }
      ]
    },
    {
      "cell_type": "code",
      "execution_count": null,
      "metadata": {
        "id": "DhHwupKq1u-g",
        "outputId": "90a81e01-f73d-4869-87c6-ac97d97de1df"
      },
      "outputs": [
        {
          "name": "stdout",
          "output_type": "stream",
          "text": [
            "1 2 3 \n",
            "a b c \n",
            "True False \n"
          ]
        }
      ],
      "source": [
        "## iterating over nested tuples\n",
        "for sub_tuple in nested_tuple:\n",
        "    for item in sub_tuple:\n",
        "        print(item,end=\" \")\n",
        "    print()"
      ]
    },
    {
      "cell_type": "markdown",
      "metadata": {
        "id": "f4yyfMMw1u-g"
      },
      "source": [
        "#### Conclusion\n",
        "Tuples are versatile and useful in many real-world scenarios where an immutable and ordered collection of items is required. They are commonly used in data structures, function arguments and return values, and as dictionary keys. Understanding how to leverage tuples effectively can improve the efficiency and readability of your Python code."
      ]
    },
    {
      "cell_type": "code",
      "execution_count": 36,
      "metadata": {
        "colab": {
          "base_uri": "https://localhost:8080/"
        },
        "id": "fqDUZW5Z1u-h",
        "outputId": "fa98f125-276e-4c78-8d62-b00ab4dae63f"
      },
      "outputs": [
        {
          "output_type": "stream",
          "name": "stdout",
          "text": [
            "(1, 2, 3)\n"
          ]
        }
      ],
      "source": [
        "# Example Creating a Tuple\n",
        "my_tuple = (1, 2, 3)\n",
        "print(my_tuple)  # Output: (1, 2, 3)"
      ]
    },
    {
      "cell_type": "code",
      "execution_count": 37,
      "metadata": {
        "colab": {
          "base_uri": "https://localhost:8080/"
        },
        "id": "IwrZHMUH1u-h",
        "outputId": "368dedb7-59ba-4027-f579-891a1ae30ed0"
      },
      "outputs": [
        {
          "output_type": "stream",
          "name": "stdout",
          "text": [
            "banana\n"
          ]
        }
      ],
      "source": [
        "# Accessing Elements\n",
        "# Example\n",
        "my_tuple = ('apple', 'banana', 'cherry')\n",
        "print(my_tuple[1])  # Output: banana"
      ]
    },
    {
      "cell_type": "code",
      "execution_count": 38,
      "metadata": {
        "colab": {
          "base_uri": "https://localhost:8080/"
        },
        "id": "JfNBBEek1u-h",
        "outputId": "5a4c6d64-526f-4245-96a4-131a4a81d09c"
      },
      "outputs": [
        {
          "output_type": "stream",
          "name": "stdout",
          "text": [
            "10 20\n"
          ]
        }
      ],
      "source": [
        "# Tuple Unpacking\n",
        "# Example\n",
        "coordinates = (10, 20)\n",
        "x, y = coordinates\n",
        "print(x, y)  # Output: 10 20"
      ]
    },
    {
      "cell_type": "code",
      "execution_count": 39,
      "metadata": {
        "colab": {
          "base_uri": "https://localhost:8080/"
        },
        "id": "Q3Nu45e_1u-h",
        "outputId": "aadf91fe-4530-470e-bcf1-2477c63eabf9"
      },
      "outputs": [
        {
          "output_type": "stream",
          "name": "stdout",
          "text": [
            "{(10, 20): 'Point A'}\n"
          ]
        }
      ],
      "source": [
        "# Using Tuples as Dictionary Keys\n",
        "# Example\n",
        "location_dict = {}\n",
        "location_dict[(10, 20)] = \"Point A\"\n",
        "print(location_dict)  # Output: {(10, 20): 'Point A'}\n"
      ]
    },
    {
      "cell_type": "code",
      "execution_count": 40,
      "metadata": {
        "colab": {
          "base_uri": "https://localhost:8080/"
        },
        "id": "F3OEc4nC1u-h",
        "outputId": "39db7c38-b26b-41f6-a16a-4dd1c4332055"
      },
      "outputs": [
        {
          "output_type": "stream",
          "name": "stdout",
          "text": [
            "(1, 5)\n"
          ]
        }
      ],
      "source": [
        "# Storing Multiple Return Values\n",
        "# Example\n",
        "def min_max(values):\n",
        "    return (min(values), max(values))\n",
        "\n",
        "result = min_max([3, 1, 4, 1, 5])\n",
        "print(result)  # Output: (1, 5)\n"
      ]
    },
    {
      "cell_type": "code",
      "execution_count": 41,
      "metadata": {
        "colab": {
          "base_uri": "https://localhost:8080/"
        },
        "id": "TDrGpcSw1u-h",
        "outputId": "2deea4cf-d3a1-47d2-de6a-ccd7308a566d"
      },
      "outputs": [
        {
          "output_type": "execute_result",
          "data": {
            "text/plain": [
              "tuple"
            ]
          },
          "metadata": {},
          "execution_count": 41
        }
      ],
      "source": [
        "type(result)"
      ]
    },
    {
      "cell_type": "code",
      "source": [
        "# Immutability\n",
        "# Example\n",
        "my_tuple = (1, 2, 3)\n",
        "my_tuple[0] = 10  # This will raise a TypeError\n"
      ],
      "metadata": {
        "colab": {
          "base_uri": "https://localhost:8080/",
          "height": 176
        },
        "id": "PT1URB626QDd",
        "outputId": "6ce3ce15-6ddf-49a2-8183-09a08e38a188"
      },
      "execution_count": 43,
      "outputs": [
        {
          "output_type": "error",
          "ename": "TypeError",
          "evalue": "'tuple' object does not support item assignment",
          "traceback": [
            "\u001b[0;31m---------------------------------------------------------------------------\u001b[0m",
            "\u001b[0;31mTypeError\u001b[0m                                 Traceback (most recent call last)",
            "\u001b[0;32m<ipython-input-43-e84e5d62503a>\u001b[0m in \u001b[0;36m<cell line: 4>\u001b[0;34m()\u001b[0m\n\u001b[1;32m      2\u001b[0m \u001b[0;31m# Example\u001b[0m\u001b[0;34m\u001b[0m\u001b[0;34m\u001b[0m\u001b[0m\n\u001b[1;32m      3\u001b[0m \u001b[0mmy_tuple\u001b[0m \u001b[0;34m=\u001b[0m \u001b[0;34m(\u001b[0m\u001b[0;36m1\u001b[0m\u001b[0;34m,\u001b[0m \u001b[0;36m2\u001b[0m\u001b[0;34m,\u001b[0m \u001b[0;36m3\u001b[0m\u001b[0;34m)\u001b[0m\u001b[0;34m\u001b[0m\u001b[0;34m\u001b[0m\u001b[0m\n\u001b[0;32m----> 4\u001b[0;31m \u001b[0mmy_tuple\u001b[0m\u001b[0;34m[\u001b[0m\u001b[0;36m0\u001b[0m\u001b[0;34m]\u001b[0m \u001b[0;34m=\u001b[0m \u001b[0;36m10\u001b[0m  \u001b[0;31m# This will raise a TypeError\u001b[0m\u001b[0;34m\u001b[0m\u001b[0;34m\u001b[0m\u001b[0m\n\u001b[0m",
            "\u001b[0;31mTypeError\u001b[0m: 'tuple' object does not support item assignment"
          ]
        }
      ]
    },
    {
      "cell_type": "code",
      "source": [
        "# Nested Tuples\n",
        "# Example\n",
        "nested_tuple = ((1, 2), (3, 4), (5, 6))\n",
        "print(nested_tuple[1])      # Output: (3, 4)\n",
        "print(nested_tuple[1][0])   # Output: 3"
      ],
      "metadata": {
        "colab": {
          "base_uri": "https://localhost:8080/"
        },
        "id": "C3r4P5HZ65HT",
        "outputId": "29c10309-d6a6-4e4a-8d51-45b3ee3dca9a"
      },
      "execution_count": 44,
      "outputs": [
        {
          "output_type": "stream",
          "name": "stdout",
          "text": [
            "(3, 4)\n",
            "3\n"
          ]
        }
      ]
    },
    {
      "cell_type": "code",
      "source": [
        "# Tuple Methods\n",
        "# Example\n",
        "my_tuple = (1, 2, 3, 2)\n",
        "print(my_tuple.count(2))   # Output: 2\n",
        "print(my_tuple.index(3))    # Output: 2"
      ],
      "metadata": {
        "colab": {
          "base_uri": "https://localhost:8080/"
        },
        "id": "XhPNDaTZ7QjS",
        "outputId": "c6b0ab8b-6783-495b-962e-e12a893104b2"
      },
      "execution_count": 45,
      "outputs": [
        {
          "output_type": "stream",
          "name": "stdout",
          "text": [
            "2\n",
            "2\n"
          ]
        }
      ]
    },
    {
      "cell_type": "code",
      "source": [
        "# Concatenation and Repetition\n",
        "# Example\n",
        "tuple_a = (1, 2)\n",
        "tuple_b = (3, 4)\n",
        "combined = tuple_a + tuple_b   # Concatenation\n",
        "repeated = tuple_a * 3          # Repetition\n",
        "\n",
        "print(combined)   # Output: (1, 2, 3, 4)\n",
        "print(repeated)   # Output: (1, 2, 1, 2, 1, 2)"
      ],
      "metadata": {
        "colab": {
          "base_uri": "https://localhost:8080/"
        },
        "id": "FJaAuVlu7W07",
        "outputId": "c7cc6e04-268a-423f-a495-8a8b1cad60d9"
      },
      "execution_count": 46,
      "outputs": [
        {
          "output_type": "stream",
          "name": "stdout",
          "text": [
            "(1, 2, 3, 4)\n",
            "(1, 2, 1, 2, 1, 2)\n"
          ]
        }
      ]
    },
    {
      "cell_type": "code",
      "source": [
        "# Using Tuples for Data Integrity\n",
        "# Example of using tuples to store configuration settings.\n",
        "config = ('localhost', '8080', True)\n",
        "# This ensures the configuration settings cannot be altered accidentally.\n"
      ],
      "metadata": {
        "id": "SbPwXoq77chR"
      },
      "execution_count": 47,
      "outputs": []
    },
    {
      "cell_type": "code",
      "source": [
        "# Tuple Unpacking\n",
        "\n",
        "# Example of tuple unpacking\n",
        "person = (\"Alice\", 30, \"Engineer\")\n",
        "name, age, profession = person\n",
        "print(name)       # Output: Alice\n",
        "print(age)        # Output: 30\n",
        "print(profession) # Output: Engineer\n"
      ],
      "metadata": {
        "colab": {
          "base_uri": "https://localhost:8080/"
        },
        "id": "lCktd8k-7k0N",
        "outputId": "448e8482-df62-451d-8bdd-f78675bef063"
      },
      "execution_count": 48,
      "outputs": [
        {
          "output_type": "stream",
          "name": "stdout",
          "text": [
            "Alice\n",
            "30\n",
            "Engineer\n"
          ]
        }
      ]
    },
    {
      "cell_type": "code",
      "source": [
        "# Using Tuples as Dictionary Keys\n",
        "# Example of using tuples as dictionary keys\n",
        "location_data = {}\n",
        "location_data[(10.0, 20.0)] = \"Location A\"\n",
        "location_data[(30.0, 40.0)] = \"Location B\"\n",
        "print(location_data)  # Output: {(10.0, 20.0): 'Location A', (30.0, 40.0): 'Location B'}\n"
      ],
      "metadata": {
        "colab": {
          "base_uri": "https://localhost:8080/"
        },
        "id": "18R_JRqN74rQ",
        "outputId": "37379ddd-3e71-48fd-c3b3-5f8ac7d78f0d"
      },
      "execution_count": 49,
      "outputs": [
        {
          "output_type": "stream",
          "name": "stdout",
          "text": [
            "{(10.0, 20.0): 'Location A', (30.0, 40.0): 'Location B'}\n"
          ]
        }
      ]
    },
    {
      "cell_type": "code",
      "source": [
        "# Returning Multiple Values from Functions\n",
        "# Example of returning a tuple from a function\n",
        "\n",
        "def calculate_statistics(numbers):\n",
        "    total = sum(numbers)\n",
        "    average = total / len(numbers)\n",
        "    return total, average\n",
        "\n",
        "stats = calculate_statistics([10, 20, 30])\n",
        "print(stats)  # Output: (60, 20.0)\n"
      ],
      "metadata": {
        "colab": {
          "base_uri": "https://localhost:8080/"
        },
        "id": "8ShBz2de8FtP",
        "outputId": "9f52fee9-cb54-40cf-f1f2-83f4c91d171a"
      },
      "execution_count": 50,
      "outputs": [
        {
          "output_type": "stream",
          "name": "stdout",
          "text": [
            "(60, 20.0)\n"
          ]
        }
      ]
    },
    {
      "cell_type": "code",
      "source": [
        "# Nested Tuples\n",
        "# Example of nested tuples\n",
        "nested_tuple = ((1, 2), (3, 4), (5, 6))\n",
        "print(nested_tuple[1])      # Output: (3, 4)\n",
        "print(nested_tuple[1][0])   # Output: 3"
      ],
      "metadata": {
        "colab": {
          "base_uri": "https://localhost:8080/"
        },
        "id": "n8d39W9G8RjK",
        "outputId": "89c2d3cd-c0c2-41b5-d7dc-1617ef29be25"
      },
      "execution_count": 51,
      "outputs": [
        {
          "output_type": "stream",
          "name": "stdout",
          "text": [
            "(3, 4)\n",
            "3\n"
          ]
        }
      ]
    },
    {
      "cell_type": "code",
      "source": [
        "# Nested Tuples\n",
        "# Example of nested tuples\n",
        "nested_tuple = ((1, 2), (3, 4), (5, 6))\n",
        "print(nested_tuple[1])      # Output: (3, 4)\n",
        "print(nested_tuple[1][0])   # Output: 3\n"
      ],
      "metadata": {
        "colab": {
          "base_uri": "https://localhost:8080/"
        },
        "id": "e7bz9ShZ8eSu",
        "outputId": "cdb888f4-9ff5-4867-d9ca-498ce9dc5cf6"
      },
      "execution_count": 52,
      "outputs": [
        {
          "output_type": "stream",
          "name": "stdout",
          "text": [
            "(3, 4)\n",
            "3\n"
          ]
        }
      ]
    },
    {
      "cell_type": "code",
      "source": [
        "# Immutability for Data Integrity\n",
        "# Example of using tuples for configuration settings\n",
        "config = (\"localhost\", \"8080\", True)\n",
        "config[0] = \"127.0.0.1\"  # This would raise a TypeError since tuples are immutable."
      ],
      "metadata": {
        "colab": {
          "base_uri": "https://localhost:8080/",
          "height": 176
        },
        "id": "hxGzEWA985dU",
        "outputId": "746615bb-e4c8-4931-dda6-3deb41526679"
      },
      "execution_count": 54,
      "outputs": [
        {
          "output_type": "error",
          "ename": "TypeError",
          "evalue": "'tuple' object does not support item assignment",
          "traceback": [
            "\u001b[0;31m---------------------------------------------------------------------------\u001b[0m",
            "\u001b[0;31mTypeError\u001b[0m                                 Traceback (most recent call last)",
            "\u001b[0;32m<ipython-input-54-ab072f3adcb9>\u001b[0m in \u001b[0;36m<cell line: 4>\u001b[0;34m()\u001b[0m\n\u001b[1;32m      2\u001b[0m \u001b[0;31m# Example of using tuples for configuration settings\u001b[0m\u001b[0;34m\u001b[0m\u001b[0;34m\u001b[0m\u001b[0m\n\u001b[1;32m      3\u001b[0m \u001b[0mconfig\u001b[0m \u001b[0;34m=\u001b[0m \u001b[0;34m(\u001b[0m\u001b[0;34m\"localhost\"\u001b[0m\u001b[0;34m,\u001b[0m \u001b[0;34m\"8080\"\u001b[0m\u001b[0;34m,\u001b[0m \u001b[0;32mTrue\u001b[0m\u001b[0;34m)\u001b[0m\u001b[0;34m\u001b[0m\u001b[0;34m\u001b[0m\u001b[0m\n\u001b[0;32m----> 4\u001b[0;31m \u001b[0mconfig\u001b[0m\u001b[0;34m[\u001b[0m\u001b[0;36m0\u001b[0m\u001b[0;34m]\u001b[0m \u001b[0;34m=\u001b[0m \u001b[0;34m\"127.0.0.1\"\u001b[0m  \u001b[0;31m# This would raise a TypeError since tuples are immutable.\u001b[0m\u001b[0;34m\u001b[0m\u001b[0;34m\u001b[0m\u001b[0m\n\u001b[0m",
            "\u001b[0;31mTypeError\u001b[0m: 'tuple' object does not support item assignment"
          ]
        }
      ]
    },
    {
      "cell_type": "code",
      "source": [
        "# Using tuple() Constructor with Iterables\n",
        "# Example of creating a tuple from a list\n",
        "my_list = [1, 2, 3]\n",
        "my_tuple = tuple(my_list)\n",
        "print(my_tuple)  # Output: (1, 2, 3)\n"
      ],
      "metadata": {
        "colab": {
          "base_uri": "https://localhost:8080/"
        },
        "id": "hIWGGeOR8-ac",
        "outputId": "d0dbbd3d-30c0-485f-c113-d668da32ddd8"
      },
      "execution_count": 55,
      "outputs": [
        {
          "output_type": "stream",
          "name": "stdout",
          "text": [
            "(1, 2, 3)\n"
          ]
        }
      ]
    },
    {
      "cell_type": "code",
      "source": [
        "# Tuple Comprehensions Using Generator Expressions\n",
        "# Example of creating a tuple using a generator expression\n",
        "squared_numbers = tuple(x**2 for x in range(5))\n",
        "print(squared_numbers)  # Output: (0, 1, 4, 9, 16)"
      ],
      "metadata": {
        "colab": {
          "base_uri": "https://localhost:8080/"
        },
        "id": "O5B4H3bP9MMJ",
        "outputId": "1a2c4dbe-868b-44e3-dd00-64b7dad3b7de"
      },
      "execution_count": 56,
      "outputs": [
        {
          "output_type": "stream",
          "name": "stdout",
          "text": [
            "(0, 1, 4, 9, 16)\n"
          ]
        }
      ]
    },
    {
      "cell_type": "code",
      "source": [
        "# Sorting Tuples\n",
        "# Example of sorting a list of tuples by the second element\n",
        "data = [(1, 'apple'), (3, 'banana'), (2, 'cherry')]\n",
        "sorted_data = sorted(data, key=lambda x: x[1])\n",
        "print(sorted_data)  # Output: [(1, 'apple'), (3, 'banana'), (2, 'cherry')]"
      ],
      "metadata": {
        "colab": {
          "base_uri": "https://localhost:8080/"
        },
        "id": "el3XFjCK9Uic",
        "outputId": "7d65fefe-1280-466f-a852-2b13d00bc402"
      },
      "execution_count": 57,
      "outputs": [
        {
          "output_type": "stream",
          "name": "stdout",
          "text": [
            "[(1, 'apple'), (3, 'banana'), (2, 'cherry')]\n"
          ]
        }
      ]
    },
    {
      "cell_type": "code",
      "source": [
        "# Sorting Tuples\n",
        "# Example of sorting a list of tuples by the second element\n",
        "data = [(1, 'apple'), (3, 'banana'), (2, 'cherry')]\n",
        "sorted_data = sorted(data, key=lambda x: x[0])\n",
        "print(sorted_data)  # Output: [(1, 'apple'), (3, 'banana'), (2, 'cherry')]"
      ],
      "metadata": {
        "colab": {
          "base_uri": "https://localhost:8080/"
        },
        "id": "5yDzUvBn9e0p",
        "outputId": "d9a0cab1-3f0d-44ca-beac-5a80e5101070"
      },
      "execution_count": 58,
      "outputs": [
        {
          "output_type": "stream",
          "name": "stdout",
          "text": [
            "[(1, 'apple'), (2, 'cherry'), (3, 'banana')]\n"
          ]
        }
      ]
    },
    {
      "cell_type": "code",
      "source": [
        "# Tuple Repetition and Concatenation\n",
        "# Example of concatenating and repeating tuples\n",
        "tuple1 = (1, 2)\n",
        "tuple2 = (3, 4)\n",
        "combined = tuple1 + tuple2   # Concatenation\n",
        "repeated = tuple1 * 3         # Repetition\n",
        "\n",
        "print(combined)   # Output: (1, 2, 3, 4)\n",
        "print(repeated)   # Output: (1, 2, 1, 2, 1, 2)\n"
      ],
      "metadata": {
        "colab": {
          "base_uri": "https://localhost:8080/"
        },
        "id": "VIparbTN9iBc",
        "outputId": "1be06bd0-9255-488d-be7d-6a4792eb722b"
      },
      "execution_count": 59,
      "outputs": [
        {
          "output_type": "stream",
          "name": "stdout",
          "text": [
            "(1, 2, 3, 4)\n",
            "(1, 2, 1, 2, 1, 2)\n"
          ]
        }
      ]
    },
    {
      "cell_type": "code",
      "source": [
        "# Using Tuples in Data Structures\n",
        "\n",
        "from collections import namedtuple\n",
        "\n",
        "# Example of using namedtuples to create more readable structures\n",
        "Point = namedtuple('Point', ['x', 'y'])\n",
        "p = Point(10, 20)\n",
        "print(p.x)   # Output: 10\n",
        "print(p.y)   # Output: 20\n"
      ],
      "metadata": {
        "colab": {
          "base_uri": "https://localhost:8080/"
        },
        "id": "NpSel9UG9ppd",
        "outputId": "8669d00b-2e34-43d1-b60e-af8e943d181a"
      },
      "execution_count": 60,
      "outputs": [
        {
          "output_type": "stream",
          "name": "stdout",
          "text": [
            "10\n",
            "20\n"
          ]
        }
      ]
    },
    {
      "cell_type": "code",
      "source": [],
      "metadata": {
        "id": "AdFjMDQN9y29"
      },
      "execution_count": null,
      "outputs": []
    }
  ],
  "metadata": {
    "kernelspec": {
      "display_name": "Python 3",
      "language": "python",
      "name": "python3"
    },
    "language_info": {
      "codemirror_mode": {
        "name": "ipython",
        "version": 3
      },
      "file_extension": ".py",
      "mimetype": "text/x-python",
      "name": "python",
      "nbconvert_exporter": "python",
      "pygments_lexer": "ipython3",
      "version": "3.12.0"
    },
    "colab": {
      "provenance": [],
      "include_colab_link": true
    }
  },
  "nbformat": 4,
  "nbformat_minor": 0
}