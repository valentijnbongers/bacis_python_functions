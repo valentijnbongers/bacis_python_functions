{
  "nbformat": 4,
  "nbformat_minor": 0,
  "metadata": {
    "colab": {
      "provenance": [],
      "authorship_tag": "ABX9TyMoLhsIcN+uwQcvxM8+vKY3",
      "include_colab_link": true
    },
    "kernelspec": {
      "name": "python3",
      "display_name": "Python 3"
    },
    "language_info": {
      "name": "python"
    }
  },
  "cells": [
    {
      "cell_type": "markdown",
      "metadata": {
        "id": "view-in-github",
        "colab_type": "text"
      },
      "source": [
        "<a href=\"https://colab.research.google.com/github/valentijnbongers/bacis_python_functions/blob/main/Python_Comprehensions.ipynb\" target=\"_parent\"><img src=\"https://colab.research.google.com/assets/colab-badge.svg\" alt=\"Open In Colab\"/></a>"
      ]
    },
    {
      "cell_type": "markdown",
      "source": [
        "# Comprehensions"
      ],
      "metadata": {
        "id": "zH0l5j63WUEs"
      }
    },
    {
      "cell_type": "code",
      "execution_count": 1,
      "metadata": {
        "id": "5nVxLB0aWOGh"
      },
      "outputs": [],
      "source": [
        "import unicodedata as ud"
      ]
    },
    {
      "cell_type": "markdown",
      "source": [
        "## # Python list comprehensions can be used to build up lists of answers."
      ],
      "metadata": {
        "id": "Zw7Vn1deWbxC"
      }
    },
    {
      "cell_type": "code",
      "source": [
        "result = [x * x for x in range(1,100) if \"3\" in str(x)]\n",
        "print(result)"
      ],
      "metadata": {
        "colab": {
          "base_uri": "https://localhost:8080/"
        },
        "id": "022FPdeXvuzO",
        "outputId": "00cd323b-9e94-4e34-d0a8-397b6bece597"
      },
      "execution_count": 2,
      "outputs": [
        {
          "output_type": "stream",
          "name": "stdout",
          "text": [
            "[9, 169, 529, 900, 961, 1024, 1089, 1156, 1225, 1296, 1369, 1444, 1521, 1849, 2809, 3969, 5329, 6889, 8649]\n"
          ]
        }
      ]
    },
    {
      "cell_type": "code",
      "source": [
        "# Squares of numbers from 1 to 99 that contain digit \"3\".\n",
        "a = [x * x for x in range(1, 100) if \"3\" in str(x)]\n",
        "print(a)"
      ],
      "metadata": {
        "colab": {
          "base_uri": "https://localhost:8080/"
        },
        "id": "5S0D9oZeloa3",
        "outputId": "01abdbda-97c8-4f85-cddc-ee231f4f6764"
      },
      "execution_count": 3,
      "outputs": [
        {
          "output_type": "stream",
          "name": "stdout",
          "text": [
            "[9, 169, 529, 900, 961, 1024, 1089, 1156, 1225, 1296, 1369, 1444, 1521, 1849, 2809, 3969, 5329, 6889, 8649]\n"
          ]
        }
      ]
    },
    {
      "cell_type": "code",
      "source": [
        "# Since a comprehension can be made out of any existing sequence,\n",
        "# more complex lists can be created out of existing comprehensions.\n",
        "# Elements of the previous list that are between 500 and 2000.\n",
        "\n",
        "b = [x for x in a if 500 < x < 2000]\n",
        "print(b)"
      ],
      "metadata": {
        "colab": {
          "base_uri": "https://localhost:8080/"
        },
        "id": "_-1abNtPlvkJ",
        "outputId": "2488e63a-d819-4add-8d8d-6f4c43077de8"
      },
      "execution_count": 4,
      "outputs": [
        {
          "output_type": "stream",
          "name": "stdout",
          "text": [
            "[529, 900, 961, 1024, 1089, 1156, 1225, 1296, 1369, 1444, 1521, 1849]\n"
          ]
        }
      ]
    },
    {
      "cell_type": "code",
      "source": [
        "# List comprehensions can do a lot of work that we later do with loops.\n",
        "# For example, let's find all the Unicode characters that are lowercase\n",
        "# letters and produce a list of them.\n",
        "\n",
        "letter_category = ud.category('a')\n",
        "c = [chr(c) for c in range(100000)\n",
        "     if ud.category(chr(c)) == letter_category]\n",
        "print(\"Here are the Unicode characters that are lowercase letters:\")\n",
        "print(\"\".join(c))  # There are quite a few.\n",
        "print(\"\")\n"
      ],
      "metadata": {
        "colab": {
          "base_uri": "https://localhost:8080/"
        },
        "id": "vK7ETGT9wlZx",
        "outputId": "929cf3e3-4964-48d8-9ee9-82bd702750a0"
      },
      "execution_count": 5,
      "outputs": [
        {
          "output_type": "stream",
          "name": "stdout",
          "text": [
            "Here are the Unicode characters that are lowercase letters:\n",
            "abcdefghijklmnopqrstuvwxyzµßàáâãäåæçèéêëìíîïðñòóôõöøùúûüýþÿāăąćĉċčďđēĕėęěĝğġģĥħĩīĭįıĳĵķĸĺļľŀłńņňŉŋōŏőœŕŗřśŝşšţťŧũūŭůűųŵŷźżžſƀƃƅƈƌƍƒƕƙƚƛƞơƣƥƨƪƫƭưƴƶƹƺƽƾƿǆǉǌǎǐǒǔǖǘǚǜǝǟǡǣǥǧǩǫǭǯǰǳǵǹǻǽǿȁȃȅȇȉȋȍȏȑȓȕȗșțȝȟȡȣȥȧȩȫȭȯȱȳȴȵȶȷȸȹȼȿɀɂɇɉɋɍɏɐɑɒɓɔɕɖɗɘəɚɛɜɝɞɟɠɡɢɣɤɥɦɧɨɩɪɫɬɭɮɯɰɱɲɳɴɵɶɷɸɹɺɻɼɽɾɿʀʁʂʃʄʅʆʇʈʉʊʋʌʍʎʏʐʑʒʓʕʖʗʘʙʚʛʜʝʞʟʠʡʢʣʤʥʦʧʨʩʪʫʬʭʮʯͱͳͷͻͼͽΐάέήίΰαβγδεζηθικλμνξοπρςστυφχψωϊϋόύώϐϑϕϖϗϙϛϝϟϡϣϥϧϩϫϭϯϰϱϲϳϵϸϻϼабвгдежзийклмнопрстуфхцчшщъыьэюяѐёђѓєѕіїјљњћќѝўџѡѣѥѧѩѫѭѯѱѳѵѷѹѻѽѿҁҋҍҏґғҕҗҙқҝҟҡңҥҧҩҫҭүұҳҵҷҹһҽҿӂӄӆӈӊӌӎӏӑӓӕӗәӛӝӟӡӣӥӧөӫӭӯӱӳӵӷӹӻӽӿԁԃԅԇԉԋԍԏԑԓԕԗԙԛԝԟԡԣԥԧԩԫԭԯՠաբգդեզէըթժիլխծկհձղճմյնշոչպջռսվտրցւփքօֆևֈაბგდევზთიკლმნოპჟრსტუფქღყშჩცძწჭხჯჰჱჲჳჴჵჶჷჸჹჺჽჾჿᏸᏹᏺᏻᏼᏽᲀᲁᲂᲃᲄᲅᲆᲇᲈᴀᴁᴂᴃᴄᴅᴆᴇᴈᴉᴊᴋᴌᴍᴎᴏᴐᴑᴒᴓᴔᴕᴖᴗᴘᴙᴚᴛᴜᴝᴞᴟᴠᴡᴢᴣᴤᴥᴦᴧᴨᴩᴪᴫᵫᵬᵭᵮᵯᵰᵱᵲᵳᵴᵵᵶᵷᵹᵺᵻᵼᵽᵾᵿᶀᶁᶂᶃᶄᶅᶆᶇᶈᶉᶊᶋᶌᶍᶎᶏᶐᶑᶒᶓᶔᶕᶖᶗᶘᶙᶚḁḃḅḇḉḋḍḏḑḓḕḗḙḛḝḟḡḣḥḧḩḫḭḯḱḳḵḷḹḻḽḿṁṃṅṇṉṋṍṏṑṓṕṗṙṛṝṟṡṣṥṧṩṫṭṯṱṳṵṷṹṻṽṿẁẃẅẇẉẋẍẏẑẓẕẖẗẘẙẚẛẜẝẟạảấầẩẫậắằẳẵặẹẻẽếềểễệỉịọỏốồổỗộớờởỡợụủứừửữựỳỵỷỹỻỽỿἀἁἂἃἄἅἆἇἐἑἒἓἔἕἠἡἢἣἤἥἦἧἰἱἲἳἴἵἶἷὀὁὂὃὄὅὐὑὒὓὔὕὖὗὠὡὢὣὤὥὦὧὰάὲέὴήὶίὸόὺύὼώᾀᾁᾂᾃᾄᾅᾆᾇᾐᾑᾒᾓᾔᾕᾖᾗᾠᾡᾢᾣᾤᾥᾦᾧᾰᾱᾲᾳᾴᾶᾷιῂῃῄῆῇῐῑῒΐῖῗῠῡῢΰῤῥῦῧῲῳῴῶῷℊℎℏℓℯℴℹℼℽⅆⅇⅈⅉⅎↄⰰⰱⰲⰳⰴⰵⰶⰷⰸⰹⰺⰻⰼⰽⰾⰿⱀⱁⱂⱃⱄⱅⱆⱇⱈⱉⱊⱋⱌⱍⱎⱏⱐⱑⱒⱓⱔⱕⱖⱗⱘⱙⱚⱛⱜⱝⱞⱡⱥⱦⱨⱪⱬⱱⱳⱴⱶⱷⱸⱹⱺⱻⲁⲃⲅⲇⲉⲋⲍⲏⲑⲓⲕⲗⲙⲛⲝⲟⲡⲣⲥⲧⲩⲫⲭⲯⲱⲳⲵⲷⲹⲻⲽⲿⳁⳃⳅⳇⳉⳋⳍⳏⳑⳓⳕⳗⳙⳛⳝⳟⳡⳣⳤⳬⳮⳳⴀⴁⴂⴃⴄⴅⴆⴇⴈⴉⴊⴋⴌⴍⴎⴏⴐⴑⴒⴓⴔⴕⴖⴗⴘⴙⴚⴛⴜⴝⴞⴟⴠⴡⴢⴣⴤⴥⴧⴭꙁꙃꙅꙇꙉꙋꙍꙏꙑꙓꙕꙗꙙꙛꙝꙟꙡꙣꙥꙧꙩꙫꙭꚁꚃꚅꚇꚉꚋꚍꚏꚑꚓꚕꚗꚙꚛꜣꜥꜧꜩꜫꜭꜯꜰꜱꜳꜵꜷꜹꜻꜽꜿꝁꝃꝅꝇꝉꝋꝍꝏꝑꝓꝕꝗꝙꝛꝝꝟꝡꝣꝥꝧꝩꝫꝭꝯꝱꝲꝳꝴꝵꝶꝷꝸꝺꝼꝿꞁꞃꞅꞇꞌꞎꞑꞓꞔꞕꞗꞙꞛꞝꞟꞡꞣꞥꞧꞩꞯꞵꞷꞹꞻꞽꞿꟃꟈꟊꟶꟺꬰꬱꬲꬳꬴꬵꬶꬷꬸꬹꬺꬻꬼꬽꬾꬿꭀꭁꭂꭃꭄꭅꭆꭇꭈꭉꭊꭋꭌꭍꭎꭏꭐꭑꭒꭓꭔꭕꭖꭗꭘꭙꭚꭠꭡꭢꭣꭤꭥꭦꭧꭨꭰꭱꭲꭳꭴꭵꭶꭷꭸꭹꭺꭻꭼꭽꭾꭿꮀꮁꮂꮃꮄꮅꮆꮇꮈꮉꮊꮋꮌꮍꮎꮏꮐꮑꮒꮓꮔꮕꮖꮗꮘꮙꮚꮛꮜꮝꮞꮟꮠꮡꮢꮣꮤꮥꮦꮧꮨꮩꮪꮫꮬꮭꮮꮯꮰꮱꮲꮳꮴꮵꮶꮷꮸꮹꮺꮻꮼꮽꮾꮿﬀﬁﬂﬃﬄﬅﬆﬓﬔﬕﬖﬗａｂｃｄｅｆｇｈｉｊｋｌｍｎｏｐｑｒｓｔｕｖｗｘｙｚ𐐨𐐩𐐪𐐫𐐬𐐭𐐮𐐯𐐰𐐱𐐲𐐳𐐴𐐵𐐶𐐷𐐸𐐹𐐺𐐻𐐼𐐽𐐾𐐿𐑀𐑁𐑂𐑃𐑄𐑅𐑆𐑇𐑈𐑉𐑊𐑋𐑌𐑍𐑎𐑏𐓘𐓙𐓚𐓛𐓜𐓝𐓞𐓟𐓠𐓡𐓢𐓣𐓤𐓥𐓦𐓧𐓨𐓩𐓪𐓫𐓬𐓭𐓮𐓯𐓰𐓱𐓲𐓳𐓴𐓵𐓶𐓷𐓸𐓹𐓺𐓻𐳀𐳁𐳂𐳃𐳄𐳅𐳆𐳇𐳈𐳉𐳊𐳋𐳌𐳍𐳎𐳏𐳐𐳑𐳒𐳓𐳔𐳕𐳖𐳗𐳘𐳙𐳚𐳛𐳜𐳝𐳞𐳟𐳠𐳡𐳢𐳣𐳤𐳥𐳦𐳧𐳨𐳩𐳪𐳫𐳬𐳭𐳮𐳯𐳰𐳱𐳲𑣀𑣁𑣂𑣃𑣄𑣅𑣆𑣇𑣈𑣉𑣊𑣋𑣌𑣍𑣎𑣏𑣐𑣑𑣒𑣓𑣔𑣕𑣖𑣗𑣘𑣙𑣚𑣛𑣜𑣝𑣞𑣟𖹠𖹡𖹢𖹣𖹤𖹥𖹦𖹧𖹨𖹩𖹪𖹫𖹬𖹭𖹮𖹯𖹰𖹱𖹲𖹳𖹴𖹵𖹶𖹷𖹸𖹹𖹺𖹻𖹼𖹽𖹾𖹿\n",
            "\n"
          ]
        }
      ]
    },
    {
      "cell_type": "code",
      "source": [
        "# If the filtering depends also on the position of the element in the\n",
        "# sequence, the Python function enumerate produces a sequence that consists\n",
        "# of pairs of positions and the original elements in those positions.\n",
        "\n",
        "d = \"\".join([x for i, x in enumerate(list(\"Hello world!\")) if i % 2 == 0])\n",
        "print(f\"Every other character produces string {d!r}\")"
      ],
      "metadata": {
        "colab": {
          "base_uri": "https://localhost:8080/"
        },
        "id": "J2ipWnGJxHC8",
        "outputId": "bc8d803b-0cf4-4988-fad8-03562b1e7339"
      },
      "execution_count": 6,
      "outputs": [
        {
          "output_type": "stream",
          "name": "stdout",
          "text": [
            "Every other character produces string 'Hlowrd'\n"
          ]
        }
      ]
    },
    {
      "cell_type": "code",
      "source": [
        "d = \"\".join([x for x in \"Hello world, how are you there?\" if x != ' '])\n",
        "print(f\"Removing whitespaces produces string {d!r}\")"
      ],
      "metadata": {
        "colab": {
          "base_uri": "https://localhost:8080/"
        },
        "id": "PqlMnE51PXSn",
        "outputId": "019bbd56-7fbf-408e-8752-6548087bbcc2"
      },
      "execution_count": 7,
      "outputs": [
        {
          "output_type": "stream",
          "name": "stdout",
          "text": [
            "Removing whitespaces produces string 'Helloworld,howareyouthere?'\n"
          ]
        }
      ]
    },
    {
      "cell_type": "code",
      "source": [
        "# A word starts at a non-whitespace character that either starts\n",
        "# the whole thing or is preceded by a whitespace character.\n",
        "text = \"Let us try to capitalize every word in this silly little sentence.\"\n",
        "text = \"\".join(\n",
        "    [(x.upper() if (i == 0 or text[i-1] == ' ') else x)\n",
        "     for (i, x) in enumerate(text)]\n",
        "    )\n",
        "print(text)"
      ],
      "metadata": {
        "colab": {
          "base_uri": "https://localhost:8080/"
        },
        "id": "YI-LqbXmWQHs",
        "outputId": "ccdde548-cdf2-4b46-d1a6-7467a2e0a03d"
      },
      "execution_count": 8,
      "outputs": [
        {
          "output_type": "stream",
          "name": "stdout",
          "text": [
            "Let Us Try To Capitalize Every Word In This Silly Little Sentence.\n"
          ]
        }
      ]
    },
    {
      "cell_type": "code",
      "source": [
        "# Dictionaries can be built up with analogous dictionary comprehensions.\n",
        "e = {x: x*x for x in range(100)}\n",
        "print(e[5], e[55])"
      ],
      "metadata": {
        "colab": {
          "base_uri": "https://localhost:8080/"
        },
        "id": "JN0wpBwWaSi_",
        "outputId": "da454a43-4bf1-4ba5-ab6b-f597f76140e6"
      },
      "execution_count": 9,
      "outputs": [
        {
          "output_type": "stream",
          "name": "stdout",
          "text": [
            "25 3025\n"
          ]
        }
      ]
    },
    {
      "cell_type": "code",
      "source": [
        "# The list comprehension generates a list of all elements to exist in memory simultaneously,\n",
        "# which may be prohibitive if the number of elements is very large, even astronomical. Iterator comprehension\n",
        "# produces an iterator that yields the elements one at the time as needed by the computation.\n",
        "# The generator expression is efficient because it computes each square on-the-fly and does not store all the values in memory at once. However, printing h only shows the generator object, not the actual squared values.\n",
        "# Squares of the first googol integers.\n",
        "h = (x*x for x in range(10 ** 100))\n",
        "print(h)\n",
        "\n",
        "# Notice how we didn't run out of memory. Many functions that operate\n",
        "# on iterators are smart enough to stop once they know the answer, so\n",
        "# they will not get stuck if the iterator sequence is very large or\n",
        "# even infinite."
      ],
      "metadata": {
        "colab": {
          "base_uri": "https://localhost:8080/"
        },
        "id": "dvdV5CFvUKU-",
        "outputId": "27c9aba0-76db-4ed6-f15d-2ae567f049af"
      },
      "execution_count": 10,
      "outputs": [
        {
          "output_type": "stream",
          "name": "stdout",
          "text": [
            "<generator object <genexpr> at 0x7aa9cae09fc0>\n"
          ]
        }
      ]
    },
    {
      "cell_type": "code",
      "source": [
        "# How to execute a generator object via a loop\n",
        "# Example to print the first 10 values\n",
        "for i, value in enumerate(h):\n",
        "    if i >= 10:\n",
        "        break\n",
        "    print(value)"
      ],
      "metadata": {
        "colab": {
          "base_uri": "https://localhost:8080/"
        },
        "id": "hgMynQ-XUXFo",
        "outputId": "1db68475-5e83-4190-9a2c-7a5106e05997"
      },
      "execution_count": 11,
      "outputs": [
        {
          "output_type": "stream",
          "name": "stdout",
          "text": [
            "0\n",
            "1\n",
            "4\n",
            "9\n",
            "16\n",
            "25\n",
            "36\n",
            "49\n",
            "64\n",
            "81\n"
          ]
        }
      ]
    },
    {
      "cell_type": "code",
      "source": [
        "# Using next() Function:\n",
        "h = (x*x for x in range(10 ** 100))\n",
        "\n",
        "# Example to get the first 10 values using next()\n",
        "for _ in range(10):\n",
        "    print(next(h))"
      ],
      "metadata": {
        "colab": {
          "base_uri": "https://localhost:8080/"
        },
        "id": "dTj5IpyVeBwM",
        "outputId": "e7978983-c733-4a21-cc8d-c537de7a81c7"
      },
      "execution_count": 12,
      "outputs": [
        {
          "output_type": "stream",
          "name": "stdout",
          "text": [
            "0\n",
            "1\n",
            "4\n",
            "9\n",
            "16\n",
            "25\n",
            "36\n",
            "49\n",
            "64\n",
            "81\n"
          ]
        }
      ]
    },
    {
      "cell_type": "code",
      "source": [
        "g40 = any(x > 40 for x in h)\n",
        "print(f\"Does there exist an integer greater 40? {g40}\")"
      ],
      "metadata": {
        "colab": {
          "base_uri": "https://localhost:8080/"
        },
        "id": "CRz27g1yjt0x",
        "outputId": "ca410d26-ef9a-48e3-b858-b266285a5ace"
      },
      "execution_count": 13,
      "outputs": [
        {
          "output_type": "stream",
          "name": "stdout",
          "text": [
            "Does there exist an integer greater 40? True\n"
          ]
        }
      ]
    },
    {
      "cell_type": "code",
      "source": [
        "d7 = all(x % 7 == 0 for x in h)\n",
        "print(f\"Are all integers divisible by 7? {d7}\")"
      ],
      "metadata": {
        "colab": {
          "base_uri": "https://localhost:8080/"
        },
        "id": "2jkhtunNj0ST",
        "outputId": "a0586a7d-d76d-4942-903a-015edbaccd7c"
      },
      "execution_count": 14,
      "outputs": [
        {
          "output_type": "stream",
          "name": "stdout",
          "text": [
            "Are all integers divisible by 7? False\n"
          ]
        }
      ]
    },
    {
      "cell_type": "markdown",
      "source": [
        "### Generatoe objects"
      ],
      "metadata": {
        "id": "wa2CTYuclp1s"
      }
    },
    {
      "cell_type": "code",
      "source": [
        "# Since the actual elements can be computed arbitrarily from the\n",
        "# elements of the original sequence, we can find out the positions\n",
        "# where the original elements satisfy a particular condition.\n",
        "\n",
        "g1 = (29 % n == 0 for n in range(3, 29, 2))\n",
        "g2 = (45 % n == 0 for n in range(3, 45, 2))\n",
        "print(g1)\n",
        "print(g2)\n",
        "# Beware of the fact that in a generator expression, the for-part is\n",
        "# evaluated at declaration, whereas the if-part is evaluated at execution."
      ],
      "metadata": {
        "colab": {
          "base_uri": "https://localhost:8080/"
        },
        "id": "PYkWGR6MkDoB",
        "outputId": "f9f5f788-9030-4564-947d-ab5b47d661c5"
      },
      "execution_count": 15,
      "outputs": [
        {
          "output_type": "stream",
          "name": "stdout",
          "text": [
            "<generator object <genexpr> at 0x7aa9cae0a730>\n",
            "<generator object <genexpr> at 0x7aa9cae0b990>\n"
          ]
        }
      ]
    },
    {
      "cell_type": "code",
      "source": [
        "# Generator for Even Numbers:\n",
        "even_numbers = (x for x in range(100) if x % 2 == 0)\n",
        "print(even_numbers)"
      ],
      "metadata": {
        "colab": {
          "base_uri": "https://localhost:8080/"
        },
        "id": "rQItV72QlvJ7",
        "outputId": "f0aaa073-2b23-4bcb-c421-045f00481039"
      },
      "execution_count": 16,
      "outputs": [
        {
          "output_type": "stream",
          "name": "stdout",
          "text": [
            "<generator object <genexpr> at 0x7aa9cae09620>\n"
          ]
        }
      ]
    },
    {
      "cell_type": "code",
      "source": [
        "# Generator for Fibonacci Sequence:\n",
        "def fibonacci(n):\n",
        "    a, b = 0, 1\n",
        "    for _ in range(n):\n",
        "        yield a\n",
        "        a, b = b, a + b\n",
        "\n",
        "fib_gen = (x for x in fibonacci(10))\n",
        "print(fib_gen)"
      ],
      "metadata": {
        "colab": {
          "base_uri": "https://localhost:8080/"
        },
        "id": "tb4v-rbWlv93",
        "outputId": "ab4bab34-3b16-42e4-9224-ad13b90bfbdb"
      },
      "execution_count": 17,
      "outputs": [
        {
          "output_type": "stream",
          "name": "stdout",
          "text": [
            "<generator object <genexpr> at 0x7aa9cae0be60>\n"
          ]
        }
      ]
    },
    {
      "cell_type": "code",
      "source": [
        "# List Comprehension for Fibonacci Sequence:\n",
        "def fibonacci(n):\n",
        "    a, b = 0, 1\n",
        "    for _ in range(n):\n",
        "        yield a\n",
        "        a, b = b, a + b\n",
        "\n",
        "fib_gen = [x for x in fibonacci(10)]\n",
        "print(fib_gen)"
      ],
      "metadata": {
        "colab": {
          "base_uri": "https://localhost:8080/"
        },
        "id": "IzqprnhRlwZG",
        "outputId": "21b39e26-52de-4354-bbf5-fbb9538bc96d"
      },
      "execution_count": 18,
      "outputs": [
        {
          "output_type": "stream",
          "name": "stdout",
          "text": [
            "[0, 1, 1, 2, 3, 5, 8, 13, 21, 34]\n"
          ]
        }
      ]
    },
    {
      "cell_type": "code",
      "source": [
        "# Generator for Squares of Numbers:\n",
        "squares = (x*x for x in range(1, 21))\n",
        "print(squares)"
      ],
      "metadata": {
        "colab": {
          "base_uri": "https://localhost:8080/"
        },
        "id": "qGnoUAbJlw34",
        "outputId": "a6b71ecb-2ee7-4fba-bfb9-8c02074006c4"
      },
      "execution_count": 19,
      "outputs": [
        {
          "output_type": "stream",
          "name": "stdout",
          "text": [
            "<generator object <genexpr> at 0x7aa9cae0a260>\n"
          ]
        }
      ]
    },
    {
      "cell_type": "code",
      "source": [
        "# Generator for Prime Numbers:\n",
        "def is_prime(num):\n",
        "    if num < 2:\n",
        "        return False\n",
        "    for i in range(2, int(num**0.5) + 1):\n",
        "        if num % i == 0:\n",
        "            return False\n",
        "    return True\n",
        "\n",
        "primes = (x for x in range(2, 100) if is_prime(x))\n",
        "print(primes)"
      ],
      "metadata": {
        "colab": {
          "base_uri": "https://localhost:8080/"
        },
        "id": "GJomItWalxVu",
        "outputId": "c245c04b-ee3d-460a-d6f8-c386ee99a805"
      },
      "execution_count": 20,
      "outputs": [
        {
          "output_type": "stream",
          "name": "stdout",
          "text": [
            "<generator object <genexpr> at 0x7aa9cae0ba70>\n"
          ]
        }
      ]
    },
    {
      "cell_type": "code",
      "source": [
        "# List Comprehension for Prime Numbers:\n",
        "def is_prime(num):\n",
        "    if num < 2:\n",
        "        return False\n",
        "    for i in range(2, int(num**0.5) + 1):\n",
        "        if num % i == 0:\n",
        "            return False\n",
        "    return True\n",
        "\n",
        "primes = [x for x in range(2, 100) if is_prime(x)]\n",
        "print(primes)"
      ],
      "metadata": {
        "colab": {
          "base_uri": "https://localhost:8080/"
        },
        "id": "U4wlPHXzmjQb",
        "outputId": "6da1bc5c-443a-49dc-deaa-3a64c810f685"
      },
      "execution_count": 21,
      "outputs": [
        {
          "output_type": "stream",
          "name": "stdout",
          "text": [
            "[2, 3, 5, 7, 11, 13, 17, 19, 23, 29, 31, 37, 41, 43, 47, 53, 59, 61, 67, 71, 73, 79, 83, 89, 97]\n"
          ]
        }
      ]
    },
    {
      "cell_type": "code",
      "source": [
        "# Generator for Characters in a String:\n",
        "string_chars = (char for char in \"Hello, World!\" if char.isalpha())\n",
        "print(string_chars)"
      ],
      "metadata": {
        "colab": {
          "base_uri": "https://localhost:8080/"
        },
        "id": "7VfD5xOtm-nz",
        "outputId": "8dcb476a-77ca-4d8e-a18e-3e1c91a79d88"
      },
      "execution_count": 22,
      "outputs": [
        {
          "output_type": "stream",
          "name": "stdout",
          "text": [
            "<generator object <genexpr> at 0x7aa9cae093f0>\n"
          ]
        }
      ]
    },
    {
      "cell_type": "code",
      "source": [
        "# List Comprehension for Characters in a String:\n",
        "string_chars = [char for char in \"Hello, World!\" if char.isalpha()]\n",
        "print(string_chars)"
      ],
      "metadata": {
        "colab": {
          "base_uri": "https://localhost:8080/"
        },
        "id": "0A2v2dGsnKDx",
        "outputId": "347d2036-b3d9-40d5-d7f1-e4997d24f37c"
      },
      "execution_count": 23,
      "outputs": [
        {
          "output_type": "stream",
          "name": "stdout",
          "text": [
            "['H', 'e', 'l', 'l', 'o', 'W', 'o', 'r', 'l', 'd']\n"
          ]
        }
      ]
    },
    {
      "cell_type": "code",
      "source": [
        "words = [\"hello\", \"there\", \"world\"]\n",
        "five = (word for word in words if word in words)\n",
        "words = [\"hello\", \"ilkka\"]\n",
        "print(list(five))  # ['hello']\n",
        "# The generator five is created based on the original list [\"hello\", \"there\", \"world\"],\n",
        "# and it yields each word from this list.\n",
        "# After reassigning words to [\"hello\", \"ilkka\"],\n",
        "# the generator still references the original list but checks if each word is in the new list.\n",
        "# When converted to a list, only \"hello\" from the original list is in the new list, resulting in the output ['hello']."
      ],
      "metadata": {
        "colab": {
          "base_uri": "https://localhost:8080/"
        },
        "id": "qulGKRzbrBny",
        "outputId": "fbdf8cf0-1d3d-40fd-a6a8-7cb148c793f7"
      },
      "execution_count": 24,
      "outputs": [
        {
          "output_type": "stream",
          "name": "stdout",
          "text": [
            "['hello']\n"
          ]
        }
      ]
    },
    {
      "cell_type": "code",
      "source": [
        "# The Python functions all and any can be used to check if any or\n",
        "# all elements of a sequence, produced either with a comprehension\n",
        "# or something else, have some desired property. (Note that for empty\n",
        "# sequence, all is trivially true, and any is trivially false,\n",
        "# regardless of the condition used.)\n",
        "\n",
        "g1 = (29 % n == 0 for n in range(3, 29, 2))\n",
        "g2 = (45 % n == 0 for n in range(3, 45, 2))\n",
        "print(g1)\n",
        "print(g2)\n",
        "\n",
        "l1 = [29 % n == 0 for n in range(3, 29, 2)]\n",
        "l2 = [45 % n == 0 for n in range(3, 45, 2)]\n",
        "print(l1)\n",
        "print(l2)\n",
        "\n",
        "print(f\"Is the number 29 a prime number? {not any(g1)}\")\n",
        "print(f\"Is the number 45 a prime number? {not any (g2)}\")\n",
        "# To summarize, the code creates two generator expressions to check divisibility of 29 and 45 by odd numbers in their respective ranges,\n",
        "# prints the generator objects, and then checks if 29 and 45 are prime numbers by evaluating the generators."
      ],
      "metadata": {
        "colab": {
          "base_uri": "https://localhost:8080/"
        },
        "id": "nPFsMRFztNmJ",
        "outputId": "f3c07498-c94b-4860-d621-cb01bcfb9912"
      },
      "execution_count": 25,
      "outputs": [
        {
          "output_type": "stream",
          "name": "stdout",
          "text": [
            "<generator object <genexpr> at 0x7aa9cae0bdf0>\n",
            "<generator object <genexpr> at 0x7aa9cae0af80>\n",
            "[False, False, False, False, False, False, False, False, False, False, False, False, False]\n",
            "[True, True, False, True, False, False, True, False, False, False, False, False, False, False, False, False, False, False, False, False, False]\n",
            "Is the number 29 a prime number? True\n",
            "Is the number 45 a prime number? False\n"
          ]
        }
      ]
    },
    {
      "cell_type": "code",
      "source": [
        "text = \"Hello, world!\"\n",
        "s = [ud.category(x) == ud.category(' ') for x in text]\n",
        "print(f\"Does the string {text!r} contain any spaces? {any(s)}\")"
      ],
      "metadata": {
        "colab": {
          "base_uri": "https://localhost:8080/"
        },
        "id": "qNC9wM6jWGM2",
        "outputId": "56139afa-70e3-460b-aa61-af86250e9998"
      },
      "execution_count": 27,
      "outputs": [
        {
          "output_type": "stream",
          "name": "stdout",
          "text": [
            "Does the string 'Hello, world!' contain any spaces? True\n"
          ]
        }
      ]
    },
    {
      "cell_type": "code",
      "source": [
        "# An inner comprehension can be nested inside the evaluation of an outer\n",
        "# comprehension, to produce a sequence whose elements are sequences.\n",
        "u1 = [[x for x in range(n+1)] for n in range(10)]\n",
        "print(u1)"
      ],
      "metadata": {
        "colab": {
          "base_uri": "https://localhost:8080/"
        },
        "id": "jqsqYq1GWOBi",
        "outputId": "ca4c7ce5-5c62-451b-ca81-95d855608ff7"
      },
      "execution_count": 28,
      "outputs": [
        {
          "output_type": "stream",
          "name": "stdout",
          "text": [
            "[[0], [0, 1], [0, 1, 2], [0, 1, 2, 3], [0, 1, 2, 3, 4], [0, 1, 2, 3, 4, 5], [0, 1, 2, 3, 4, 5, 6], [0, 1, 2, 3, 4, 5, 6, 7], [0, 1, 2, 3, 4, 5, 6, 7, 8], [0, 1, 2, 3, 4, 5, 6, 7, 8, 9]]\n"
          ]
        }
      ]
    },
    {
      "cell_type": "code",
      "source": [
        "# This technique allows us to partition a sequence into another sequence\n",
        "# of its consecutive elements, either overlapping or not.\n",
        "\n",
        "# Overlapping sequences of 3 consecutive elements by having the range\n",
        "# of n skip by default 1.\n",
        "u2 = [\" \".join([words[x] for x in range(n, n+3)]) for n in range(len(words)-2)]\n",
        "print(u2)"
      ],
      "metadata": {
        "id": "TmWz8zQFWQxn",
        "outputId": "ab23e14a-26e7-498b-91bb-33a10b1e01da",
        "colab": {
          "base_uri": "https://localhost:8080/"
        }
      },
      "execution_count": 29,
      "outputs": [
        {
          "output_type": "stream",
          "name": "stdout",
          "text": [
            "[]\n"
          ]
        }
      ]
    },
    {
      "cell_type": "code",
      "source": [
        "# Non-overlapping sequences of 3 consecutive elements by having the\n",
        "# range of n skip by 3.\n",
        "u3 = [\" \".join([words[x] for x in range(n, n+3)]) for n in range(0, len(words)-2, 3)]\n",
        "print(u3)"
      ],
      "metadata": {
        "colab": {
          "base_uri": "https://localhost:8080/"
        },
        "id": "fSI0dEvEwe25",
        "outputId": "30ac279b-7309-4312-9e40-7d85bdb9636f"
      },
      "execution_count": 30,
      "outputs": [
        {
          "output_type": "stream",
          "name": "stdout",
          "text": [
            "[]\n"
          ]
        }
      ]
    },
    {
      "cell_type": "code",
      "source": [],
      "metadata": {
        "id": "6WRVnXZyjrwJ"
      },
      "execution_count": 26,
      "outputs": []
    }
  ]
}