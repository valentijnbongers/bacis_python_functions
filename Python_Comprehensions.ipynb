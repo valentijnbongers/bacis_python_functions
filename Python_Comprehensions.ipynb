{
  "nbformat": 4,
  "nbformat_minor": 0,
  "metadata": {
    "colab": {
      "provenance": [],
      "authorship_tag": "ABX9TyNNMifanrwoJBoHJo8/ibMj",
      "include_colab_link": true
    },
    "kernelspec": {
      "name": "python3",
      "display_name": "Python 3"
    },
    "language_info": {
      "name": "python"
    }
  },
  "cells": [
    {
      "cell_type": "markdown",
      "metadata": {
        "id": "view-in-github",
        "colab_type": "text"
      },
      "source": [
        "<a href=\"https://colab.research.google.com/github/valentijnbongers/bacis_python_functions/blob/main/Python_Comprehensions.ipynb\" target=\"_parent\"><img src=\"https://colab.research.google.com/assets/colab-badge.svg\" alt=\"Open In Colab\"/></a>"
      ]
    },
    {
      "cell_type": "markdown",
      "source": [
        "# Comprehensions"
      ],
      "metadata": {
        "id": "zH0l5j63WUEs"
      }
    },
    {
      "cell_type": "code",
      "execution_count": 19,
      "metadata": {
        "id": "5nVxLB0aWOGh"
      },
      "outputs": [],
      "source": [
        "import unicodedata as ud"
      ]
    },
    {
      "cell_type": "markdown",
      "source": [
        "## # Python list comprehensions can be used to build up lists of answers."
      ],
      "metadata": {
        "id": "Zw7Vn1deWbxC"
      }
    },
    {
      "cell_type": "code",
      "source": [
        "result = [x * x for x in range(1,100) if \"3\" in str(x)]\n",
        "print(result)"
      ],
      "metadata": {
        "colab": {
          "base_uri": "https://localhost:8080/"
        },
        "id": "022FPdeXvuzO",
        "outputId": "1df160c8-d3b9-4402-98ee-ce8879048b62"
      },
      "execution_count": 4,
      "outputs": [
        {
          "output_type": "stream",
          "name": "stdout",
          "text": [
            "[9, 169, 529, 900, 961, 1024, 1089, 1156, 1225, 1296, 1369, 1444, 1521, 1849, 2809, 3969, 5329, 6889, 8649]\n"
          ]
        }
      ]
    },
    {
      "cell_type": "code",
      "source": [
        "# Squares of numbers from 1 to 99 that contain digit \"3\".\n",
        "a = [x * x for x in range(1, 100) if \"3\" in str(x)]\n",
        "print(a)"
      ],
      "metadata": {
        "colab": {
          "base_uri": "https://localhost:8080/"
        },
        "id": "5S0D9oZeloa3",
        "outputId": "7de65ac4-a83e-445a-fdd4-7c0fca4e7841"
      },
      "execution_count": 5,
      "outputs": [
        {
          "output_type": "stream",
          "name": "stdout",
          "text": [
            "[9, 169, 529, 900, 961, 1024, 1089, 1156, 1225, 1296, 1369, 1444, 1521, 1849, 2809, 3969, 5329, 6889, 8649]\n"
          ]
        }
      ]
    },
    {
      "cell_type": "code",
      "source": [
        "# Since a comprehension can be made out of any existing sequence,\n",
        "# more complex lists can be created out of existing comprehensions.\n",
        "# Elements of the previous list that are between 500 and 2000.\n",
        "\n",
        "b = [x for x in a if 500 < x < 2000]\n",
        "print(b)"
      ],
      "metadata": {
        "colab": {
          "base_uri": "https://localhost:8080/"
        },
        "id": "_-1abNtPlvkJ",
        "outputId": "307fd4e4-ca66-45d7-a48a-c92bae89a0dc"
      },
      "execution_count": 6,
      "outputs": [
        {
          "output_type": "stream",
          "name": "stdout",
          "text": [
            "[529, 900, 961, 1024, 1089, 1156, 1225, 1296, 1369, 1444, 1521, 1849]\n"
          ]
        }
      ]
    },
    {
      "cell_type": "code",
      "source": [
        "# List comprehensions can do a lot of work that we later do with loops.\n",
        "# For example, let's find all the Unicode characters that are lowercase\n",
        "# letters and produce a list of them.\n",
        "\n",
        "letter_category = ud.category('a')\n",
        "c = [chr(c) for c in range(100000)\n",
        "     if ud.category(chr(c)) == letter_category]\n",
        "print(\"Here are the Unicode characters that are lowercase letters:\")\n",
        "print(\"\".join(c))  # There are quite a few.\n",
        "print(\"\")\n"
      ],
      "metadata": {
        "colab": {
          "base_uri": "https://localhost:8080/"
        },
        "id": "vK7ETGT9wlZx",
        "outputId": "3844075a-27fc-4fcf-ea9a-d9c0de458294"
      },
      "execution_count": 7,
      "outputs": [
        {
          "output_type": "stream",
          "name": "stdout",
          "text": [
            "Here are the Unicode characters that are lowercase letters:\n",
            "abcdefghijklmnopqrstuvwxyzµßàáâãäåæçèéêëìíîïðñòóôõöøùúûüýþÿāăąćĉċčďđēĕėęěĝğġģĥħĩīĭįıĳĵķĸĺļľŀłńņňŉŋōŏőœŕŗřśŝşšţťŧũūŭůűųŵŷźżžſƀƃƅƈƌƍƒƕƙƚƛƞơƣƥƨƪƫƭưƴƶƹƺƽƾƿǆǉǌǎǐǒǔǖǘǚǜǝǟǡǣǥǧǩǫǭǯǰǳǵǹǻǽǿȁȃȅȇȉȋȍȏȑȓȕȗșțȝȟȡȣȥȧȩȫȭȯȱȳȴȵȶȷȸȹȼȿɀɂɇɉɋɍɏɐɑɒɓɔɕɖɗɘəɚɛɜɝɞɟɠɡɢɣɤɥɦɧɨɩɪɫɬɭɮɯɰɱɲɳɴɵɶɷɸɹɺɻɼɽɾɿʀʁʂʃʄʅʆʇʈʉʊʋʌʍʎʏʐʑʒʓʕʖʗʘʙʚʛʜʝʞʟʠʡʢʣʤʥʦʧʨʩʪʫʬʭʮʯͱͳͷͻͼͽΐάέήίΰαβγδεζηθικλμνξοπρςστυφχψωϊϋόύώϐϑϕϖϗϙϛϝϟϡϣϥϧϩϫϭϯϰϱϲϳϵϸϻϼабвгдежзийклмнопрстуфхцчшщъыьэюяѐёђѓєѕіїјљњћќѝўџѡѣѥѧѩѫѭѯѱѳѵѷѹѻѽѿҁҋҍҏґғҕҗҙқҝҟҡңҥҧҩҫҭүұҳҵҷҹһҽҿӂӄӆӈӊӌӎӏӑӓӕӗәӛӝӟӡӣӥӧөӫӭӯӱӳӵӷӹӻӽӿԁԃԅԇԉԋԍԏԑԓԕԗԙԛԝԟԡԣԥԧԩԫԭԯՠաբգդեզէըթժիլխծկհձղճմյնշոչպջռսվտրցւփքօֆևֈაბგდევზთიკლმნოპჟრსტუფქღყშჩცძწჭხჯჰჱჲჳჴჵჶჷჸჹჺჽჾჿᏸᏹᏺᏻᏼᏽᲀᲁᲂᲃᲄᲅᲆᲇᲈᴀᴁᴂᴃᴄᴅᴆᴇᴈᴉᴊᴋᴌᴍᴎᴏᴐᴑᴒᴓᴔᴕᴖᴗᴘᴙᴚᴛᴜᴝᴞᴟᴠᴡᴢᴣᴤᴥᴦᴧᴨᴩᴪᴫᵫᵬᵭᵮᵯᵰᵱᵲᵳᵴᵵᵶᵷᵹᵺᵻᵼᵽᵾᵿᶀᶁᶂᶃᶄᶅᶆᶇᶈᶉᶊᶋᶌᶍᶎᶏᶐᶑᶒᶓᶔᶕᶖᶗᶘᶙᶚḁḃḅḇḉḋḍḏḑḓḕḗḙḛḝḟḡḣḥḧḩḫḭḯḱḳḵḷḹḻḽḿṁṃṅṇṉṋṍṏṑṓṕṗṙṛṝṟṡṣṥṧṩṫṭṯṱṳṵṷṹṻṽṿẁẃẅẇẉẋẍẏẑẓẕẖẗẘẙẚẛẜẝẟạảấầẩẫậắằẳẵặẹẻẽếềểễệỉịọỏốồổỗộớờởỡợụủứừửữựỳỵỷỹỻỽỿἀἁἂἃἄἅἆἇἐἑἒἓἔἕἠἡἢἣἤἥἦἧἰἱἲἳἴἵἶἷὀὁὂὃὄὅὐὑὒὓὔὕὖὗὠὡὢὣὤὥὦὧὰάὲέὴήὶίὸόὺύὼώᾀᾁᾂᾃᾄᾅᾆᾇᾐᾑᾒᾓᾔᾕᾖᾗᾠᾡᾢᾣᾤᾥᾦᾧᾰᾱᾲᾳᾴᾶᾷιῂῃῄῆῇῐῑῒΐῖῗῠῡῢΰῤῥῦῧῲῳῴῶῷℊℎℏℓℯℴℹℼℽⅆⅇⅈⅉⅎↄⰰⰱⰲⰳⰴⰵⰶⰷⰸⰹⰺⰻⰼⰽⰾⰿⱀⱁⱂⱃⱄⱅⱆⱇⱈⱉⱊⱋⱌⱍⱎⱏⱐⱑⱒⱓⱔⱕⱖⱗⱘⱙⱚⱛⱜⱝⱞⱡⱥⱦⱨⱪⱬⱱⱳⱴⱶⱷⱸⱹⱺⱻⲁⲃⲅⲇⲉⲋⲍⲏⲑⲓⲕⲗⲙⲛⲝⲟⲡⲣⲥⲧⲩⲫⲭⲯⲱⲳⲵⲷⲹⲻⲽⲿⳁⳃⳅⳇⳉⳋⳍⳏⳑⳓⳕⳗⳙⳛⳝⳟⳡⳣⳤⳬⳮⳳⴀⴁⴂⴃⴄⴅⴆⴇⴈⴉⴊⴋⴌⴍⴎⴏⴐⴑⴒⴓⴔⴕⴖⴗⴘⴙⴚⴛⴜⴝⴞⴟⴠⴡⴢⴣⴤⴥⴧⴭꙁꙃꙅꙇꙉꙋꙍꙏꙑꙓꙕꙗꙙꙛꙝꙟꙡꙣꙥꙧꙩꙫꙭꚁꚃꚅꚇꚉꚋꚍꚏꚑꚓꚕꚗꚙꚛꜣꜥꜧꜩꜫꜭꜯꜰꜱꜳꜵꜷꜹꜻꜽꜿꝁꝃꝅꝇꝉꝋꝍꝏꝑꝓꝕꝗꝙꝛꝝꝟꝡꝣꝥꝧꝩꝫꝭꝯꝱꝲꝳꝴꝵꝶꝷꝸꝺꝼꝿꞁꞃꞅꞇꞌꞎꞑꞓꞔꞕꞗꞙꞛꞝꞟꞡꞣꞥꞧꞩꞯꞵꞷꞹꞻꞽꞿꟃꟈꟊꟶꟺꬰꬱꬲꬳꬴꬵꬶꬷꬸꬹꬺꬻꬼꬽꬾꬿꭀꭁꭂꭃꭄꭅꭆꭇꭈꭉꭊꭋꭌꭍꭎꭏꭐꭑꭒꭓꭔꭕꭖꭗꭘꭙꭚꭠꭡꭢꭣꭤꭥꭦꭧꭨꭰꭱꭲꭳꭴꭵꭶꭷꭸꭹꭺꭻꭼꭽꭾꭿꮀꮁꮂꮃꮄꮅꮆꮇꮈꮉꮊꮋꮌꮍꮎꮏꮐꮑꮒꮓꮔꮕꮖꮗꮘꮙꮚꮛꮜꮝꮞꮟꮠꮡꮢꮣꮤꮥꮦꮧꮨꮩꮪꮫꮬꮭꮮꮯꮰꮱꮲꮳꮴꮵꮶꮷꮸꮹꮺꮻꮼꮽꮾꮿﬀﬁﬂﬃﬄﬅﬆﬓﬔﬕﬖﬗａｂｃｄｅｆｇｈｉｊｋｌｍｎｏｐｑｒｓｔｕｖｗｘｙｚ𐐨𐐩𐐪𐐫𐐬𐐭𐐮𐐯𐐰𐐱𐐲𐐳𐐴𐐵𐐶𐐷𐐸𐐹𐐺𐐻𐐼𐐽𐐾𐐿𐑀𐑁𐑂𐑃𐑄𐑅𐑆𐑇𐑈𐑉𐑊𐑋𐑌𐑍𐑎𐑏𐓘𐓙𐓚𐓛𐓜𐓝𐓞𐓟𐓠𐓡𐓢𐓣𐓤𐓥𐓦𐓧𐓨𐓩𐓪𐓫𐓬𐓭𐓮𐓯𐓰𐓱𐓲𐓳𐓴𐓵𐓶𐓷𐓸𐓹𐓺𐓻𐳀𐳁𐳂𐳃𐳄𐳅𐳆𐳇𐳈𐳉𐳊𐳋𐳌𐳍𐳎𐳏𐳐𐳑𐳒𐳓𐳔𐳕𐳖𐳗𐳘𐳙𐳚𐳛𐳜𐳝𐳞𐳟𐳠𐳡𐳢𐳣𐳤𐳥𐳦𐳧𐳨𐳩𐳪𐳫𐳬𐳭𐳮𐳯𐳰𐳱𐳲𑣀𑣁𑣂𑣃𑣄𑣅𑣆𑣇𑣈𑣉𑣊𑣋𑣌𑣍𑣎𑣏𑣐𑣑𑣒𑣓𑣔𑣕𑣖𑣗𑣘𑣙𑣚𑣛𑣜𑣝𑣞𑣟𖹠𖹡𖹢𖹣𖹤𖹥𖹦𖹧𖹨𖹩𖹪𖹫𖹬𖹭𖹮𖹯𖹰𖹱𖹲𖹳𖹴𖹵𖹶𖹷𖹸𖹹𖹺𖹻𖹼𖹽𖹾𖹿\n",
            "\n"
          ]
        }
      ]
    },
    {
      "cell_type": "code",
      "source": [
        "# If the filtering depends also on the position of the element in the\n",
        "# sequence, the Python function enumerate produces a sequence that consists\n",
        "# of pairs of positions and the original elements in those positions.\n",
        "\n",
        "d = \"\".join([x for i, x in enumerate(list(\"Hello world!\")) if i % 2 == 0])\n",
        "print(f\"Every other character produces string {d!r}\")"
      ],
      "metadata": {
        "colab": {
          "base_uri": "https://localhost:8080/"
        },
        "id": "J2ipWnGJxHC8",
        "outputId": "cf4167af-679d-4dda-f784-a949c9c6f475"
      },
      "execution_count": 9,
      "outputs": [
        {
          "output_type": "stream",
          "name": "stdout",
          "text": [
            "Every other character produces string 'Hlowrd'\n"
          ]
        }
      ]
    },
    {
      "cell_type": "code",
      "source": [
        "d = \"\".join([x for x in \"Hello world, how are you there?\" if x != ' '])\n",
        "print(f\"Removing whitespaces produces string {d!r}\")"
      ],
      "metadata": {
        "colab": {
          "base_uri": "https://localhost:8080/"
        },
        "id": "PqlMnE51PXSn",
        "outputId": "9775d124-94f3-45b9-a314-46b022358006"
      },
      "execution_count": 10,
      "outputs": [
        {
          "output_type": "stream",
          "name": "stdout",
          "text": [
            "Removing whitespaces produces string 'Helloworld,howareyouthere?'\n"
          ]
        }
      ]
    },
    {
      "cell_type": "code",
      "source": [
        "# A word starts at a non-whitespace character that either starts\n",
        "# the whole thing or is preceded by a whitespace character.\n",
        "text = \"Let us try to capitalize every word in this silly little sentence.\"\n",
        "text = \"\".join(\n",
        "    [(x.upper() if (i == 0 or text[i-1] == ' ') else x)\n",
        "     for (i, x) in enumerate(text)]\n",
        "    )\n",
        "print(text)"
      ],
      "metadata": {
        "colab": {
          "base_uri": "https://localhost:8080/"
        },
        "id": "YI-LqbXmWQHs",
        "outputId": "b273d72c-59e9-417f-88b9-26fb0f148810"
      },
      "execution_count": 11,
      "outputs": [
        {
          "output_type": "stream",
          "name": "stdout",
          "text": [
            "Let Us Try To Capitalize Every Word In This Silly Little Sentence.\n"
          ]
        }
      ]
    },
    {
      "cell_type": "code",
      "source": [
        "# Dictionaries can be built up with analogous dictionary comprehensions.\n",
        "e = {x: x*x for x in range(100)}\n",
        "print(e[5], e[55])"
      ],
      "metadata": {
        "colab": {
          "base_uri": "https://localhost:8080/"
        },
        "id": "JN0wpBwWaSi_",
        "outputId": "73afff39-2d2b-4a31-a7f7-fd2c02c9833f"
      },
      "execution_count": 12,
      "outputs": [
        {
          "output_type": "stream",
          "name": "stdout",
          "text": [
            "25 3025\n"
          ]
        }
      ]
    },
    {
      "cell_type": "code",
      "source": [
        "# The list comprehension generates a list of all elements to exist in memory simultaneously,\n",
        "# which may be prohibitive if the number of elements is very large, even astronomical. Iterator comprehension\n",
        "# produces an iterator that yields the elements one at the time as needed by the computation.\n",
        "# The generator expression is efficient because it computes each square on-the-fly and does not store all the values in memory at once. However, printing h only shows the generator object, not the actual squared values.\n",
        "# Squares of the first googol integers.\n",
        "h = (x*x for x in range(10 ** 100))\n",
        "print(h)\n",
        "# Notice how we didn't run out of memory. Many functions that operate\n",
        "# on iterators are smart enough to stop once they know the answer, so\n",
        "# they will not get stuck if the iterator sequence is very large or\n",
        "# even infinite."
      ],
      "metadata": {
        "colab": {
          "base_uri": "https://localhost:8080/"
        },
        "id": "vptX6DCNaYi0",
        "outputId": "5ea095ce-5163-4747-be0e-47cee051299a"
      },
      "execution_count": 16,
      "outputs": [
        {
          "output_type": "stream",
          "name": "stdout",
          "text": [
            "<generator object <genexpr> at 0x7e7771defc30>\n"
          ]
        }
      ]
    },
    {
      "cell_type": "code",
      "source": [
        "g40 = any(x > 40 for x in h)\n",
        "print(f\"Does there exist an integer greater 40? {g40}\")"
      ],
      "metadata": {
        "colab": {
          "base_uri": "https://localhost:8080/"
        },
        "id": "CRz27g1yjt0x",
        "outputId": "6054ebf8-bdbf-4203-a771-cca9cec5656a"
      },
      "execution_count": 17,
      "outputs": [
        {
          "output_type": "stream",
          "name": "stdout",
          "text": [
            "Does there exist an integer greater 40? True\n"
          ]
        }
      ]
    },
    {
      "cell_type": "code",
      "source": [
        "d7 = all(x % 7 == 0 for x in h)\n",
        "print(f\"Are all integers divisible by 7? {d7}\")"
      ],
      "metadata": {
        "colab": {
          "base_uri": "https://localhost:8080/"
        },
        "id": "2jkhtunNj0ST",
        "outputId": "1552968b-617b-4cdf-c264-a41556ec1f19"
      },
      "execution_count": 18,
      "outputs": [
        {
          "output_type": "stream",
          "name": "stdout",
          "text": [
            "Are all integers divisible by 7? False\n"
          ]
        }
      ]
    },
    {
      "cell_type": "markdown",
      "source": [
        "### Generatoe objects"
      ],
      "metadata": {
        "id": "wa2CTYuclp1s"
      }
    },
    {
      "cell_type": "code",
      "source": [
        "# Since the actual elements can be computed arbitrarily from the\n",
        "# elements of the original sequence, we can find out the positions\n",
        "# where the original elements satisfy a particular condition.\n",
        "\n",
        "g1 = (29 % n == 0 for n in range(3, 29, 2))\n",
        "g2 = (45 % n == 0 for n in range(3, 45, 2))\n",
        "print(g1)\n",
        "print(g2)\n",
        "# Beware of the fact that in a generator expression, the for-part is\n",
        "# evaluated at declaration, whereas the if-part is evaluated at execution."
      ],
      "metadata": {
        "colab": {
          "base_uri": "https://localhost:8080/"
        },
        "id": "PYkWGR6MkDoB",
        "outputId": "63f56e1f-f294-4c78-955d-7289d05d594f"
      },
      "execution_count": 21,
      "outputs": [
        {
          "output_type": "stream",
          "name": "stdout",
          "text": [
            "<generator object <genexpr> at 0x7e7771deff40>\n",
            "<generator object <genexpr> at 0x7e7771c28040>\n"
          ]
        }
      ]
    },
    {
      "cell_type": "code",
      "source": [
        "# Generator for Even Numbers:\n",
        "even_numbers = (x for x in range(100) if x % 2 == 0)\n",
        "print(even_numbers)"
      ],
      "metadata": {
        "colab": {
          "base_uri": "https://localhost:8080/"
        },
        "id": "rQItV72QlvJ7",
        "outputId": "e693371b-79d1-48c0-cf10-abf1907d3ed1"
      },
      "execution_count": 23,
      "outputs": [
        {
          "output_type": "stream",
          "name": "stdout",
          "text": [
            "<generator object <genexpr> at 0x7e7771c284a0>\n"
          ]
        }
      ]
    },
    {
      "cell_type": "code",
      "source": [
        "# Generator for Fibonacci Sequence:\n",
        "def fibonacci(n):\n",
        "    a, b = 0, 1\n",
        "    for _ in range(n):\n",
        "        yield a\n",
        "        a, b = b, a + b\n",
        "\n",
        "fib_gen = (x for x in fibonacci(10))\n",
        "print(fib_gen)"
      ],
      "metadata": {
        "colab": {
          "base_uri": "https://localhost:8080/"
        },
        "id": "tb4v-rbWlv93",
        "outputId": "f0663903-8b9b-4f48-9f8a-a174b64afe58"
      },
      "execution_count": 25,
      "outputs": [
        {
          "output_type": "stream",
          "name": "stdout",
          "text": [
            "<generator object <genexpr> at 0x7e7771c285f0>\n"
          ]
        }
      ]
    },
    {
      "cell_type": "code",
      "source": [
        "# List Comprehension for Fibonacci Sequence:\n",
        "def fibonacci(n):\n",
        "    a, b = 0, 1\n",
        "    for _ in range(n):\n",
        "        yield a\n",
        "        a, b = b, a + b\n",
        "\n",
        "fib_gen = [x for x in fibonacci(10)]\n",
        "print(fib_gen)"
      ],
      "metadata": {
        "colab": {
          "base_uri": "https://localhost:8080/"
        },
        "id": "IzqprnhRlwZG",
        "outputId": "ddfeaaba-6d99-4b99-b5f9-6fd9b99627a6"
      },
      "execution_count": 26,
      "outputs": [
        {
          "output_type": "stream",
          "name": "stdout",
          "text": [
            "[0, 1, 1, 2, 3, 5, 8, 13, 21, 34]\n"
          ]
        }
      ]
    },
    {
      "cell_type": "code",
      "source": [
        "# Generator for Squares of Numbers:\n",
        "squares = (x*x for x in range(1, 21))\n",
        "print(squares)"
      ],
      "metadata": {
        "colab": {
          "base_uri": "https://localhost:8080/"
        },
        "id": "qGnoUAbJlw34",
        "outputId": "9ce3ad35-7838-41be-c85e-21b7909785c7"
      },
      "execution_count": 28,
      "outputs": [
        {
          "output_type": "stream",
          "name": "stdout",
          "text": [
            "<generator object <genexpr> at 0x7e7771c280b0>\n"
          ]
        }
      ]
    },
    {
      "cell_type": "code",
      "source": [
        "# Generator for Prime Numbers:\n",
        "def is_prime(num):\n",
        "    if num < 2:\n",
        "        return False\n",
        "    for i in range(2, int(num**0.5) + 1):\n",
        "        if num % i == 0:\n",
        "            return False\n",
        "    return True\n",
        "\n",
        "primes = (x for x in range(2, 100) if is_prime(x))\n",
        "print(primes)"
      ],
      "metadata": {
        "colab": {
          "base_uri": "https://localhost:8080/"
        },
        "id": "GJomItWalxVu",
        "outputId": "2d92cf09-ecff-4964-d570-b39f3cbf1496"
      },
      "execution_count": 30,
      "outputs": [
        {
          "output_type": "stream",
          "name": "stdout",
          "text": [
            "<generator object <genexpr> at 0x7e7771c28510>\n"
          ]
        }
      ]
    },
    {
      "cell_type": "code",
      "source": [
        "# List Comprehension for Prime Numbers:\n",
        "def is_prime(num):\n",
        "    if num < 2:\n",
        "        return False\n",
        "    for i in range(2, int(num**0.5) + 1):\n",
        "        if num % i == 0:\n",
        "            return False\n",
        "    return True\n",
        "\n",
        "primes = [x for x in range(2, 100) if is_prime(x)]\n",
        "print(primes)"
      ],
      "metadata": {
        "colab": {
          "base_uri": "https://localhost:8080/"
        },
        "id": "U4wlPHXzmjQb",
        "outputId": "b79c6038-dcb6-404d-9864-6788f6432a17"
      },
      "execution_count": 31,
      "outputs": [
        {
          "output_type": "stream",
          "name": "stdout",
          "text": [
            "[2, 3, 5, 7, 11, 13, 17, 19, 23, 29, 31, 37, 41, 43, 47, 53, 59, 61, 67, 71, 73, 79, 83, 89, 97]\n"
          ]
        }
      ]
    },
    {
      "cell_type": "code",
      "source": [
        "# Generator for Characters in a String:\n",
        "string_chars = (char for char in \"Hello, World!\" if char.isalpha())\n",
        "print(string_chars)"
      ],
      "metadata": {
        "colab": {
          "base_uri": "https://localhost:8080/"
        },
        "id": "7VfD5xOtm-nz",
        "outputId": "1eb59fe3-6e4b-4b81-8f54-463b0249a0b2"
      },
      "execution_count": 32,
      "outputs": [
        {
          "output_type": "stream",
          "name": "stdout",
          "text": [
            "<generator object <genexpr> at 0x7e7771c28120>\n"
          ]
        }
      ]
    },
    {
      "cell_type": "code",
      "source": [
        "# List Comprehension for Characters in a String:\n",
        "string_chars = [char for char in \"Hello, World!\" if char.isalpha()]\n",
        "print(string_chars)"
      ],
      "metadata": {
        "colab": {
          "base_uri": "https://localhost:8080/"
        },
        "id": "0A2v2dGsnKDx",
        "outputId": "984f0814-4236-4c5b-b280-863493db7eea"
      },
      "execution_count": 33,
      "outputs": [
        {
          "output_type": "stream",
          "name": "stdout",
          "text": [
            "['H', 'e', 'l', 'l', 'o', 'W', 'o', 'r', 'l', 'd']\n"
          ]
        }
      ]
    },
    {
      "cell_type": "code",
      "source": [
        "words = [\"hello\", \"there\", \"world\"]\n",
        "five = (word for word in words if word in words)\n",
        "words = [\"hello\", \"ilkka\"]\n",
        "print(list(five))  # ['hello']\n",
        "\n",
        "# The Python functions all and any can be used to check if any or\n",
        "# all elements of a sequence, produced either with a comprehension\n",
        "# or something else, have some desired property. (Note that for empty\n",
        "# sequence, all is trivially true, and any is trivially false,\n",
        "# regardless of the condition used.)\n",
        "\n",
        "print(f\"Is the number 29 a prime number? {not any(g1)}\")\n",
        "print(f\"Is the number 45 a prime number? {not any (g2)}\")\n",
        "\n",
        "text = \"Hello, world!\"\n",
        "s = [ud.category(x) == ud.category(' ') for x in text]\n",
        "print(f\"Does the string {text!r} contain any spaces? {any(s)}\")\n",
        "\n",
        "# An inner comprehension can be nested inside the evaluation of an outer\n",
        "# comprehension, to produce a sequence whose elements are sequences.\n",
        "\n",
        "u1 = [[x for x in range(n+1)] for n in range(10)]\n",
        "print(u1)\n",
        "\n",
        "# This technique allows us to partition a sequence into another sequence\n",
        "# of its consecutive elements, either overlapping or not.\n",
        "\n",
        "# Overlapping sequences of 3 consecutive elements by having the range\n",
        "# of n skip by default 1.\n",
        "u2 = [\" \".join([words[x] for x in range(n, n+3)]) for n in range(len(words)-2)]\n",
        "print(u2)\n",
        "\n",
        "# Non-overlapping sequences of 3 consecutive elements by having the\n",
        "# range of n skip by 3.\n",
        "u3 = [\" \".join([words[x] for x in range(n, n+3)]) for n in range(0, len(words)-2, 3)]\n",
        "print(u3)\n",
        ""
      ],
      "metadata": {
        "id": "fSI0dEvEwe25"
      },
      "execution_count": null,
      "outputs": []
    },
    {
      "cell_type": "code",
      "source": [],
      "metadata": {
        "id": "6WRVnXZyjrwJ"
      },
      "execution_count": null,
      "outputs": []
    }
  ]
}