{
  "nbformat": 4,
  "nbformat_minor": 0,
  "metadata": {
    "colab": {
      "provenance": [],
      "authorship_tag": "ABX9TyNunwUIjg7VgL6s+Nn/5Ps3",
      "include_colab_link": true
    },
    "kernelspec": {
      "name": "python3",
      "display_name": "Python 3"
    },
    "language_info": {
      "name": "python"
    }
  },
  "cells": [
    {
      "cell_type": "markdown",
      "metadata": {
        "id": "view-in-github",
        "colab_type": "text"
      },
      "source": [
        "<a href=\"https://colab.research.google.com/github/valentijnbongers/bacis_python_functions/blob/main/Python_Comprehensions.ipynb\" target=\"_parent\"><img src=\"https://colab.research.google.com/assets/colab-badge.svg\" alt=\"Open In Colab\"/></a>"
      ]
    },
    {
      "cell_type": "markdown",
      "source": [
        "# Comprehensions"
      ],
      "metadata": {
        "id": "zH0l5j63WUEs"
      }
    },
    {
      "cell_type": "code",
      "execution_count": 18,
      "metadata": {
        "id": "5nVxLB0aWOGh"
      },
      "outputs": [],
      "source": [
        "import unicodedata as ud"
      ]
    },
    {
      "cell_type": "markdown",
      "source": [
        "## # Python list comprehensions can be used to build up lists of answers."
      ],
      "metadata": {
        "id": "Zw7Vn1deWbxC"
      }
    },
    {
      "cell_type": "code",
      "source": [
        "result = [x * x for x in range(1,100) if \"3\" in str(x)]\n",
        "print(result)"
      ],
      "metadata": {
        "colab": {
          "base_uri": "https://localhost:8080/"
        },
        "id": "022FPdeXvuzO",
        "outputId": "8f03b2e0-199b-498b-fe10-501de9ca6815"
      },
      "execution_count": 3,
      "outputs": [
        {
          "output_type": "stream",
          "name": "stdout",
          "text": [
            "[9, 169, 529, 900, 961, 1024, 1089, 1156, 1225, 1296, 1369, 1444, 1521, 1849, 2809, 3969, 5329, 6889, 8649]\n"
          ]
        }
      ]
    },
    {
      "cell_type": "code",
      "source": [
        "# Squares of numbers from 1 to 99 that contain digit \"3\".\n",
        "a = [x * x for x in range(1, 100) if \"3\" in str(x)]\n",
        "print(a)"
      ],
      "metadata": {
        "colab": {
          "base_uri": "https://localhost:8080/"
        },
        "id": "5S0D9oZeloa3",
        "outputId": "f61b60fd-f5e9-460f-c670-cc3faa0423d3"
      },
      "execution_count": 4,
      "outputs": [
        {
          "output_type": "stream",
          "name": "stdout",
          "text": [
            "[9, 169, 529, 900, 961, 1024, 1089, 1156, 1225, 1296, 1369, 1444, 1521, 1849, 2809, 3969, 5329, 6889, 8649]\n"
          ]
        }
      ]
    },
    {
      "cell_type": "code",
      "source": [
        "# Since a comprehension can be made out of any existing sequence,\n",
        "# more complex lists can be created out of existing comprehensions.\n",
        "# Elements of the previous list that are between 500 and 2000.\n",
        "\n",
        "b = [x for x in a if 500 < x < 2000]\n",
        "print(b)"
      ],
      "metadata": {
        "colab": {
          "base_uri": "https://localhost:8080/"
        },
        "id": "_-1abNtPlvkJ",
        "outputId": "214d3995-7600-49a3-a499-21edcc689085"
      },
      "execution_count": 5,
      "outputs": [
        {
          "output_type": "stream",
          "name": "stdout",
          "text": [
            "[529, 900, 961, 1024, 1089, 1156, 1225, 1296, 1369, 1444, 1521, 1849]\n"
          ]
        }
      ]
    },
    {
      "cell_type": "code",
      "source": [
        "# List comprehensions can do a lot of work that we later do with loops.\n",
        "# For example, let's find all the Unicode characters that are lowercase\n",
        "# letters and produce a list of them.\n",
        "\n",
        "letter_category = ud.category('a')\n",
        "c = [chr(c) for c in range(100000)\n",
        "     if ud.category(chr(c)) == letter_category]\n",
        "print(\"Here are the Unicode characters that are lowercase letters:\")\n",
        "print(\"\".join(c))  # There are quite a few.\n",
        "print(\"\")\n"
      ],
      "metadata": {
        "colab": {
          "base_uri": "https://localhost:8080/"
        },
        "id": "vK7ETGT9wlZx",
        "outputId": "f85dc000-6b0d-40f0-91eb-b33ba1dea12b"
      },
      "execution_count": 19,
      "outputs": [
        {
          "output_type": "stream",
          "name": "stdout",
          "text": [
            "Here are the Unicode characters that are lowercase letters:\n",
            "abcdefghijklmnopqrstuvwxyzµßàáâãäåæçèéêëìíîïðñòóôõöøùúûüýþÿāăąćĉċčďđēĕėęěĝğġģĥħĩīĭįıĳĵķĸĺļľŀłńņňŉŋōŏőœŕŗřśŝşšţťŧũūŭůűųŵŷźżžſƀƃƅƈƌƍƒƕƙƚƛƞơƣƥƨƪƫƭưƴƶƹƺƽƾƿǆǉǌǎǐǒǔǖǘǚǜǝǟǡǣǥǧǩǫǭǯǰǳǵǹǻǽǿȁȃȅȇȉȋȍȏȑȓȕȗșțȝȟȡȣȥȧȩȫȭȯȱȳȴȵȶȷȸȹȼȿɀɂɇɉɋɍɏɐɑɒɓɔɕɖɗɘəɚɛɜɝɞɟɠɡɢɣɤɥɦɧɨɩɪɫɬɭɮɯɰɱɲɳɴɵɶɷɸɹɺɻɼɽɾɿʀʁʂʃʄʅʆʇʈʉʊʋʌʍʎʏʐʑʒʓʕʖʗʘʙʚʛʜʝʞʟʠʡʢʣʤʥʦʧʨʩʪʫʬʭʮʯͱͳͷͻͼͽΐάέήίΰαβγδεζηθικλμνξοπρςστυφχψωϊϋόύώϐϑϕϖϗϙϛϝϟϡϣϥϧϩϫϭϯϰϱϲϳϵϸϻϼабвгдежзийклмнопрстуфхцчшщъыьэюяѐёђѓєѕіїјљњћќѝўџѡѣѥѧѩѫѭѯѱѳѵѷѹѻѽѿҁҋҍҏґғҕҗҙқҝҟҡңҥҧҩҫҭүұҳҵҷҹһҽҿӂӄӆӈӊӌӎӏӑӓӕӗәӛӝӟӡӣӥӧөӫӭӯӱӳӵӷӹӻӽӿԁԃԅԇԉԋԍԏԑԓԕԗԙԛԝԟԡԣԥԧԩԫԭԯՠաբգդեզէըթժիլխծկհձղճմյնշոչպջռսվտրցւփքօֆևֈაბგდევზთიკლმნოპჟრსტუფქღყშჩცძწჭხჯჰჱჲჳჴჵჶჷჸჹჺჽჾჿᏸᏹᏺᏻᏼᏽᲀᲁᲂᲃᲄᲅᲆᲇᲈᴀᴁᴂᴃᴄᴅᴆᴇᴈᴉᴊᴋᴌᴍᴎᴏᴐᴑᴒᴓᴔᴕᴖᴗᴘᴙᴚᴛᴜᴝᴞᴟᴠᴡᴢᴣᴤᴥᴦᴧᴨᴩᴪᴫᵫᵬᵭᵮᵯᵰᵱᵲᵳᵴᵵᵶᵷᵹᵺᵻᵼᵽᵾᵿᶀᶁᶂᶃᶄᶅᶆᶇᶈᶉᶊᶋᶌᶍᶎᶏᶐᶑᶒᶓᶔᶕᶖᶗᶘᶙᶚḁḃḅḇḉḋḍḏḑḓḕḗḙḛḝḟḡḣḥḧḩḫḭḯḱḳḵḷḹḻḽḿṁṃṅṇṉṋṍṏṑṓṕṗṙṛṝṟṡṣṥṧṩṫṭṯṱṳṵṷṹṻṽṿẁẃẅẇẉẋẍẏẑẓẕẖẗẘẙẚẛẜẝẟạảấầẩẫậắằẳẵặẹẻẽếềểễệỉịọỏốồổỗộớờởỡợụủứừửữựỳỵỷỹỻỽỿἀἁἂἃἄἅἆἇἐἑἒἓἔἕἠἡἢἣἤἥἦἧἰἱἲἳἴἵἶἷὀὁὂὃὄὅὐὑὒὓὔὕὖὗὠὡὢὣὤὥὦὧὰάὲέὴήὶίὸόὺύὼώᾀᾁᾂᾃᾄᾅᾆᾇᾐᾑᾒᾓᾔᾕᾖᾗᾠᾡᾢᾣᾤᾥᾦᾧᾰᾱᾲᾳᾴᾶᾷιῂῃῄῆῇῐῑῒΐῖῗῠῡῢΰῤῥῦῧῲῳῴῶῷℊℎℏℓℯℴℹℼℽⅆⅇⅈⅉⅎↄⰰⰱⰲⰳⰴⰵⰶⰷⰸⰹⰺⰻⰼⰽⰾⰿⱀⱁⱂⱃⱄⱅⱆⱇⱈⱉⱊⱋⱌⱍⱎⱏⱐⱑⱒⱓⱔⱕⱖⱗⱘⱙⱚⱛⱜⱝⱞⱡⱥⱦⱨⱪⱬⱱⱳⱴⱶⱷⱸⱹⱺⱻⲁⲃⲅⲇⲉⲋⲍⲏⲑⲓⲕⲗⲙⲛⲝⲟⲡⲣⲥⲧⲩⲫⲭⲯⲱⲳⲵⲷⲹⲻⲽⲿⳁⳃⳅⳇⳉⳋⳍⳏⳑⳓⳕⳗⳙⳛⳝⳟⳡⳣⳤⳬⳮⳳⴀⴁⴂⴃⴄⴅⴆⴇⴈⴉⴊⴋⴌⴍⴎⴏⴐⴑⴒⴓⴔⴕⴖⴗⴘⴙⴚⴛⴜⴝⴞⴟⴠⴡⴢⴣⴤⴥⴧⴭꙁꙃꙅꙇꙉꙋꙍꙏꙑꙓꙕꙗꙙꙛꙝꙟꙡꙣꙥꙧꙩꙫꙭꚁꚃꚅꚇꚉꚋꚍꚏꚑꚓꚕꚗꚙꚛꜣꜥꜧꜩꜫꜭꜯꜰꜱꜳꜵꜷꜹꜻꜽꜿꝁꝃꝅꝇꝉꝋꝍꝏꝑꝓꝕꝗꝙꝛꝝꝟꝡꝣꝥꝧꝩꝫꝭꝯꝱꝲꝳꝴꝵꝶꝷꝸꝺꝼꝿꞁꞃꞅꞇꞌꞎꞑꞓꞔꞕꞗꞙꞛꞝꞟꞡꞣꞥꞧꞩꞯꞵꞷꞹꞻꞽꞿꟃꟈꟊꟶꟺꬰꬱꬲꬳꬴꬵꬶꬷꬸꬹꬺꬻꬼꬽꬾꬿꭀꭁꭂꭃꭄꭅꭆꭇꭈꭉꭊꭋꭌꭍꭎꭏꭐꭑꭒꭓꭔꭕꭖꭗꭘꭙꭚꭠꭡꭢꭣꭤꭥꭦꭧꭨꭰꭱꭲꭳꭴꭵꭶꭷꭸꭹꭺꭻꭼꭽꭾꭿꮀꮁꮂꮃꮄꮅꮆꮇꮈꮉꮊꮋꮌꮍꮎꮏꮐꮑꮒꮓꮔꮕꮖꮗꮘꮙꮚꮛꮜꮝꮞꮟꮠꮡꮢꮣꮤꮥꮦꮧꮨꮩꮪꮫꮬꮭꮮꮯꮰꮱꮲꮳꮴꮵꮶꮷꮸꮹꮺꮻꮼꮽꮾꮿﬀﬁﬂﬃﬄﬅﬆﬓﬔﬕﬖﬗａｂｃｄｅｆｇｈｉｊｋｌｍｎｏｐｑｒｓｔｕｖｗｘｙｚ𐐨𐐩𐐪𐐫𐐬𐐭𐐮𐐯𐐰𐐱𐐲𐐳𐐴𐐵𐐶𐐷𐐸𐐹𐐺𐐻𐐼𐐽𐐾𐐿𐑀𐑁𐑂𐑃𐑄𐑅𐑆𐑇𐑈𐑉𐑊𐑋𐑌𐑍𐑎𐑏𐓘𐓙𐓚𐓛𐓜𐓝𐓞𐓟𐓠𐓡𐓢𐓣𐓤𐓥𐓦𐓧𐓨𐓩𐓪𐓫𐓬𐓭𐓮𐓯𐓰𐓱𐓲𐓳𐓴𐓵𐓶𐓷𐓸𐓹𐓺𐓻𐳀𐳁𐳂𐳃𐳄𐳅𐳆𐳇𐳈𐳉𐳊𐳋𐳌𐳍𐳎𐳏𐳐𐳑𐳒𐳓𐳔𐳕𐳖𐳗𐳘𐳙𐳚𐳛𐳜𐳝𐳞𐳟𐳠𐳡𐳢𐳣𐳤𐳥𐳦𐳧𐳨𐳩𐳪𐳫𐳬𐳭𐳮𐳯𐳰𐳱𐳲𑣀𑣁𑣂𑣃𑣄𑣅𑣆𑣇𑣈𑣉𑣊𑣋𑣌𑣍𑣎𑣏𑣐𑣑𑣒𑣓𑣔𑣕𑣖𑣗𑣘𑣙𑣚𑣛𑣜𑣝𑣞𑣟𖹠𖹡𖹢𖹣𖹤𖹥𖹦𖹧𖹨𖹩𖹪𖹫𖹬𖹭𖹮𖹯𖹰𖹱𖹲𖹳𖹴𖹵𖹶𖹷𖹸𖹹𖹺𖹻𖹼𖹽𖹾𖹿\n",
            "\n"
          ]
        }
      ]
    },
    {
      "cell_type": "code",
      "source": [
        "# If the filtering depends also on the position of the element in the\n",
        "# sequence, the Python function enumerate produces a sequence that consists\n",
        "# of pairs of positions and the original elements in those positions.\n",
        "\n",
        "d = \"\".join([x for i, x in enumerate(list(\"Hello world!\")) if i % 2 == 0])\n",
        "print(f\"Every other character produces string {d!r}\")"
      ],
      "metadata": {
        "colab": {
          "base_uri": "https://localhost:8080/"
        },
        "id": "J2ipWnGJxHC8",
        "outputId": "7d938a5e-1f36-4fa2-aaee-311e08052b69"
      },
      "execution_count": 1,
      "outputs": [
        {
          "output_type": "stream",
          "name": "stdout",
          "text": [
            "Every other character produces string 'Hlowrd'\n"
          ]
        }
      ]
    },
    {
      "cell_type": "code",
      "source": [
        "d = \"\".join([x for x in \"Hello world, how are you there?\" if x != ' '])\n",
        "print(f\"Removing whitespaces produces string {d!r}\")"
      ],
      "metadata": {
        "colab": {
          "base_uri": "https://localhost:8080/"
        },
        "id": "PqlMnE51PXSn",
        "outputId": "19cfba07-c5e9-4d40-c761-f234b286a516"
      },
      "execution_count": 7,
      "outputs": [
        {
          "output_type": "stream",
          "name": "stdout",
          "text": [
            "Removing whitespaces produces string 'Helloworld,howareyouthere?'\n"
          ]
        }
      ]
    },
    {
      "cell_type": "code",
      "source": [
        "# A word starts at a non-whitespace character that either starts\n",
        "# the whole thing or is preceded by a whitespace character.\n",
        "text = \"Let us try to capitalize every word in this silly little sentence.\"\n",
        "text = \"\".join(\n",
        "    [(x.upper() if (i == 0 or text[i-1] == ' ') else x)\n",
        "     for (i, x) in enumerate(text)]\n",
        "    )\n",
        "print(text)"
      ],
      "metadata": {
        "colab": {
          "base_uri": "https://localhost:8080/"
        },
        "id": "YI-LqbXmWQHs",
        "outputId": "e46132cc-73c9-4886-ffec-e263661ce8a4"
      },
      "execution_count": 8,
      "outputs": [
        {
          "output_type": "stream",
          "name": "stdout",
          "text": [
            "Let Us Try To Capitalize Every Word In This Silly Little Sentence.\n"
          ]
        }
      ]
    },
    {
      "cell_type": "code",
      "source": [
        "# Dictionaries can be built up with analogous dictionary comprehensions.\n",
        "e = {x: x*x for x in range(100)}\n",
        "print(e[5], e[55])"
      ],
      "metadata": {
        "colab": {
          "base_uri": "https://localhost:8080/"
        },
        "id": "JN0wpBwWaSi_",
        "outputId": "e5d53f3e-87c8-4413-d572-1232014ec1e0"
      },
      "execution_count": 9,
      "outputs": [
        {
          "output_type": "stream",
          "name": "stdout",
          "text": [
            "25 3025\n"
          ]
        }
      ]
    },
    {
      "cell_type": "code",
      "source": [
        "# The list comprehension generates a list of all elements to exist in memory simultaneously,\n",
        "# which may be prohibitive if the number of elements is very large, even astronomical. Iterator comprehension\n",
        "# produces an iterator that yields the elements one at the time as needed by the computation.\n",
        "# The generator expression is efficient because it computes each square on-the-fly and does not store all the values in memory at once. However, printing h only shows the generator object, not the actual squared values.\n",
        "# Squares of the first googol integers.\n",
        "h = (x*x for x in range(10 ** 100))\n",
        "print(h)\n",
        "\n",
        "# Notice how we didn't run out of memory. Many functions that operate\n",
        "# on iterators are smart enough to stop once they know the answer, so\n",
        "# they will not get stuck if the iterator sequence is very large or\n",
        "# even infinite."
      ],
      "metadata": {
        "colab": {
          "base_uri": "https://localhost:8080/"
        },
        "id": "dvdV5CFvUKU-",
        "outputId": "9d9e541f-e754-425f-cfa5-9f43567ddd91"
      },
      "execution_count": 14,
      "outputs": [
        {
          "output_type": "stream",
          "name": "stdout",
          "text": [
            "<generator object <genexpr> at 0x79793eb75850>\n"
          ]
        }
      ]
    },
    {
      "cell_type": "code",
      "source": [
        "# How to execute a generator object via a loop\n",
        "# Example to print the first 10 values\n",
        "for i, value in enumerate(h):\n",
        "    if i >= 10:\n",
        "        break\n",
        "    print(value)"
      ],
      "metadata": {
        "colab": {
          "base_uri": "https://localhost:8080/"
        },
        "id": "hgMynQ-XUXFo",
        "outputId": "4822271e-66a4-4a35-a6f5-5eace01c2c0e"
      },
      "execution_count": 17,
      "outputs": [
        {
          "output_type": "stream",
          "name": "stdout",
          "text": [
            "100220121\n",
            "100240144\n",
            "100260169\n",
            "100280196\n",
            "100300225\n",
            "100320256\n",
            "100340289\n",
            "100360324\n",
            "100380361\n",
            "100400400\n"
          ]
        }
      ]
    },
    {
      "cell_type": "code",
      "source": [
        "g40 = any(x > 40 for x in h)\n",
        "print(f\"Does there exist an integer greater 40? {g40}\")"
      ],
      "metadata": {
        "colab": {
          "base_uri": "https://localhost:8080/"
        },
        "id": "CRz27g1yjt0x",
        "outputId": "67c31f0a-8078-4258-808d-9b7997775fa3"
      },
      "execution_count": 20,
      "outputs": [
        {
          "output_type": "stream",
          "name": "stdout",
          "text": [
            "Does there exist an integer greater 40? True\n"
          ]
        }
      ]
    },
    {
      "cell_type": "code",
      "source": [
        "d7 = all(x % 7 == 0 for x in h)\n",
        "print(f\"Are all integers divisible by 7? {d7}\")"
      ],
      "metadata": {
        "colab": {
          "base_uri": "https://localhost:8080/"
        },
        "id": "2jkhtunNj0ST",
        "outputId": "caebc924-5434-4469-935f-0e944ae076b4"
      },
      "execution_count": 21,
      "outputs": [
        {
          "output_type": "stream",
          "name": "stdout",
          "text": [
            "Are all integers divisible by 7? False\n"
          ]
        }
      ]
    },
    {
      "cell_type": "markdown",
      "source": [
        "### Generatoe objects"
      ],
      "metadata": {
        "id": "wa2CTYuclp1s"
      }
    },
    {
      "cell_type": "code",
      "source": [
        "# Since the actual elements can be computed arbitrarily from the\n",
        "# elements of the original sequence, we can find out the positions\n",
        "# where the original elements satisfy a particular condition.\n",
        "\n",
        "g1 = (29 % n == 0 for n in range(3, 29, 2))\n",
        "g2 = (45 % n == 0 for n in range(3, 45, 2))\n",
        "print(g1)\n",
        "print(g2)\n",
        "# Beware of the fact that in a generator expression, the for-part is\n",
        "# evaluated at declaration, whereas the if-part is evaluated at execution."
      ],
      "metadata": {
        "colab": {
          "base_uri": "https://localhost:8080/"
        },
        "id": "PYkWGR6MkDoB",
        "outputId": "030a6a12-a8e7-4438-8046-aae87392184e"
      },
      "execution_count": 22,
      "outputs": [
        {
          "output_type": "stream",
          "name": "stdout",
          "text": [
            "<generator object <genexpr> at 0x79793e5eb0d0>\n",
            "<generator object <genexpr> at 0x79793e5eb1b0>\n"
          ]
        }
      ]
    },
    {
      "cell_type": "code",
      "source": [
        "# Generator for Even Numbers:\n",
        "even_numbers = (x for x in range(100) if x % 2 == 0)\n",
        "print(even_numbers)"
      ],
      "metadata": {
        "colab": {
          "base_uri": "https://localhost:8080/"
        },
        "id": "rQItV72QlvJ7",
        "outputId": "b2f28f8a-99bf-466b-8f8d-2d406d5f8fa9"
      },
      "execution_count": 23,
      "outputs": [
        {
          "output_type": "stream",
          "name": "stdout",
          "text": [
            "<generator object <genexpr> at 0x79793e5eb3e0>\n"
          ]
        }
      ]
    },
    {
      "cell_type": "code",
      "source": [
        "# Generator for Fibonacci Sequence:\n",
        "def fibonacci(n):\n",
        "    a, b = 0, 1\n",
        "    for _ in range(n):\n",
        "        yield a\n",
        "        a, b = b, a + b\n",
        "\n",
        "fib_gen = (x for x in fibonacci(10))\n",
        "print(fib_gen)"
      ],
      "metadata": {
        "colab": {
          "base_uri": "https://localhost:8080/"
        },
        "id": "tb4v-rbWlv93",
        "outputId": "853d73d1-a900-4a4a-ed37-d3dc63365bff"
      },
      "execution_count": 24,
      "outputs": [
        {
          "output_type": "stream",
          "name": "stdout",
          "text": [
            "<generator object <genexpr> at 0x79793e5e8970>\n"
          ]
        }
      ]
    },
    {
      "cell_type": "code",
      "source": [
        "# List Comprehension for Fibonacci Sequence:\n",
        "def fibonacci(n):\n",
        "    a, b = 0, 1\n",
        "    for _ in range(n):\n",
        "        yield a\n",
        "        a, b = b, a + b\n",
        "\n",
        "fib_gen = [x for x in fibonacci(10)]\n",
        "print(fib_gen)"
      ],
      "metadata": {
        "colab": {
          "base_uri": "https://localhost:8080/"
        },
        "id": "IzqprnhRlwZG",
        "outputId": "10cc2f36-276c-47f4-bceb-cd0bd34ba827"
      },
      "execution_count": 25,
      "outputs": [
        {
          "output_type": "stream",
          "name": "stdout",
          "text": [
            "[0, 1, 1, 2, 3, 5, 8, 13, 21, 34]\n"
          ]
        }
      ]
    },
    {
      "cell_type": "code",
      "source": [
        "# Generator for Squares of Numbers:\n",
        "squares = (x*x for x in range(1, 21))\n",
        "print(squares)"
      ],
      "metadata": {
        "colab": {
          "base_uri": "https://localhost:8080/"
        },
        "id": "qGnoUAbJlw34",
        "outputId": "f0e43cb1-4b20-4a79-e6e4-fa53caf9a1b1"
      },
      "execution_count": 26,
      "outputs": [
        {
          "output_type": "stream",
          "name": "stdout",
          "text": [
            "<generator object <genexpr> at 0x79793e5eace0>\n"
          ]
        }
      ]
    },
    {
      "cell_type": "code",
      "source": [
        "# Generator for Prime Numbers:\n",
        "def is_prime(num):\n",
        "    if num < 2:\n",
        "        return False\n",
        "    for i in range(2, int(num**0.5) + 1):\n",
        "        if num % i == 0:\n",
        "            return False\n",
        "    return True\n",
        "\n",
        "primes = (x for x in range(2, 100) if is_prime(x))\n",
        "print(primes)"
      ],
      "metadata": {
        "id": "GJomItWalxVu"
      },
      "execution_count": null,
      "outputs": []
    },
    {
      "cell_type": "code",
      "source": [
        "# List Comprehension for Prime Numbers:\n",
        "def is_prime(num):\n",
        "    if num < 2:\n",
        "        return False\n",
        "    for i in range(2, int(num**0.5) + 1):\n",
        "        if num % i == 0:\n",
        "            return False\n",
        "    return True\n",
        "\n",
        "primes = [x for x in range(2, 100) if is_prime(x)]\n",
        "print(primes)"
      ],
      "metadata": {
        "id": "U4wlPHXzmjQb"
      },
      "execution_count": null,
      "outputs": []
    },
    {
      "cell_type": "code",
      "source": [
        "# Generator for Characters in a String:\n",
        "string_chars = (char for char in \"Hello, World!\" if char.isalpha())\n",
        "print(string_chars)"
      ],
      "metadata": {
        "id": "7VfD5xOtm-nz"
      },
      "execution_count": null,
      "outputs": []
    },
    {
      "cell_type": "code",
      "source": [
        "# List Comprehension for Characters in a String:\n",
        "string_chars = [char for char in \"Hello, World!\" if char.isalpha()]\n",
        "print(string_chars)"
      ],
      "metadata": {
        "id": "0A2v2dGsnKDx"
      },
      "execution_count": null,
      "outputs": []
    },
    {
      "cell_type": "code",
      "source": [
        "words = [\"hello\", \"there\", \"world\"]\n",
        "five = (word for word in words if word in words)\n",
        "words = [\"hello\", \"ilkka\"]\n",
        "print(list(five))  # ['hello']\n",
        "# The generator five is created based on the original list [\"hello\", \"there\", \"world\"],\n",
        "# and it yields each word from this list.\n",
        "# After reassigning words to [\"hello\", \"ilkka\"],\n",
        "# the generator still references the original list but checks if each word is in the new list.\n",
        "# When converted to a list, only \"hello\" from the original list is in the new list, resulting in the output ['hello']."
      ],
      "metadata": {
        "id": "qulGKRzbrBny"
      },
      "execution_count": null,
      "outputs": []
    },
    {
      "cell_type": "code",
      "source": [
        "# The Python functions all and any can be used to check if any or\n",
        "# all elements of a sequence, produced either with a comprehension\n",
        "# or something else, have some desired property. (Note that for empty\n",
        "# sequence, all is trivially true, and any is trivially false,\n",
        "# regardless of the condition used.)\n",
        "\n",
        "g1 = (29 % n == 0 for n in range(3, 29, 2))\n",
        "g2 = (45 % n == 0 for n in range(3, 45, 2))\n",
        "print(g1)\n",
        "print(g2)\n",
        "\n",
        "l1 = [29 % n == 0 for n in range(3, 29, 2)]\n",
        "l2 = [45 % n == 0 for n in range(3, 45, 2)]\n",
        "print(l1)\n",
        "print(l2)\n",
        "\n",
        "print(f\"Is the number 29 a prime number? {not any(g1)}\")\n",
        "print(f\"Is the number 45 a prime number? {not any (g2)}\")\n",
        "# To summarize, the code creates two generator expressions to check divisibility of 29 and 45 by odd numbers in their respective ranges,\n",
        "# prints the generator objects, and then checks if 29 and 45 are prime numbers by evaluating the generators."
      ],
      "metadata": {
        "id": "nPFsMRFztNmJ"
      },
      "execution_count": null,
      "outputs": []
    },
    {
      "cell_type": "code",
      "source": [
        "\n",
        "text = \"Hello, world!\"\n",
        "s = [ud.category(x) == ud.category(' ') for x in text]\n",
        "print(f\"Does the string {text!r} contain any spaces? {any(s)}\")\n",
        "\n",
        "# An inner comprehension can be nested inside the evaluation of an outer\n",
        "# comprehension, to produce a sequence whose elements are sequences.\n",
        "\n",
        "u1 = [[x for x in range(n+1)] for n in range(10)]\n",
        "print(u1)\n",
        "\n",
        "# This technique allows us to partition a sequence into another sequence\n",
        "# of its consecutive elements, either overlapping or not.\n",
        "\n",
        "# Overlapping sequences of 3 consecutive elements by having the range\n",
        "# of n skip by default 1.\n",
        "u2 = [\" \".join([words[x] for x in range(n, n+3)]) for n in range(len(words)-2)]\n",
        "print(u2)\n",
        "\n",
        "# Non-overlapping sequences of 3 consecutive elements by having the\n",
        "# range of n skip by 3.\n",
        "u3 = [\" \".join([words[x] for x in range(n, n+3)]) for n in range(0, len(words)-2, 3)]\n",
        "print(u3)\n",
        ""
      ],
      "metadata": {
        "id": "fSI0dEvEwe25"
      },
      "execution_count": null,
      "outputs": []
    },
    {
      "cell_type": "code",
      "source": [],
      "metadata": {
        "id": "6WRVnXZyjrwJ"
      },
      "execution_count": null,
      "outputs": []
    }
  ]
}