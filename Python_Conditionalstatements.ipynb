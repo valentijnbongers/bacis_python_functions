{
  "cells": [
    {
      "cell_type": "markdown",
      "metadata": {
        "id": "view-in-github",
        "colab_type": "text"
      },
      "source": [
        "<a href=\"https://colab.research.google.com/github/valentijnbongers/bacis_python_functions/blob/main/Python_Conditionalstatements.ipynb\" target=\"_parent\"><img src=\"https://colab.research.google.com/assets/colab-badge.svg\" alt=\"Open In Colab\"/></a>"
      ]
    },
    {
      "cell_type": "markdown",
      "metadata": {
        "id": "bIpxHU3r6Pxc"
      },
      "source": [
        "#### Conditional Statements (if, elif, else)\n",
        "Video Outline:\n",
        "1. Introduction to Conditional Statements\n",
        "2. if Statement\n",
        "3. else Statement\n",
        "4. elif Statement\n",
        "5. Nested Conditional Statements\n",
        "6. Practical Examples\n",
        "7. Common Errors and Best Practices"
      ]
    },
    {
      "cell_type": "code",
      "execution_count": 1,
      "metadata": {
        "colab": {
          "base_uri": "https://localhost:8080/"
        },
        "id": "YjpO_b606Pxg",
        "outputId": "43f6f098-8762-4995-b25e-9ace1ff97676"
      },
      "outputs": [
        {
          "output_type": "stream",
          "name": "stdout",
          "text": [
            "You are allowed to vote in the elections\n"
          ]
        }
      ],
      "source": [
        "## if statement\n",
        "age=20\n",
        "\n",
        "if age>=18:\n",
        "    print(\"You are allowed to vote in the elections\")"
      ]
    },
    {
      "cell_type": "code",
      "execution_count": 2,
      "metadata": {
        "colab": {
          "base_uri": "https://localhost:8080/"
        },
        "id": "7EoJIEaq6Pxi",
        "outputId": "a1329bfa-0bc3-4288-fbb2-5d54e92e4d29"
      },
      "outputs": [
        {
          "output_type": "execute_result",
          "data": {
            "text/plain": [
              "True"
            ]
          },
          "metadata": {},
          "execution_count": 2
        }
      ],
      "source": [
        "age>=18"
      ]
    },
    {
      "cell_type": "code",
      "execution_count": 3,
      "metadata": {
        "colab": {
          "base_uri": "https://localhost:8080/"
        },
        "id": "GiarYrV-6Pxi",
        "outputId": "5a9999e7-b3a6-40a8-9fb0-699ca9d2d707"
      },
      "outputs": [
        {
          "output_type": "stream",
          "name": "stdout",
          "text": [
            "You are a minor\n"
          ]
        }
      ],
      "source": [
        "## else\n",
        "## The else statement executes a block of code if the condition in the if statement is False.\n",
        "\n",
        "age=16\n",
        "\n",
        "if age>=18:\n",
        "    print(\"You are eligible for voting\")\n",
        "else:\n",
        "    print(\"You are a minor\")"
      ]
    },
    {
      "cell_type": "code",
      "execution_count": 4,
      "metadata": {
        "colab": {
          "base_uri": "https://localhost:8080/"
        },
        "id": "PcRcSCR-6Pxj",
        "outputId": "64dff4c1-4ac8-4613-b31b-69491ae98f81"
      },
      "outputs": [
        {
          "output_type": "stream",
          "name": "stdout",
          "text": [
            "You are a teenager\n"
          ]
        }
      ],
      "source": [
        "## elif\n",
        "## The elif statement allows you to check multiple conditions. It stands for \"else if\"\n",
        "\n",
        "age=17\n",
        "\n",
        "if age<13:\n",
        "    print(\"You are a child\")\n",
        "elif age<18:\n",
        "    print(\"You are a teenager\")\n",
        "else:\n",
        "    print(\"You are an adult\")"
      ]
    },
    {
      "cell_type": "code",
      "execution_count": 5,
      "metadata": {
        "colab": {
          "base_uri": "https://localhost:8080/"
        },
        "id": "uAlKlFNM6Pxj",
        "outputId": "29d9ada2-f996-448e-fcc4-e4f8b8bd1c73"
      },
      "outputs": [
        {
          "output_type": "stream",
          "name": "stdout",
          "text": [
            "Enter the number17\n",
            "The number is positive\n",
            "The number is odd\n"
          ]
        }
      ],
      "source": [
        "## Nested Condiitonal Statements\n",
        "\n",
        "# You can place one or more if, elif, or else statements inside another if, elif, or else statement to create nested conditional statements.\n",
        "\n",
        "## number even ,odd,negative\n",
        "\n",
        "num=int(input(\"Enter the number\"))\n",
        "\n",
        "if num>0:\n",
        "    print(\"The number is positive\")\n",
        "    if num%2==0:\n",
        "        print(\"The number is even\")\n",
        "    else:\n",
        "        print(\"The number is odd\")\n",
        "\n",
        "else:\n",
        "    print(\"The number is zero or negative\")"
      ]
    },
    {
      "cell_type": "code",
      "execution_count": 6,
      "metadata": {
        "colab": {
          "base_uri": "https://localhost:8080/"
        },
        "id": "KJNg78Jj6Pxk",
        "outputId": "5b041ba5-110d-49f1-fc44-d30b5805339d"
      },
      "outputs": [
        {
          "output_type": "stream",
          "name": "stdout",
          "text": [
            "Enter the year2024\n",
            "2024 is a leap year\n"
          ]
        }
      ],
      "source": [
        "## Practical Examples\n",
        "\n",
        "## Determine if a year is a leap year using nested condition statement\n",
        "\n",
        "year=int(input(\"Enter the year\"))\n",
        "\n",
        "if year%4==0:\n",
        "    if year%100==0:\n",
        "        if year%400==0:\n",
        "            print(year,\"is a leap year\")\n",
        "        else:\n",
        "            print(year,\"is not a leap year\")\n",
        "    else:\n",
        "        print(year,\"is a leap year\")\n",
        "\n",
        "else:\n",
        "    print(year,\"is not a leap year\")"
      ]
    },
    {
      "cell_type": "code",
      "execution_count": 7,
      "metadata": {
        "colab": {
          "base_uri": "https://localhost:8080/"
        },
        "id": "QcND9FA_6Pxk",
        "outputId": "347e7b3c-376c-4339-c7ad-4dc63e20e517"
      },
      "outputs": [
        {
          "output_type": "stream",
          "name": "stdout",
          "text": [
            "Enter first number: 4\n",
            "Enter second number: 5\n",
            "Enter operation (+, -, *, /): *\n",
            "Result: 20.0\n"
          ]
        }
      ],
      "source": [
        "## Assignment\n",
        "## Simple Calculator program\n",
        "# Take user input\n",
        "num1 = float(input(\"Enter first number: \"))\n",
        "num2 = float(input(\"Enter second number: \"))\n",
        "operation = input(\"Enter operation (+, -, *, /): \")\n",
        "\n",
        "# Perform the requested operation\n",
        "if operation == '+':\n",
        "    result = num1 + num2\n",
        "elif operation == '-':\n",
        "    result = num1 - num2\n",
        "elif operation == '*':\n",
        "    result = num1 * num2\n",
        "elif operation == '/':\n",
        "    if num2 != 0:\n",
        "        result = num1 / num2\n",
        "    else:\n",
        "        result = \"Error! Division by zero.\"\n",
        "else:\n",
        "    result = \"Invalid operation.\"\n",
        "\n",
        "print(\"Result:\", result)"
      ]
    },
    {
      "cell_type": "code",
      "execution_count": 8,
      "metadata": {
        "colab": {
          "base_uri": "https://localhost:8080/"
        },
        "id": "_ZIPybzl6Pxl",
        "outputId": "bf0d09c5-fcba-4de3-f732-f2a2f2206c7f"
      },
      "outputs": [
        {
          "output_type": "stream",
          "name": "stdout",
          "text": [
            "Enter your age: 17\n",
            "Are you a student? (yes/no): yes\n",
            "Ticket Price: $12\n"
          ]
        }
      ],
      "source": [
        "### Determine the ticket price based on age and whether the person is a student.\n",
        "# Ticket pricing based on age and student status\n",
        "\n",
        "# Take user input\n",
        "age = int(input(\"Enter your age: \"))\n",
        "is_student = input(\"Are you a student? (yes/no): \").lower()\n",
        "\n",
        "# Determine ticket price\n",
        "if age < 5:\n",
        "    price = \"Free\"\n",
        "elif age <= 12:\n",
        "    price = \"$10\"\n",
        "elif age <= 17:\n",
        "    if is_student == 'yes':\n",
        "        price = \"$12\"\n",
        "    else:\n",
        "        price = \"$15\"\n",
        "elif age <= 64:\n",
        "    if is_student == 'yes':\n",
        "        price = \"$18\"\n",
        "    else:\n",
        "        price = \"$25\"\n",
        "else:\n",
        "    price = \"$20\"\n",
        "\n",
        "print(\"Ticket Price:\", price)"
      ]
    },
    {
      "cell_type": "markdown",
      "metadata": {
        "id": "FDIohb9r6Pxl"
      },
      "source": [
        "#### Complex Example 3: Employee Bonus Calculation\n",
        "\n",
        "Calculate an employee's bonus based on their performance rating and years of service."
      ]
    },
    {
      "cell_type": "code",
      "execution_count": 9,
      "metadata": {
        "colab": {
          "base_uri": "https://localhost:8080/"
        },
        "id": "A1WWH4eV6Pxl",
        "outputId": "c2e9c626-6933-4c43-feee-52a50345acd2"
      },
      "outputs": [
        {
          "output_type": "stream",
          "name": "stdout",
          "text": [
            "Enter years of service: 13\n",
            "Enter performance rating (1.0 to 5.0): 5\n",
            "Enter current salary: 100\n",
            "Bonus Amount: $20.00\n"
          ]
        }
      ],
      "source": [
        "# Employee bonus calculation\n",
        "\n",
        "# Take user input\n",
        "years_of_service = int(input(\"Enter years of service: \"))\n",
        "performance_rating = float(input(\"Enter performance rating (1.0 to 5.0): \"))\n",
        "\n",
        "# Determine bonus percentage\n",
        "if performance_rating >= 4.5:\n",
        "    if years_of_service > 10:\n",
        "        bonus_percentage = 20\n",
        "    elif years_of_service > 5:\n",
        "        bonus_percentage = 15\n",
        "    else:\n",
        "        bonus_percentage = 10\n",
        "elif performance_rating >= 3.5:\n",
        "    if years_of_service > 10:\n",
        "        bonus_percentage = 15\n",
        "    elif years_of_service > 5:\n",
        "        bonus_percentage = 10\n",
        "    else:\n",
        "        bonus_percentage = 5\n",
        "else:\n",
        "    bonus_percentage = 0\n",
        "\n",
        "# Calculate bonus amount\n",
        "salary = float(input(\"Enter current salary: \"))\n",
        "bonus_amount = salary * bonus_percentage / 100\n",
        "\n",
        "print(\"Bonus Amount: ${:.2f}\".format(bonus_amount))"
      ]
    },
    {
      "cell_type": "markdown",
      "metadata": {
        "id": "LGZaDcMp6Pxl"
      },
      "source": [
        "## Complex Example 4: User Login System\n",
        "A simple user login system that checks the username and password."
      ]
    },
    {
      "cell_type": "code",
      "execution_count": 10,
      "metadata": {
        "colab": {
          "base_uri": "https://localhost:8080/"
        },
        "id": "sZd4Spfg6Pxl",
        "outputId": "11878966-00d5-4640-c9d5-95ae4aaa21cc"
      },
      "outputs": [
        {
          "output_type": "stream",
          "name": "stdout",
          "text": [
            "Enter username: admin\n",
            "Enter password: password123\n",
            "Login successful!\n"
          ]
        }
      ],
      "source": [
        "# User login system\n",
        "\n",
        "# Predefined username and password\n",
        "stored_username = \"admin\"\n",
        "stored_password = \"password123\"\n",
        "\n",
        "# Take user input\n",
        "username = input(\"Enter username: \")\n",
        "password = input(\"Enter password: \")\n",
        "\n",
        "# Check login credentials\n",
        "if username == stored_username:\n",
        "    if password == stored_password:\n",
        "        print(\"Login successful!\")\n",
        "    else:\n",
        "        print(\"Incorrect password.\")\n",
        "else:\n",
        "    print(\"Username not found.\")"
      ]
    },
    {
      "cell_type": "code",
      "execution_count": null,
      "metadata": {
        "id": "0lVtI-KS6Pxm"
      },
      "outputs": [],
      "source": []
    }
  ],
  "metadata": {
    "kernelspec": {
      "display_name": "Python 3",
      "language": "python",
      "name": "python3"
    },
    "language_info": {
      "codemirror_mode": {
        "name": "ipython",
        "version": 3
      },
      "file_extension": ".py",
      "mimetype": "text/x-python",
      "name": "python",
      "nbconvert_exporter": "python",
      "pygments_lexer": "ipython3",
      "version": "3.12.0"
    },
    "colab": {
      "provenance": [],
      "include_colab_link": true
    }
  },
  "nbformat": 4,
  "nbformat_minor": 0
}