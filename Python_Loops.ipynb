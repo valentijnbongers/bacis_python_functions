{
  "cells": [
    {
      "cell_type": "markdown",
      "metadata": {
        "id": "view-in-github",
        "colab_type": "text"
      },
      "source": [
        "<a href=\"https://colab.research.google.com/github/valentijnbongers/bacis_python_functions/blob/main/Python_Loops.ipynb\" target=\"_parent\"><img src=\"https://colab.research.google.com/assets/colab-badge.svg\" alt=\"Open In Colab\"/></a>"
      ]
    },
    {
      "cell_type": "markdown",
      "metadata": {
        "id": "olP0QqWl5PTL"
      },
      "source": [
        "#### Loops\n",
        "Video Outline:\n",
        "1. Introduction to Loops\n",
        "2. for Loop\n",
        "   - Iterating over a range\n",
        "   - Iterating over a string\n",
        "\n",
        "3. while Loop\n",
        "4. Loop Control Statements\n",
        "    - break\n",
        "    - continue\n",
        "    - pass\n",
        "5. Nested Loops\n",
        "6. Practical Examples and Common Errors"
      ]
    },
    {
      "cell_type": "code",
      "execution_count": 1,
      "metadata": {
        "colab": {
          "base_uri": "https://localhost:8080/"
        },
        "id": "I6LTw7GT5PTO",
        "outputId": "6d4afc90-aa3f-48de-bc75-12ad3ef38efa"
      },
      "outputs": [
        {
          "output_type": "execute_result",
          "data": {
            "text/plain": [
              "range(0, 5)"
            ]
          },
          "metadata": {},
          "execution_count": 1
        }
      ],
      "source": [
        "range(5)"
      ]
    },
    {
      "cell_type": "code",
      "execution_count": 2,
      "metadata": {
        "colab": {
          "base_uri": "https://localhost:8080/"
        },
        "id": "iNZG8lvQ5PTQ",
        "outputId": "a5e48117-b4d3-4d33-dab1-43e6275e558c"
      },
      "outputs": [
        {
          "output_type": "stream",
          "name": "stdout",
          "text": [
            "0\n",
            "1\n",
            "2\n",
            "3\n",
            "4\n"
          ]
        }
      ],
      "source": [
        "## for loop\n",
        "\n",
        "for i in range(5):\n",
        "    print(i)"
      ]
    },
    {
      "cell_type": "code",
      "execution_count": 3,
      "metadata": {
        "colab": {
          "base_uri": "https://localhost:8080/"
        },
        "id": "gtxOGADN5PTQ",
        "outputId": "6f84cb74-0781-4ef9-fad4-de4374f3545b"
      },
      "outputs": [
        {
          "output_type": "stream",
          "name": "stdout",
          "text": [
            "1\n",
            "2\n",
            "3\n",
            "4\n",
            "5\n"
          ]
        }
      ],
      "source": [
        "for i in range(1,6):\n",
        "    print(i)"
      ]
    },
    {
      "cell_type": "code",
      "execution_count": 4,
      "metadata": {
        "colab": {
          "base_uri": "https://localhost:8080/"
        },
        "id": "VRlC-Hgh5PTR",
        "outputId": "2a927283-b52e-4d33-861e-47ea4ebd3db8"
      },
      "outputs": [
        {
          "output_type": "stream",
          "name": "stdout",
          "text": [
            "1\n",
            "3\n",
            "5\n",
            "7\n",
            "9\n"
          ]
        }
      ],
      "source": [
        "for i in range(1,10,2):\n",
        "    print(i)"
      ]
    },
    {
      "cell_type": "code",
      "execution_count": 5,
      "metadata": {
        "colab": {
          "base_uri": "https://localhost:8080/"
        },
        "id": "N_MMXTjt5PTR",
        "outputId": "16f8c15e-e03a-40d3-c350-6dc398ebe3ee"
      },
      "outputs": [
        {
          "output_type": "stream",
          "name": "stdout",
          "text": [
            "10\n",
            "9\n",
            "8\n",
            "7\n",
            "6\n",
            "5\n",
            "4\n",
            "3\n",
            "2\n"
          ]
        }
      ],
      "source": [
        "for i in range(10,1,-1):\n",
        "    print(i)"
      ]
    },
    {
      "cell_type": "code",
      "execution_count": 6,
      "metadata": {
        "colab": {
          "base_uri": "https://localhost:8080/"
        },
        "id": "eBJNWUT55PTS",
        "outputId": "450722b0-dcf9-4b88-fc27-d05da1d1d632"
      },
      "outputs": [
        {
          "output_type": "stream",
          "name": "stdout",
          "text": [
            "10\n",
            "8\n",
            "6\n",
            "4\n",
            "2\n"
          ]
        }
      ],
      "source": [
        "for i in range(10,1,-2):\n",
        "    print(i)"
      ]
    },
    {
      "cell_type": "code",
      "execution_count": 7,
      "metadata": {
        "colab": {
          "base_uri": "https://localhost:8080/"
        },
        "id": "QHQzfc595PTS",
        "outputId": "95d78683-2831-4373-dfa2-6479638c1059"
      },
      "outputs": [
        {
          "output_type": "stream",
          "name": "stdout",
          "text": [
            "V\n",
            "a\n",
            "l\n",
            "e\n",
            "n\n",
            "t\n",
            "i\n",
            "j\n",
            "n\n",
            " \n",
            "B\n",
            "o\n",
            "n\n",
            "g\n",
            "e\n",
            "r\n",
            "s\n"
          ]
        }
      ],
      "source": [
        "## strings\n",
        "\n",
        "str=\"Valentijn Bongers\"\n",
        "\n",
        "for i in str:\n",
        "    print(i)"
      ]
    },
    {
      "cell_type": "code",
      "execution_count": 8,
      "metadata": {
        "colab": {
          "base_uri": "https://localhost:8080/"
        },
        "id": "7IAJ5jbh5PTT",
        "outputId": "85de9553-f170-48a0-85b1-b37c1e1619a8"
      },
      "outputs": [
        {
          "output_type": "stream",
          "name": "stdout",
          "text": [
            "0\n",
            "1\n",
            "2\n",
            "3\n",
            "4\n"
          ]
        }
      ],
      "source": [
        "## while loop\n",
        "\n",
        "## The while loop continues to execute as long as the condition is True.\n",
        "\n",
        "count=0\n",
        "\n",
        "while count<5:\n",
        "    print(count)\n",
        "    count=count+1"
      ]
    },
    {
      "cell_type": "code",
      "execution_count": 9,
      "metadata": {
        "colab": {
          "base_uri": "https://localhost:8080/"
        },
        "id": "fqzCPKKk5PTT",
        "outputId": "d24271c3-7c2a-4503-fbf2-178fa01e115a"
      },
      "outputs": [
        {
          "output_type": "stream",
          "name": "stdout",
          "text": [
            "0\n",
            "1\n",
            "2\n",
            "3\n",
            "4\n"
          ]
        }
      ],
      "source": [
        "## Loop Control Statements\n",
        "\n",
        "## break\n",
        "## The break statement exits the loop permaturely\n",
        "\n",
        "## break sstatement\n",
        "\n",
        "for i in range(10):\n",
        "    if i==5:\n",
        "        break\n",
        "    print(i)"
      ]
    },
    {
      "cell_type": "code",
      "execution_count": 10,
      "metadata": {
        "colab": {
          "base_uri": "https://localhost:8080/"
        },
        "id": "4YKUUWIs5PTT",
        "outputId": "955b6835-c480-491d-8c0c-64b8ab8d7841"
      },
      "outputs": [
        {
          "output_type": "stream",
          "name": "stdout",
          "text": [
            "1\n",
            "3\n",
            "5\n",
            "7\n",
            "9\n"
          ]
        }
      ],
      "source": [
        "## continue\n",
        "\n",
        "## The continue statement skips the current iteration and continues with the next.\n",
        "\n",
        "for i in range(10):\n",
        "    if i%2==0:\n",
        "        continue\n",
        "    print(i)"
      ]
    },
    {
      "cell_type": "code",
      "execution_count": 11,
      "metadata": {
        "colab": {
          "base_uri": "https://localhost:8080/"
        },
        "id": "DeK944q-5PTU",
        "outputId": "c4a40f4a-cf17-4d7e-df17-cd7e87c12bbb"
      },
      "outputs": [
        {
          "output_type": "stream",
          "name": "stdout",
          "text": [
            "0\n",
            "1\n",
            "2\n",
            "3\n",
            "4\n"
          ]
        }
      ],
      "source": [
        "## pass\n",
        "## The pass statement is a null operation; it does nothing.\n",
        "\n",
        "for i in range(5):\n",
        "    if i==3:\n",
        "        pass\n",
        "    print(i)"
      ]
    },
    {
      "cell_type": "code",
      "execution_count": 12,
      "metadata": {
        "colab": {
          "base_uri": "https://localhost:8080/"
        },
        "id": "k4J-Szvl5PTU",
        "outputId": "4b158d45-da63-4979-9bfe-a802f932df10"
      },
      "outputs": [
        {
          "output_type": "stream",
          "name": "stdout",
          "text": [
            "i:0 and j:0\n",
            "i:0 and j:1\n",
            "i:1 and j:0\n",
            "i:1 and j:1\n",
            "i:2 and j:0\n",
            "i:2 and j:1\n"
          ]
        }
      ],
      "source": [
        "## Nested loopss\n",
        "## a loop inside a loop\n",
        "\n",
        "for i in range(3):\n",
        "    for j in range(2):\n",
        "        print(f\"i:{i} and j:{j}\")"
      ]
    },
    {
      "cell_type": "code",
      "execution_count": 13,
      "metadata": {
        "colab": {
          "base_uri": "https://localhost:8080/"
        },
        "id": "OJ5gIi2g5PTU",
        "outputId": "ecb2a145-94ab-4855-cf87-a7ead7a02645"
      },
      "outputs": [
        {
          "output_type": "stream",
          "name": "stdout",
          "text": [
            "Sum of first 10 natural number: 55\n"
          ]
        }
      ],
      "source": [
        "## Examples- Calculate the sum of first N natural numbers using a while and for loop\n",
        "\n",
        "## while loop\n",
        "\n",
        "n=10\n",
        "sum=0\n",
        "count=1\n",
        "\n",
        "while count<=n:\n",
        "    sum=sum+count\n",
        "    count=count+1\n",
        "\n",
        "print(\"Sum of first 10 natural number:\",sum)"
      ]
    },
    {
      "cell_type": "code",
      "execution_count": 14,
      "metadata": {
        "colab": {
          "base_uri": "https://localhost:8080/"
        },
        "id": "5SrXRhbS5PTU",
        "outputId": "ffba2802-59b6-455b-9ad7-3bd92d72fb31"
      },
      "outputs": [
        {
          "output_type": "stream",
          "name": "stdout",
          "text": [
            "55\n"
          ]
        }
      ],
      "source": [
        "n=10\n",
        "sum=0\n",
        "for i in range(11):\n",
        "    sum=sum+i\n",
        "\n",
        "print(sum)"
      ]
    },
    {
      "cell_type": "code",
      "execution_count": 15,
      "metadata": {
        "colab": {
          "base_uri": "https://localhost:8080/"
        },
        "id": "CZRJiT2T5PTU",
        "outputId": "2ef5884d-0b93-4d78-9c8b-d13c0be086fe"
      },
      "outputs": [
        {
          "output_type": "stream",
          "name": "stdout",
          "text": [
            "2\n",
            "3\n",
            "5\n",
            "7\n",
            "11\n",
            "13\n",
            "17\n",
            "19\n",
            "23\n",
            "29\n",
            "31\n",
            "37\n",
            "41\n",
            "43\n",
            "47\n",
            "53\n",
            "59\n",
            "61\n",
            "67\n",
            "71\n",
            "73\n",
            "79\n",
            "83\n",
            "89\n",
            "97\n"
          ]
        }
      ],
      "source": [
        "## Example- Prime numbers between 1 and 100\n",
        "\n",
        "for num in range(1,101):\n",
        "    if num>1:\n",
        "        for i in range(2,num):\n",
        "            if num%i==0:\n",
        "                break\n",
        "        else:\n",
        "            print(num)"
      ]
    },
    {
      "cell_type": "markdown",
      "metadata": {
        "id": "uKJSBA7q5PTV"
      },
      "source": [
        "#### Conclusion:\n",
        "Loops are powerful constructs in Python that allow you to execute a block of code multiple times. By understanding and using for and while loops, along with loop control statements like break, continue, and pass, you can handle a wide range of programming tasks efficiently."
      ]
    },
    {
      "cell_type": "code",
      "execution_count": null,
      "metadata": {
        "id": "sOhm9idT5PTV"
      },
      "outputs": [],
      "source": []
    }
  ],
  "metadata": {
    "kernelspec": {
      "display_name": "Python 3",
      "language": "python",
      "name": "python3"
    },
    "language_info": {
      "codemirror_mode": {
        "name": "ipython",
        "version": 3
      },
      "file_extension": ".py",
      "mimetype": "text/x-python",
      "name": "python",
      "nbconvert_exporter": "python",
      "pygments_lexer": "ipython3",
      "version": "3.12.0"
    },
    "colab": {
      "provenance": [],
      "include_colab_link": true
    }
  },
  "nbformat": 4,
  "nbformat_minor": 0
}