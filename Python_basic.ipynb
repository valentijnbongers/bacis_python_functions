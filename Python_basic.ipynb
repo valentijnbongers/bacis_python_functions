{
  "cells": [
    {
      "cell_type": "markdown",
      "metadata": {
        "id": "view-in-github",
        "colab_type": "text"
      },
      "source": [
        "<a href=\"https://colab.research.google.com/github/valentijnbongers/bacis_python_functions/blob/main/Python_basic.ipynb\" target=\"_parent\"><img src=\"https://colab.research.google.com/assets/colab-badge.svg\" alt=\"Open In Colab\"/></a>"
      ]
    },
    {
      "cell_type": "markdown",
      "metadata": {
        "id": "cdhL1wwY3gh6"
      },
      "source": [
        "### Syntax and Semantics in Python\n",
        "Video Outline:\n",
        "- Single line Comments and multiline comments\n",
        "- Definition of Syntax and Semantics\n",
        "- Basic Syntax Rules in Python\n",
        "- Understanding Semantics in Python\n",
        "- Common Syntax Errors and How to Avoid Them\n",
        "- Practical Code Examples"
      ]
    },
    {
      "cell_type": "markdown",
      "metadata": {
        "id": "a2vP-79k3gh9"
      },
      "source": [
        "Syntax refers to the set of rules that defines the combinations of symbols that are considered to be correctly structured programs in a language. In simpler terms, syntax is about the correct arrangement of words and symbols in a code.\n",
        "\n",
        "Semantics refers to the meaning or the interpretation of the symbols, characters, and commands in a language. It is about what the code is supposed to do when it runs."
      ]
    },
    {
      "cell_type": "code",
      "execution_count": 1,
      "metadata": {
        "colab": {
          "base_uri": "https://localhost:8080/"
        },
        "id": "0_dQLS2M3gh9",
        "outputId": "b8b2ef4d-bfbc-44e6-db5a-ee599407dd74"
      },
      "outputs": [
        {
          "output_type": "stream",
          "name": "stdout",
          "text": [
            "Valentijn\n",
            "Bongers\n"
          ]
        }
      ],
      "source": [
        "## Basic Syntax Rules In Python\n",
        "## Case sensitivity- Python is case sensitive\n",
        "\n",
        "name=\"Valentijn\"\n",
        "Name=\"Bongers\"\n",
        "\n",
        "print(name)\n",
        "print(Name)\n"
      ]
    },
    {
      "cell_type": "markdown",
      "metadata": {
        "id": "wC5lx5DX3gh_"
      },
      "source": [
        "### Indentation\n",
        "Indentation in Python is used to define the structure and hierarchy of the code. Unlike many other programming languages that use braces {} to delimit blocks of code, Python uses indentation to determine the grouping of statements. This means that all the statements within a block must be indented at the same level."
      ]
    },
    {
      "cell_type": "code",
      "execution_count": 2,
      "metadata": {
        "colab": {
          "base_uri": "https://localhost:8080/"
        },
        "id": "1i9J4d4l3gh_",
        "outputId": "ef63a97e-0d0d-4686-daa7-e1a73ca7b857"
      },
      "outputs": [
        {
          "output_type": "stream",
          "name": "stdout",
          "text": [
            "32\n",
            "32\n"
          ]
        }
      ],
      "source": [
        "## Indentation\n",
        "## Python uses indentation to define blocks of code. Consistent use of spaces (commonly 4) or a tab is required.\n",
        "\n",
        "age=32\n",
        "if age>30:\n",
        "\n",
        "    print(age)\n",
        "\n",
        "print(age)\n"
      ]
    },
    {
      "cell_type": "code",
      "execution_count": 3,
      "metadata": {
        "colab": {
          "base_uri": "https://localhost:8080/"
        },
        "id": "V-PUuhRZ3gh_",
        "outputId": "7d846678-cf40-4fa7-9b40-961f4ff3dbf1"
      },
      "outputs": [
        {
          "output_type": "stream",
          "name": "stdout",
          "text": [
            "Hello World\n"
          ]
        }
      ],
      "source": [
        "## This is a single line comment\n",
        "print(\"Hello World\")"
      ]
    },
    {
      "cell_type": "code",
      "execution_count": 4,
      "metadata": {
        "colab": {
          "base_uri": "https://localhost:8080/"
        },
        "id": "zID1Ey803giA",
        "outputId": "e10277f4-6272-46ac-a6ae-99ba7d27ad9b"
      },
      "outputs": [
        {
          "output_type": "stream",
          "name": "stdout",
          "text": [
            "43\n"
          ]
        }
      ],
      "source": [
        "## Line Continuation\n",
        "##Use a backslash (\\) to continue a statement to the next line\n",
        "\n",
        "total=1+2+3+4+5+6+7+\\\n",
        "4+5+6\n",
        "\n",
        "print(total)\n"
      ]
    },
    {
      "cell_type": "code",
      "execution_count": 5,
      "metadata": {
        "colab": {
          "base_uri": "https://localhost:8080/"
        },
        "id": "3lHuGrIw3giA",
        "outputId": "f70af9df-fa70-4bc7-d774-0fa7d2946aa1"
      },
      "outputs": [
        {
          "output_type": "stream",
          "name": "stdout",
          "text": [
            "15\n"
          ]
        }
      ],
      "source": [
        "## Multiple Statements on a single line\n",
        "x=5;y=10;z=x+y\n",
        "print(z)"
      ]
    },
    {
      "cell_type": "code",
      "execution_count": 6,
      "metadata": {
        "id": "ccHNU0TZ3giA"
      },
      "outputs": [],
      "source": [
        "##Understand  Semnatics In Python\n",
        "# variable assignment\n",
        "age=32 ##age is an integer\n",
        "name=\"Valentijn\" ##name is a string"
      ]
    },
    {
      "cell_type": "code",
      "execution_count": 7,
      "metadata": {
        "colab": {
          "base_uri": "https://localhost:8080/"
        },
        "id": "0B-MVEfr3giB",
        "outputId": "0c2c9fc9-90ca-45ac-d154-06a79711ff4e"
      },
      "outputs": [
        {
          "output_type": "execute_result",
          "data": {
            "text/plain": [
              "int"
            ]
          },
          "metadata": {},
          "execution_count": 7
        }
      ],
      "source": [
        "type(age)"
      ]
    },
    {
      "cell_type": "code",
      "execution_count": 8,
      "metadata": {
        "colab": {
          "base_uri": "https://localhost:8080/"
        },
        "id": "J1_Uk62s3giB",
        "outputId": "92252230-6fdc-4450-b588-b5d502c268f7"
      },
      "outputs": [
        {
          "output_type": "execute_result",
          "data": {
            "text/plain": [
              "str"
            ]
          },
          "metadata": {},
          "execution_count": 8
        }
      ],
      "source": [
        "type(name)"
      ]
    },
    {
      "cell_type": "code",
      "execution_count": 9,
      "metadata": {
        "colab": {
          "base_uri": "https://localhost:8080/"
        },
        "id": "Qnbsu8LX3giB",
        "outputId": "0cf0c0ae-b8d2-46c3-d467-1a3f6460ab31"
      },
      "outputs": [
        {
          "output_type": "stream",
          "name": "stdout",
          "text": [
            "<class 'int'>\n",
            "<class 'str'>\n"
          ]
        }
      ],
      "source": [
        "## Type Inference\n",
        "variable=10\n",
        "print(type(variable))\n",
        "variable=\"Valentijn\"\n",
        "print(type(variable))"
      ]
    },
    {
      "cell_type": "code",
      "execution_count": 10,
      "metadata": {
        "colab": {
          "base_uri": "https://localhost:8080/"
        },
        "id": "BIB7S0833giB",
        "outputId": "f8073d3e-d6c4-4e14-f2de-4cc362644a2a"
      },
      "outputs": [
        {
          "output_type": "stream",
          "name": "stdout",
          "text": [
            "32\n"
          ]
        }
      ],
      "source": [
        "age=32\n",
        "if age>30:\n",
        "    print(age)"
      ]
    },
    {
      "cell_type": "code",
      "execution_count": 11,
      "metadata": {
        "colab": {
          "base_uri": "https://localhost:8080/",
          "height": 158
        },
        "id": "ldR4anyp3giB",
        "outputId": "d3c1dd64-b028-4d05-9109-cea6f5c70ea0"
      },
      "outputs": [
        {
          "output_type": "error",
          "ename": "NameError",
          "evalue": "name 'b' is not defined",
          "traceback": [
            "\u001b[0;31m---------------------------------------------------------------------------\u001b[0m",
            "\u001b[0;31mNameError\u001b[0m                                 Traceback (most recent call last)",
            "\u001b[0;32m<ipython-input-11-ee3684fc6642>\u001b[0m in \u001b[0;36m<cell line: 2>\u001b[0;34m()\u001b[0m\n\u001b[1;32m      1\u001b[0m \u001b[0;31m## Name Error\u001b[0m\u001b[0;34m\u001b[0m\u001b[0;34m\u001b[0m\u001b[0m\n\u001b[0;32m----> 2\u001b[0;31m \u001b[0ma\u001b[0m\u001b[0;34m=\u001b[0m\u001b[0mb\u001b[0m\u001b[0;34m\u001b[0m\u001b[0;34m\u001b[0m\u001b[0m\n\u001b[0m",
            "\u001b[0;31mNameError\u001b[0m: name 'b' is not defined"
          ]
        }
      ],
      "source": [
        "## Name Error\n",
        "a=b"
      ]
    },
    {
      "cell_type": "code",
      "execution_count": 12,
      "metadata": {
        "colab": {
          "base_uri": "https://localhost:8080/"
        },
        "id": "18k2ETGt3giC",
        "outputId": "e7482910-c276-4999-8acb-34f1f8f53920"
      },
      "outputs": [
        {
          "output_type": "stream",
          "name": "stdout",
          "text": [
            "Correct Indentation\n",
            "This will print\n",
            "Outside the if block\n"
          ]
        }
      ],
      "source": [
        "## Code exmaples of indentation\n",
        "if True:\n",
        "    print(\"Correct Indentation\")\n",
        "    if False:\n",
        "        print(\"This ont print\")\n",
        "    print(\"This will print\")\n",
        "print(\"Outside the if block\")"
      ]
    },
    {
      "cell_type": "markdown",
      "metadata": {
        "id": "XCWJllzV3giC"
      },
      "source": [
        "### Conclusion:\n",
        "Understanding the syntax and semantics of Python is crucial for writing correct and meaningful programs. Syntax ensures the code is properly structured, while semantics ensures the code behaves as expected. Mastering these concepts will help in writing efficient and error-free Python code."
      ]
    },
    {
      "cell_type": "markdown",
      "metadata": {
        "id": "-fcA7Xc-3giC"
      },
      "source": []
    }
  ],
  "metadata": {
    "kernelspec": {
      "display_name": "Python 3",
      "language": "python",
      "name": "python3"
    },
    "language_info": {
      "codemirror_mode": {
        "name": "ipython",
        "version": 3
      },
      "file_extension": ".py",
      "mimetype": "text/x-python",
      "name": "python",
      "nbconvert_exporter": "python",
      "pygments_lexer": "ipython3",
      "version": "3.12.0"
    },
    "colab": {
      "provenance": [],
      "include_colab_link": true
    }
  },
  "nbformat": 4,
  "nbformat_minor": 0
}