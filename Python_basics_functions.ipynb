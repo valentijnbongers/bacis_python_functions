{
  "cells": [
    {
      "cell_type": "markdown",
      "metadata": {
        "id": "view-in-github",
        "colab_type": "text"
      },
      "source": [
        "<a href=\"https://colab.research.google.com/github/valentijnbongers/bacis_python_functions/blob/main/Python_basics_functions.ipynb\" target=\"_parent\"><img src=\"https://colab.research.google.com/assets/colab-badge.svg\" alt=\"Open In Colab\"/></a>"
      ]
    },
    {
      "cell_type": "markdown",
      "metadata": {
        "id": "PdqR2Ly0J3bL"
      },
      "source": [
        "#### Functions in Python\n",
        "Video Outline:\n",
        "1. Introduction to Functions\n",
        "2. Defining Functions\n",
        "3. Calling Functions\n",
        "4. Function Parameters\n",
        "5. Default Parameters\n",
        "6. Variable-Length Arguments\n",
        "7. Return Statement"
      ]
    },
    {
      "cell_type": "markdown",
      "metadata": {
        "id": "fzmvUr-zJ3bO"
      },
      "source": [
        "##### Introduction to Functions\n",
        "Definition:\n",
        "\n",
        "A function is a block of code that performs a specific task.\n",
        "Functions help in organizing code, reusing code, and improving readability.\n",
        "\n"
      ]
    },
    {
      "cell_type": "code",
      "execution_count": 2,
      "metadata": {
        "id": "LdqOOZ86J3bO"
      },
      "outputs": [],
      "source": [
        "## syntax\n",
        "def function_name(parameters):\n",
        "    \"\"\"Docstring\"\"\"\n",
        "    # Function body\n",
        "    return expression"
      ]
    },
    {
      "cell_type": "code",
      "execution_count": 3,
      "metadata": {
        "colab": {
          "base_uri": "https://localhost:8080/"
        },
        "id": "jznywAbzJ3bP",
        "outputId": "1f199970-617a-4140-8fae-0e765df2919a"
      },
      "outputs": [
        {
          "output_type": "stream",
          "name": "stdout",
          "text": [
            "the number is even\n"
          ]
        }
      ],
      "source": [
        "## why functions?\n",
        "num=24\n",
        "if num%2==0:\n",
        "    print(\"the number is even\")\n",
        "else:\n",
        "    print(\"the number is odd\")"
      ]
    },
    {
      "cell_type": "code",
      "execution_count": 4,
      "metadata": {
        "id": "daBLFe6dJ3bQ"
      },
      "outputs": [],
      "source": [
        "def even_or_odd(num):\n",
        "    \"\"\"This function finds even or odd\"\"\"\n",
        "    if num%2==0:\n",
        "        print(\"the number is even\")\n",
        "    else:\n",
        "        print(\"the number is odd\")\n"
      ]
    },
    {
      "cell_type": "code",
      "execution_count": 5,
      "metadata": {
        "colab": {
          "base_uri": "https://localhost:8080/"
        },
        "id": "dIv-U6IZJ3bQ",
        "outputId": "0b7be970-a4c6-45c3-c809-f7ac8e9a7d44"
      },
      "outputs": [
        {
          "output_type": "stream",
          "name": "stdout",
          "text": [
            "the number is even\n"
          ]
        }
      ],
      "source": [
        "## Call this function\n",
        "even_or_odd(24)"
      ]
    },
    {
      "cell_type": "code",
      "execution_count": 6,
      "metadata": {
        "colab": {
          "base_uri": "https://localhost:8080/"
        },
        "id": "JPalD8JTJ3bR",
        "outputId": "a5774b3b-d78a-4bf4-afa9-2f953ac66ea5"
      },
      "outputs": [
        {
          "output_type": "stream",
          "name": "stdout",
          "text": [
            "6\n"
          ]
        }
      ],
      "source": [
        "## function with multiple parameters\n",
        "\n",
        "def add(a,b):\n",
        "    return a+b\n",
        "\n",
        "result=add(2,4)\n",
        "print(result)\n",
        ""
      ]
    },
    {
      "cell_type": "code",
      "execution_count": 10,
      "metadata": {
        "colab": {
          "base_uri": "https://localhost:8080/"
        },
        "id": "dkgsoB6MJ3bR",
        "outputId": "3b87dd84-eaff-451e-f80c-b5ca7a3fb08a"
      },
      "outputs": [
        {
          "output_type": "stream",
          "name": "stdout",
          "text": [
            "Hello Valentijn, Welcome To the paradise\n"
          ]
        }
      ],
      "source": [
        "## Default Parameters\n",
        "\n",
        "def greet(name):\n",
        "    print(f\"Hello {name}, Welcome To the paradise\")\n",
        "\n",
        "greet(\"Valentijn\")\n"
      ]
    },
    {
      "cell_type": "code",
      "execution_count": 11,
      "metadata": {
        "colab": {
          "base_uri": "https://localhost:8080/"
        },
        "id": "7r9GcaMxJ3bR",
        "outputId": "b9d83982-e11b-4693-bec7-27095d2a131b"
      },
      "outputs": [
        {
          "output_type": "stream",
          "name": "stdout",
          "text": [
            "Hello Valentijn Welcome To the paradise\n"
          ]
        }
      ],
      "source": [
        "def greet(name=\"Guest\"):\n",
        "    print(f\"Hello {name} Welcome To the paradise\")\n",
        "\n",
        "greet(\"Valentijn\")"
      ]
    },
    {
      "cell_type": "code",
      "execution_count": 12,
      "metadata": {
        "id": "xoO7plNYJ3bS"
      },
      "outputs": [],
      "source": [
        "### Variable Length Arguments\n",
        "## Positional And Keywords arguments\n",
        "\n",
        "def print_numbers(*valentijn):\n",
        "    for number in valentijn:\n",
        "        print(number)"
      ]
    },
    {
      "cell_type": "code",
      "execution_count": 13,
      "metadata": {
        "colab": {
          "base_uri": "https://localhost:8080/"
        },
        "id": "uPCCH6_zJ3bS",
        "outputId": "509bf26c-5069-4f7e-cfc7-33d19c14af52"
      },
      "outputs": [
        {
          "output_type": "stream",
          "name": "stdout",
          "text": [
            "1\n",
            "2\n",
            "3\n",
            "4\n",
            "5\n",
            "6\n",
            "7\n",
            "8\n",
            "Valentijn\n"
          ]
        }
      ],
      "source": [
        "print_numbers(1,2,3,4,5,6,7,8,\"Valentijn\")"
      ]
    },
    {
      "cell_type": "code",
      "execution_count": null,
      "metadata": {
        "id": "5g_lgOq7J3bS"
      },
      "outputs": [],
      "source": [
        "## Positional arguments\n",
        "def print_numbers(*args):\n",
        "    for number in args:\n",
        "        print(number)"
      ]
    },
    {
      "cell_type": "code",
      "execution_count": null,
      "metadata": {
        "id": "bMnRTiCIJ3bS",
        "outputId": "89996f64-b56b-412b-be35-3bc98857724d"
      },
      "outputs": [
        {
          "name": "stdout",
          "output_type": "stream",
          "text": [
            "1\n",
            "2\n",
            "3\n",
            "4\n",
            "5\n",
            "6\n",
            "7\n",
            "8\n",
            "Krish\n"
          ]
        }
      ],
      "source": [
        "print_numbers(1,2,3,4,5,6,7,8,\"Krish\")"
      ]
    },
    {
      "cell_type": "code",
      "execution_count": null,
      "metadata": {
        "id": "4ZlGmPlmJ3bS"
      },
      "outputs": [],
      "source": [
        "### Keywords Arguments\n",
        "\n",
        "def print_details(**kwargs):\n",
        "    for key,value in kwargs.items():\n",
        "        print(f\"{key}:{value}\")"
      ]
    },
    {
      "cell_type": "code",
      "execution_count": null,
      "metadata": {
        "id": "Eo-hnjH8J3bS",
        "outputId": "7412f48f-93bf-4ca8-de15-a1b690ed3fac"
      },
      "outputs": [
        {
          "name": "stdout",
          "output_type": "stream",
          "text": [
            "name:Krish\n",
            "age:32\n",
            "country:India\n"
          ]
        }
      ],
      "source": [
        "print_details(name=\"Krish\",age=\"32\",country=\"India\")"
      ]
    },
    {
      "cell_type": "code",
      "execution_count": null,
      "metadata": {
        "id": "9xJmanlnJ3bS"
      },
      "outputs": [],
      "source": [
        "def print_details(*args,**kwargs):\n",
        "    for val in args:\n",
        "        print(f\" Positional arument :{val}\")\n",
        "\n",
        "    for key,value in kwargs.items():\n",
        "        print(f\"{key}:{value}\")"
      ]
    },
    {
      "cell_type": "code",
      "execution_count": null,
      "metadata": {
        "id": "ILoCLCeBJ3bT",
        "outputId": "4d43ecec-2ea7-486c-a019-356978b75e7b"
      },
      "outputs": [
        {
          "name": "stdout",
          "output_type": "stream",
          "text": [
            " Positional arument :1\n",
            " Positional arument :2\n",
            " Positional arument :3\n",
            " Positional arument :4\n",
            " Positional arument :Krish\n",
            "name:Krish\n",
            "age:32\n",
            "country:India\n"
          ]
        }
      ],
      "source": [
        "print_details(1,2,3,4,\"Krish\",name=\"Krish\",age=\"32\",country=\"India\")"
      ]
    },
    {
      "cell_type": "code",
      "execution_count": null,
      "metadata": {
        "id": "qL4069I4J3bT",
        "outputId": "f2578fd7-c2ac-4897-8172-1c24fbdc1fa4"
      },
      "outputs": [
        {
          "data": {
            "text/plain": [
              "6"
            ]
          },
          "execution_count": 21,
          "metadata": {},
          "output_type": "execute_result"
        }
      ],
      "source": [
        "### Return statements\n",
        "def multiply(a,b):\n",
        "    return a*b\n",
        "\n",
        "multiply(2,3)"
      ]
    },
    {
      "cell_type": "code",
      "execution_count": null,
      "metadata": {
        "id": "Qt7610nrJ3bT",
        "outputId": "d2c6e81d-fa7b-47b1-e5b8-4925665a01e7"
      },
      "outputs": [
        {
          "data": {
            "text/plain": [
              "(6, 2)"
            ]
          },
          "execution_count": 22,
          "metadata": {},
          "output_type": "execute_result"
        }
      ],
      "source": [
        "### Return multiple parameters\n",
        "def multiply(a,b):\n",
        "    return a*b,a\n",
        "\n",
        "multiply(2,3)"
      ]
    },
    {
      "cell_type": "code",
      "execution_count": null,
      "metadata": {
        "id": "okA-0BefJ3bT"
      },
      "outputs": [],
      "source": []
    }
  ],
  "metadata": {
    "kernelspec": {
      "display_name": "Python 3",
      "language": "python",
      "name": "python3"
    },
    "language_info": {
      "codemirror_mode": {
        "name": "ipython",
        "version": 3
      },
      "file_extension": ".py",
      "mimetype": "text/x-python",
      "name": "python",
      "nbconvert_exporter": "python",
      "pygments_lexer": "ipython3",
      "version": "3.12.0"
    },
    "colab": {
      "provenance": [],
      "include_colab_link": true
    }
  },
  "nbformat": 4,
  "nbformat_minor": 0
}