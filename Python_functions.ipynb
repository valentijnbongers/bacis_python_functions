{
  "nbformat": 4,
  "nbformat_minor": 0,
  "metadata": {
    "colab": {
      "provenance": [],
      "authorship_tag": "ABX9TyOO6LXVULmvymwOtAAhpuPi",
      "include_colab_link": true
    },
    "kernelspec": {
      "name": "python3",
      "display_name": "Python 3"
    },
    "language_info": {
      "name": "python"
    }
  },
  "cells": [
    {
      "cell_type": "markdown",
      "metadata": {
        "id": "view-in-github",
        "colab_type": "text"
      },
      "source": [
        "<a href=\"https://colab.research.google.com/github/valentijnbongers/bacis_python_functions/blob/main/Python_functions.ipynb\" target=\"_parent\"><img src=\"https://colab.research.google.com/assets/colab-badge.svg\" alt=\"Open In Colab\"/></a>"
      ]
    },
    {
      "cell_type": "markdown",
      "source": [
        "## Check for a palindrome"
      ],
      "metadata": {
        "id": "v4YtTYlYjMRf"
      }
    },
    {
      "cell_type": "markdown",
      "source": [
        "Scan the given number\n",
        "\n",
        "Take another variable say duplicate_num and initialize it with given number\n",
        "\n",
        "Set the variable reverse_number to 0.\n",
        "\n",
        "Loop while number > 0 Loop while number > 0\n",
        "\n",
        "Multiply reverse_number by 10 and add the remainder to reverse_number like below\n",
        "\n",
        "reverse_number = (reverse_number * 10) + remainder\n",
        "\n",
        "Divide the given number by 10 to remove the last digit.\n",
        "\n",
        "If the duplicate_num and reverse_number are equal then it is palindrome.\n",
        "\n",
        "Else it is not palindrome."
      ],
      "metadata": {
        "id": "m9KhY0bvjgpx"
      }
    },
    {
      "cell_type": "code",
      "execution_count": 1,
      "metadata": {
        "colab": {
          "base_uri": "https://localhost:8080/"
        },
        "id": "qxtS2B9BjFzh",
        "outputId": "8852c52c-6aee-4e13-f797-ec9cc1af2e24"
      },
      "outputs": [
        {
          "output_type": "stream",
          "name": "stdout",
          "text": [
            "The given number 12321 is palindrome\n"
          ]
        }
      ],
      "source": [
        "# given number\n",
        "given_num = 12321\n",
        "# taking another variable to store the copy of original number\n",
        "# and initialize it with given num\n",
        "duplicate_num = given_num\n",
        "# Take a variable reverse_number and initialize it to null\n",
        "reverse_number = 0\n",
        "# using while loop to reverse the given number\n",
        "while (given_num > 0):\n",
        "    # implementing the algorithm\n",
        "    # getting the last digit\n",
        "    remainder = given_num % 10\n",
        "    reverse_number = (reverse_number * 10) + remainder\n",
        "    given_num = given_num // 10\n",
        "# if duplicate_num and reverse_number are equal then it is palindrome\n",
        "if(duplicate_num == reverse_number):\n",
        "    print(\"The given number\", duplicate_num, \"is palindrome\")\n",
        "else:\n",
        "    print(\"The given number\", duplicate_num, \"is not palindrome\")"
      ]
    },
    {
      "cell_type": "markdown",
      "source": [
        "# What is an alternative way to check for a palindrome?"
      ],
      "metadata": {
        "id": "ScaXB5qhk8LB"
      }
    },
    {
      "cell_type": "markdown",
      "source": [
        "Scan the given number.\n",
        "\n",
        "Take a empty string say revstring.\n",
        "\n",
        "Convert the given number to string using str() function say strnum for this string.\n",
        "\n",
        "Traverse every character of the string using for loop in reverse order using range function.\n",
        "\n",
        "Add each character to revstring using string concatenation.\n",
        "\n",
        "If the revstring and string_num are equal then it is palindrome.\n",
        "\n",
        "Else it is not palindrome."
      ],
      "metadata": {
        "id": "Hp54QUs0lLzK"
      }
    },
    {
      "cell_type": "code",
      "source": [
        "# given number\n",
        "given_num = 12321\n",
        "# taking empty string\n",
        "reverse_string = \"\"\n",
        "# Convert the given_num to string using str\n",
        "strnum = str(given_num)\n",
        "# calculating the length of string\n",
        "length = len(strnum)\n",
        "# Traverse the strnum string in reverse order using for loop range function\n",
        "for index in range(length-1, -1, -1):\n",
        "    # add the character to reverse_string using string concatenation\n",
        "    reverse_string = reverse_string+strnum[index]\n",
        "# if reverse_string  and strnum are equal then it is palindrome\n",
        "if(reverse_string == strnum):\n",
        "    print(\"The given number\", given_num, \"is palindrome\")\n",
        "else:\n",
        "    print(\"The given number\", given_num, \"is not palindrome\")\n"
      ],
      "metadata": {
        "colab": {
          "base_uri": "https://localhost:8080/"
        },
        "id": "7KGte-1zjaus",
        "outputId": "bcf7d8ae-3f4a-42f0-848c-0fca3edd7c01"
      },
      "execution_count": 2,
      "outputs": [
        {
          "output_type": "stream",
          "name": "stdout",
          "text": [
            "The given number 12321 is palindrome\n"
          ]
        }
      ]
    },
    {
      "cell_type": "markdown",
      "source": [
        "## Is there another way to check for a Palindrome?\n"
      ],
      "metadata": {
        "id": "kLC2L-BZlZf5"
      }
    },
    {
      "cell_type": "markdown",
      "source": [
        "Scan the givenstring.\n",
        "\n",
        "Take a empty string say revstring.\n",
        "\n",
        "Traverse every character of the string using for loop in reverse order using range function.\n",
        "\n",
        "Add each character to revstring using string concatenation.\n",
        "\n",
        "If the revstring and givenstring are equal then it is palindrome.\n",
        "\n",
        "Else it is not palindrome."
      ],
      "metadata": {
        "id": "jxsjA0bOlgwB"
      }
    },
    {
      "cell_type": "code",
      "source": [
        "# given string\n",
        "given_string = \"madam\"\n",
        "# taking empty string\n",
        "reverse_string = \"\"\n",
        "# calculating the length of string\n",
        "length = len(given_string)\n",
        "# Traverse the strnum string in reverse order using for loop range function\n",
        "for index in range(length-1, -1, -1):\n",
        "    # add the character to reverse_string using string concatenation\n",
        "    reverse_string = reverse_string+given_string[index]\n",
        "# if reverse_string  and strnum are equal then it is palindrome\n",
        "if(reverse_string == given_string):\n",
        "    print(\"The given string\", given_string, \"is palindrome\")\n",
        "else:\n",
        "    print(\"The given string\", given_string, \"is not palindrome\")"
      ],
      "metadata": {
        "colab": {
          "base_uri": "https://localhost:8080/"
        },
        "id": "YkG7rZT-lRvX",
        "outputId": "6f7efab1-f4d6-431c-8d12-0c7ed03eafe2"
      },
      "execution_count": 4,
      "outputs": [
        {
          "output_type": "stream",
          "name": "stdout",
          "text": [
            "The given string madam is palindrome\n"
          ]
        }
      ]
    },
    {
      "cell_type": "markdown",
      "source": [
        "## Another way to check for a Palindrome: Using slicing to check whether the number is palindrome"
      ],
      "metadata": {
        "id": "8MzjtyOrl-Yk"
      }
    },
    {
      "cell_type": "markdown",
      "source": [
        "Scan the given number.\n",
        "\n",
        "Convert the given number to string using str() function say strnum for this string.\n",
        "\n",
        "Reverse the string using slicing\n",
        "\n",
        "If the revstring and string_num are equal then it is palindrome.\n",
        "\n",
        "Else it is not palindrome."
      ],
      "metadata": {
        "id": "pj1vMN5SmGkC"
      }
    },
    {
      "cell_type": "code",
      "source": [
        "# given number\n",
        "given_num = 12321\n",
        "# Convert the given_num to string using str\n",
        "strnum = str(given_num)\n",
        "# calculating the length of string\n",
        "length = len(strnum)\n",
        "# Reversing the string using slicing\n",
        "reverse_string = strnum[len(strnum)::-1]\n",
        "# if reverse_string  and strnum are equal then it is palindrome\n",
        "if(reverse_string == strnum):\n",
        "    print(\"The given number\", given_num, \"is palindrome\")\n",
        "else:\n",
        "    print(\"The given number\", given_num, \"is not palindrome\")"
      ],
      "metadata": {
        "colab": {
          "base_uri": "https://localhost:8080/"
        },
        "id": "XpmsGkv3lhju",
        "outputId": "1bba9d90-08e8-4003-fd15-11874cd51bcc"
      },
      "execution_count": 5,
      "outputs": [
        {
          "output_type": "stream",
          "name": "stdout",
          "text": [
            "The given number 12321 is palindrome\n"
          ]
        }
      ]
    },
    {
      "cell_type": "markdown",
      "source": [
        "## Another method: Using slicing to check whether the string is palindrome\n"
      ],
      "metadata": {
        "id": "wqJnfFwsmTqX"
      }
    },
    {
      "cell_type": "markdown",
      "source": [
        "Scan the given string.\n",
        "\n",
        "Reverse the string using slicing\n",
        "\n",
        "If the revstring and string are equal then it is palindrome.\n",
        "\n",
        "Else it is not palindrome."
      ],
      "metadata": {
        "id": "7ifjTa1lmag6"
      }
    },
    {
      "cell_type": "code",
      "source": [
        "# given string\n",
        "given_string = \"madam\"\n",
        "# calculating the length of string\n",
        "length = len(given_string)\n",
        "# Reversing the string using slicing\n",
        "reverse_string = given_string[len(given_string)::-1]\n",
        "# if reverse_string  and strnum are equal then it is palindrome\n",
        "if(reverse_string == given_string):\n",
        "    print(\"The given string\", given_string, \"is palindrome\")\n",
        "else:\n",
        "    print(\"The given string\", given_string, \"is not palindrome\")"
      ],
      "metadata": {
        "colab": {
          "base_uri": "https://localhost:8080/"
        },
        "id": "B_xakGkdmK64",
        "outputId": "3d148276-bcba-488b-ee27-df6312872e7b"
      },
      "execution_count": 6,
      "outputs": [
        {
          "output_type": "stream",
          "name": "stdout",
          "text": [
            "The given string madam is palindrome\n"
          ]
        }
      ]
    },
    {
      "cell_type": "markdown",
      "source": [
        "## Check if a number is a Prime number"
      ],
      "metadata": {
        "id": "bnNpmgnnmn5K"
      }
    },
    {
      "cell_type": "markdown",
      "source": [
        "## Method 1: Using for loop to loop from 2 to N-1 using flag or temp variable"
      ],
      "metadata": {
        "id": "YoQsBmTCmwou"
      }
    },
    {
      "cell_type": "code",
      "source": [
        "# given number\n",
        "number = 5\n",
        "# intializing a temporary variable with False\n",
        "temp = False\n",
        "# We will check if the number is greater than 1 or not\n",
        "# since prime numbers starts from 2\n",
        "if number > 1:\n",
        "    # checking the divisors of the number\n",
        "    for i in range(2, number):\n",
        "        if (number % i) == 0:\n",
        "            # if any divisor is found then set temp to true since it is not prime number\n",
        "            temp = True\n",
        "            # Break the loop if it is not prime\n",
        "            break\n",
        "if(temp):\n",
        "    print(\"The given number\", number, \"is not prime number\")\n",
        "else:\n",
        "    print(\"The given number\", number, \"is prime number\")"
      ],
      "metadata": {
        "colab": {
          "base_uri": "https://localhost:8080/"
        },
        "id": "q1RTOtvHmhMd",
        "outputId": "7d6a20dd-830e-4628-e9b5-c24956f0f66a"
      },
      "execution_count": 7,
      "outputs": [
        {
          "output_type": "stream",
          "name": "stdout",
          "text": [
            "The given number 5 is prime number\n"
          ]
        }
      ]
    },
    {
      "cell_type": "code",
      "source": [],
      "metadata": {
        "id": "sAb8AUMGm3bq"
      },
      "execution_count": null,
      "outputs": []
    }
  ]
}