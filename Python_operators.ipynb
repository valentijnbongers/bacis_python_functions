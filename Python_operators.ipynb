{
  "cells": [
    {
      "cell_type": "markdown",
      "metadata": {
        "id": "view-in-github",
        "colab_type": "text"
      },
      "source": [
        "<a href=\"https://colab.research.google.com/github/valentijnbongers/bacis_python_functions/blob/main/Python_operators.ipynb\" target=\"_parent\"><img src=\"https://colab.research.google.com/assets/colab-badge.svg\" alt=\"Open In Colab\"/></a>"
      ]
    },
    {
      "cell_type": "markdown",
      "metadata": {
        "id": "ICHqV81U4qN8"
      },
      "source": [
        "## Deep Dive into Operators"
      ]
    },
    {
      "cell_type": "markdown",
      "metadata": {
        "id": "DHz_bP0p4qN_"
      },
      "source": [
        "### Video Outline:\n",
        "1. Introduction to Operators\n",
        "2. Arithmetic Operators\n",
        "   - Addition\n",
        "   - Subtraction\n",
        "   - Multiplication\n",
        "   - Division\n",
        "   - Floor Division\n",
        "   - Modulus\n",
        "   - Exponentiation\n",
        "3. Comparison Operators\n",
        "   - Equal to\n",
        "   - Not equal to\n",
        "   - Greater than\n",
        "   - Less than\n",
        "   - Greater than or equal to\n",
        "   - Less than or equal to\n",
        "4. Logical Operators\n",
        "   - AND\n",
        "   - OR\n",
        "   - NOT\n",
        "5. Practical Examples and Common Errors"
      ]
    },
    {
      "cell_type": "code",
      "execution_count": 1,
      "metadata": {
        "colab": {
          "base_uri": "https://localhost:8080/"
        },
        "id": "0A3VQRfG4qOA",
        "outputId": "cdb5491e-11a9-4941-80e9-52b3f5b42a1c"
      },
      "outputs": [
        {
          "output_type": "stream",
          "name": "stdout",
          "text": [
            "15\n",
            "5\n",
            "50\n",
            "2.0\n",
            "2\n",
            "0\n",
            "100000\n"
          ]
        }
      ],
      "source": [
        "## Arithmethic Operation\n",
        "\n",
        "a=10\n",
        "b = 5\n",
        "\n",
        "add_result=a+b  #addiiton\n",
        "sub_result=a-b  #substraction\n",
        "mult_result=a*b #multiplication\n",
        "div_result=a/b  #division\n",
        "floor_div_result=a//b ## floor division\n",
        "modulus_result=a%b #modulus operation\n",
        "\n",
        "exponent_result=a**b ## Exponentiation\n",
        "\n",
        "\n",
        "print(add_result)\n",
        "print(sub_result)\n",
        "print(mult_result)\n",
        "print(div_result)\n",
        "print(floor_div_result)\n",
        "print(modulus_result)\n",
        "print(exponent_result)\n",
        "\n"
      ]
    },
    {
      "cell_type": "code",
      "execution_count": 2,
      "metadata": {
        "colab": {
          "base_uri": "https://localhost:8080/"
        },
        "id": "a7oZ9NlF4qOC",
        "outputId": "b70876cb-e489-4170-8ae1-181963f5600c"
      },
      "outputs": [
        {
          "output_type": "execute_result",
          "data": {
            "text/plain": [
              "2.0"
            ]
          },
          "metadata": {},
          "execution_count": 2
        }
      ],
      "source": [
        "10/5"
      ]
    },
    {
      "cell_type": "code",
      "execution_count": 3,
      "metadata": {
        "colab": {
          "base_uri": "https://localhost:8080/"
        },
        "id": "oiyAA48c4qOC",
        "outputId": "15c481f2-1611-45b0-f389-94c857850b1d"
      },
      "outputs": [
        {
          "output_type": "execute_result",
          "data": {
            "text/plain": [
              "4.2"
            ]
          },
          "metadata": {},
          "execution_count": 3
        }
      ],
      "source": [
        "21/5"
      ]
    },
    {
      "cell_type": "code",
      "execution_count": 4,
      "metadata": {
        "colab": {
          "base_uri": "https://localhost:8080/"
        },
        "id": "OKrwr8XZ4qOC",
        "outputId": "483b10d7-2e58-4a4a-f050-7f94b1191888"
      },
      "outputs": [
        {
          "output_type": "execute_result",
          "data": {
            "text/plain": [
              "4"
            ]
          },
          "metadata": {},
          "execution_count": 4
        }
      ],
      "source": [
        "21//5"
      ]
    },
    {
      "cell_type": "markdown",
      "metadata": {
        "id": "9dZVAHAy4qOD"
      },
      "source": [
        "#### Comparison Operators"
      ]
    },
    {
      "cell_type": "code",
      "execution_count": 5,
      "metadata": {
        "colab": {
          "base_uri": "https://localhost:8080/"
        },
        "id": "q567nrRe4qOD",
        "outputId": "a73f575d-e20a-4ee2-fa60-fd8b79551644"
      },
      "outputs": [
        {
          "output_type": "execute_result",
          "data": {
            "text/plain": [
              "True"
            ]
          },
          "metadata": {},
          "execution_count": 5
        }
      ],
      "source": [
        "## Comparison Operators\n",
        "## == Equal to\n",
        "a=10\n",
        "b=10\n",
        "\n",
        "a==b"
      ]
    },
    {
      "cell_type": "code",
      "execution_count": 6,
      "metadata": {
        "colab": {
          "base_uri": "https://localhost:8080/"
        },
        "id": "k1lQ3aE04qOD",
        "outputId": "f32c48c3-70bf-4b4c-97c8-57c0eabb939a"
      },
      "outputs": [
        {
          "output_type": "execute_result",
          "data": {
            "text/plain": [
              "True"
            ]
          },
          "metadata": {},
          "execution_count": 6
        }
      ],
      "source": [
        "str1=\"Valentijn\"\n",
        "str2=\"Valentijn\"\n",
        "\n",
        "str1==str2"
      ]
    },
    {
      "cell_type": "code",
      "execution_count": 7,
      "metadata": {
        "colab": {
          "base_uri": "https://localhost:8080/"
        },
        "id": "OIM0nj6y4qOE",
        "outputId": "363455b2-813e-4ac3-f846-4c8739713d43"
      },
      "outputs": [
        {
          "output_type": "execute_result",
          "data": {
            "text/plain": [
              "False"
            ]
          },
          "metadata": {},
          "execution_count": 7
        }
      ],
      "source": [
        "## Not Equal to !=\n",
        "str1!=str2"
      ]
    },
    {
      "cell_type": "code",
      "execution_count": 8,
      "metadata": {
        "colab": {
          "base_uri": "https://localhost:8080/"
        },
        "id": "Rc_Ptwbw4qOE",
        "outputId": "9a116e2f-4f18-4330-f37a-dfb3a52aeac3"
      },
      "outputs": [
        {
          "output_type": "execute_result",
          "data": {
            "text/plain": [
              "False"
            ]
          },
          "metadata": {},
          "execution_count": 8
        }
      ],
      "source": [
        "str3=\"Valentijn\"\n",
        "str4=\"Valentijn\"\n",
        "\n",
        "str3!=str4"
      ]
    },
    {
      "cell_type": "code",
      "execution_count": 9,
      "metadata": {
        "colab": {
          "base_uri": "https://localhost:8080/"
        },
        "id": "omPqFFTW4qOE",
        "outputId": "011394c8-ccb2-4bde-e808-2e13a2b96cd2"
      },
      "outputs": [
        {
          "output_type": "execute_result",
          "data": {
            "text/plain": [
              "False"
            ]
          },
          "metadata": {},
          "execution_count": 9
        }
      ],
      "source": [
        "# greater than >\n",
        "\n",
        "num1=45\n",
        "num2=55\n",
        "\n",
        "num1>num2"
      ]
    },
    {
      "cell_type": "code",
      "execution_count": 10,
      "metadata": {
        "colab": {
          "base_uri": "https://localhost:8080/"
        },
        "id": "3d_RqTo84qOE",
        "outputId": "d0e18905-9904-42f6-f218-f1fe81670b7c"
      },
      "outputs": [
        {
          "output_type": "stream",
          "name": "stdout",
          "text": [
            "True\n"
          ]
        }
      ],
      "source": [
        "## less than <\n",
        "\n",
        "print(num1<num2)"
      ]
    },
    {
      "cell_type": "code",
      "execution_count": 11,
      "metadata": {
        "colab": {
          "base_uri": "https://localhost:8080/"
        },
        "id": "FJE_i3o04qOF",
        "outputId": "a702663c-5a78-4677-c00b-cfd87d078008"
      },
      "outputs": [
        {
          "output_type": "stream",
          "name": "stdout",
          "text": [
            "True\n"
          ]
        }
      ],
      "source": [
        "#greater than or equal to\n",
        "number1=45\n",
        "number2=45\n",
        "\n",
        "print(number1>=number2)"
      ]
    },
    {
      "cell_type": "code",
      "execution_count": 12,
      "metadata": {
        "colab": {
          "base_uri": "https://localhost:8080/"
        },
        "id": "LCALYji14qOF",
        "outputId": "e07c84e8-3f89-405b-dde1-95d3da9cf861"
      },
      "outputs": [
        {
          "output_type": "stream",
          "name": "stdout",
          "text": [
            "True\n"
          ]
        }
      ],
      "source": [
        "#less than or equal to\n",
        "number1=44\n",
        "number2=45\n",
        "\n",
        "print(number1<=number2)"
      ]
    },
    {
      "cell_type": "markdown",
      "metadata": {
        "id": "6Fgbwqhb4qOF"
      },
      "source": [
        "#### Logical Operators"
      ]
    },
    {
      "cell_type": "code",
      "execution_count": 13,
      "metadata": {
        "colab": {
          "base_uri": "https://localhost:8080/"
        },
        "id": "-ymB_Pu64qOF",
        "outputId": "af30182c-fc2d-43a6-a398-dd4d060fd074"
      },
      "outputs": [
        {
          "output_type": "stream",
          "name": "stdout",
          "text": [
            "True\n"
          ]
        }
      ],
      "source": [
        "## And ,Not,OR\n",
        "X=True\n",
        "Y=True\n",
        "\n",
        "result =X and Y\n",
        "print(result)"
      ]
    },
    {
      "cell_type": "code",
      "execution_count": 14,
      "metadata": {
        "colab": {
          "base_uri": "https://localhost:8080/"
        },
        "id": "BG9_JUXB4qOF",
        "outputId": "03c929c5-65d5-44c6-eadc-f45d3a8723fb"
      },
      "outputs": [
        {
          "output_type": "stream",
          "name": "stdout",
          "text": [
            "False\n"
          ]
        }
      ],
      "source": [
        "X=False\n",
        "Y=True\n",
        "\n",
        "result =X and Y\n",
        "print(result)"
      ]
    },
    {
      "cell_type": "code",
      "execution_count": 15,
      "metadata": {
        "colab": {
          "base_uri": "https://localhost:8080/"
        },
        "id": "wvaf5qlF4qOF",
        "outputId": "cf806ad7-34cf-45c6-ac0a-36162c877f33"
      },
      "outputs": [
        {
          "output_type": "stream",
          "name": "stdout",
          "text": [
            "False\n"
          ]
        }
      ],
      "source": [
        "## OR\n",
        "X=False\n",
        "Y=False\n",
        "\n",
        "result =X or Y\n",
        "print(result)"
      ]
    },
    {
      "cell_type": "code",
      "execution_count": 16,
      "metadata": {
        "colab": {
          "base_uri": "https://localhost:8080/"
        },
        "id": "4XKkk1A44qOF",
        "outputId": "ef30fe65-be06-4445-8588-6d1073d942e9"
      },
      "outputs": [
        {
          "output_type": "execute_result",
          "data": {
            "text/plain": [
              "True"
            ]
          },
          "metadata": {},
          "execution_count": 16
        }
      ],
      "source": [
        "# Not operator\n",
        "X=False\n",
        "not X"
      ]
    },
    {
      "cell_type": "code",
      "execution_count": 17,
      "metadata": {
        "colab": {
          "base_uri": "https://localhost:8080/"
        },
        "id": "_CXkO-t_4qOF",
        "outputId": "ccfcfe6c-0cb9-4039-d3ae-973d4e57867b"
      },
      "outputs": [
        {
          "output_type": "stream",
          "name": "stdout",
          "text": [
            "Enter first number: 3\n",
            "Enter second number: 4\n",
            "Addition: 7.0\n",
            "Subtraction: -1.0\n",
            "Multiplication: 12.0\n",
            "Division: 0.75\n",
            "Floor Division: 0.0\n",
            "Modulus: 3.0\n",
            "Exponentiation: 81.0\n"
          ]
        }
      ],
      "source": [
        "## Simple Calculator\n",
        "\n",
        "# Simple calculator\n",
        "num1 = float(input(\"Enter first number: \"))\n",
        "num2 = float(input(\"Enter second number: \"))\n",
        "\n",
        "# Performing arithmetic operations\n",
        "addition = num1 + num2\n",
        "subtraction = num1 - num2\n",
        "multiplication = num1 * num2\n",
        "division = num1 / num2\n",
        "floor_division = num1 // num2\n",
        "modulus = num1 % num2\n",
        "exponentiation = num1 ** num2\n",
        "\n",
        "# Displaying results\n",
        "print(\"Addition:\", addition)\n",
        "print(\"Subtraction:\", subtraction)\n",
        "print(\"Multiplication:\", multiplication)\n",
        "print(\"Division:\", division)\n",
        "print(\"Floor Division:\", floor_division)\n",
        "print(\"Modulus:\", modulus)\n",
        "print(\"Exponentiation:\", exponentiation)"
      ]
    },
    {
      "cell_type": "code",
      "execution_count": null,
      "metadata": {
        "id": "mUrFAEv-4qOF"
      },
      "outputs": [],
      "source": []
    }
  ],
  "metadata": {
    "kernelspec": {
      "display_name": "Python 3",
      "language": "python",
      "name": "python3"
    },
    "language_info": {
      "codemirror_mode": {
        "name": "ipython",
        "version": 3
      },
      "file_extension": ".py",
      "mimetype": "text/x-python",
      "name": "python",
      "nbconvert_exporter": "python",
      "pygments_lexer": "ipython3",
      "version": "3.12.0"
    },
    "colab": {
      "provenance": [],
      "include_colab_link": true
    }
  },
  "nbformat": 4,
  "nbformat_minor": 0
}