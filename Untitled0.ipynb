{
  "nbformat": 4,
  "nbformat_minor": 0,
  "metadata": {
    "colab": {
      "provenance": [],
      "authorship_tag": "ABX9TyPKuaSFOKqwsx3ngtS9crwm",
      "include_colab_link": true
    },
    "kernelspec": {
      "name": "python3",
      "display_name": "Python 3"
    },
    "language_info": {
      "name": "python"
    }
  },
  "cells": [
    {
      "cell_type": "markdown",
      "metadata": {
        "id": "view-in-github",
        "colab_type": "text"
      },
      "source": [
        "<a href=\"https://colab.research.google.com/github/valentijnbongers/bacis_python_functions/blob/main/Untitled0.ipynb\" target=\"_parent\"><img src=\"https://colab.research.google.com/assets/colab-badge.svg\" alt=\"Open In Colab\"/></a>"
      ]
    },
    {
      "cell_type": "markdown",
      "source": [
        "# Comprehensions"
      ],
      "metadata": {
        "id": "zH0l5j63WUEs"
      }
    },
    {
      "cell_type": "code",
      "execution_count": 1,
      "metadata": {
        "id": "5nVxLB0aWOGh"
      },
      "outputs": [],
      "source": [
        "import unicodedata as ud"
      ]
    },
    {
      "cell_type": "markdown",
      "source": [
        "## # Python list comprehensions can be used to build up lists of answers."
      ],
      "metadata": {
        "id": "Zw7Vn1deWbxC"
      }
    },
    {
      "cell_type": "code",
      "source": [
        "result = [x * x for x in range(1,100) if \"3\" in str(x)]\n",
        "print(result)"
      ],
      "metadata": {
        "colab": {
          "base_uri": "https://localhost:8080/"
        },
        "id": "022FPdeXvuzO",
        "outputId": "1df160c8-d3b9-4402-98ee-ce8879048b62"
      },
      "execution_count": 4,
      "outputs": [
        {
          "output_type": "stream",
          "name": "stdout",
          "text": [
            "[9, 169, 529, 900, 961, 1024, 1089, 1156, 1225, 1296, 1369, 1444, 1521, 1849, 2809, 3969, 5329, 6889, 8649]\n"
          ]
        }
      ]
    },
    {
      "cell_type": "code",
      "source": [
        "# Squares of numbers from 1 to 99 that contain digit \"3\".\n",
        "a = [x * x for x in range(1, 100) if \"3\" in str(x)]\n",
        "print(a)"
      ],
      "metadata": {
        "colab": {
          "base_uri": "https://localhost:8080/"
        },
        "id": "5S0D9oZeloa3",
        "outputId": "7de65ac4-a83e-445a-fdd4-7c0fca4e7841"
      },
      "execution_count": 5,
      "outputs": [
        {
          "output_type": "stream",
          "name": "stdout",
          "text": [
            "[9, 169, 529, 900, 961, 1024, 1089, 1156, 1225, 1296, 1369, 1444, 1521, 1849, 2809, 3969, 5329, 6889, 8649]\n"
          ]
        }
      ]
    },
    {
      "cell_type": "code",
      "source": [
        "# Since a comprehension can be made out of any existing sequence,\n",
        "# more complex lists can be created out of existing comprehensions.\n",
        "# Elements of the previous list that are between 500 and 2000.\n",
        "\n",
        "b = [x for x in a if 500 < x < 2000]\n",
        "print(b)"
      ],
      "metadata": {
        "colab": {
          "base_uri": "https://localhost:8080/"
        },
        "id": "_-1abNtPlvkJ",
        "outputId": "307fd4e4-ca66-45d7-a48a-c92bae89a0dc"
      },
      "execution_count": 6,
      "outputs": [
        {
          "output_type": "stream",
          "name": "stdout",
          "text": [
            "[529, 900, 961, 1024, 1089, 1156, 1225, 1296, 1369, 1444, 1521, 1849]\n"
          ]
        }
      ]
    },
    {
      "cell_type": "code",
      "source": [
        "# List comprehensions can do a lot of work that we later do with loops.\n",
        "# For example, let's find all the Unicode characters that are lowercase\n",
        "# letters and produce a list of them.\n",
        "\n",
        "letter_category = ud.category('a')\n",
        "c = [chr(c) for c in range(100000)\n",
        "     if ud.category(chr(c)) == letter_category]\n",
        "print(\"Here are the Unicode characters that are lowercase letters:\")\n",
        "print(\"\".join(c))  # There are quite a few.\n",
        "print(\"\")\n",
        "\n",
        "# If the filtering depends also on the position of the element in the\n",
        "# sequence, the Python function enumerate produces a sequence that consists\n",
        "# of pairs of positions and the original elements in those positions.\n",
        "\n",
        "d = \"\".join([x for i, x in enumerate(list(\"Hello world!\")) if i % 2 == 0])\n",
        "print(f\"Every other character produces string {d!r}\")\n",
        "\n",
        "d = \"\".join([x for x in \"Hello world, how are you there?\" if x != ' '])\n",
        "print(f\"Removing whitespaces produces string {d!r}\")\n",
        "\n",
        "# A word starts at a non-whitespace character that either starts\n",
        "# the whole thing or is preceded by a whitespace character.\n",
        "\n",
        "text = \"Let us try to capitalize every word in this silly little sentence.\"\n",
        "text = \"\".join(\n",
        "    [(x.upper() if (i == 0 or text[i-1] == ' ') else x)\n",
        "     for (i, x) in enumerate(text)]\n",
        "    )\n",
        "print(text)\n",
        "\n",
        "# Dictionaries can be built up with analogous dictionary comprehensions.\n",
        "\n",
        "e = {x: x*x for x in range(100)}\n",
        "print(e[5], e[55])\n",
        "\n",
        "# The list comprehension generates a list of all elements to exist\n",
        "# in memory simultaneously, which may be prohibitive if the number\n",
        "# of elements is very large, even astronomical. Iterator comprehension\n",
        "# produces an iterator that yields the elements one at the time as\n",
        "# needed by the computation.\n",
        "\n",
        "# Squares of the first googol integers.\n",
        "\n",
        "h = (x*x for x in range(10 ** 100))\n",
        "\n",
        "# Notice how we didn't run out of memory. Many functions that operate\n",
        "# on iterators are smart enough to stop once they know the answer, so\n",
        "# they will not get stuck if the iterator sequence is very large or\n",
        "# even infinite.\n",
        "\n",
        "g40 = any(x > 40 for x in h)\n",
        "print(f\"Does there exist an integer greater 40? {g40}\")\n",
        "d7 = all(x % 7 == 0 for x in h)\n",
        "print(f\"Are all integers divisible by 7? {d7}\")\n",
        "\n",
        "# Since the actual elements can be computed arbitrarily from the\n",
        "# elements of the original sequence, we can find out the positions\n",
        "# where the original elements satisfy a particular condition.\n",
        "\n",
        "g1 = (29 % n == 0 for n in range(3, 29, 2))\n",
        "g2 = (45 % n == 0 for n in range(3, 45, 2))\n",
        "\n",
        "# Beware of the fact that in a generator expression, the for-part is\n",
        "# evaluated at declaration, whereas the if-part is evaluated at execution.\n",
        "words = [\"hello\", \"there\", \"world\"]\n",
        "five = (word for word in words if word in words)\n",
        "words = [\"hello\", \"ilkka\"]\n",
        "print(list(five))  # ['hello']\n",
        "\n",
        "# The Python functions all and any can be used to check if any or\n",
        "# all elements of a sequence, produced either with a comprehension\n",
        "# or something else, have some desired property. (Note that for empty\n",
        "# sequence, all is trivially true, and any is trivially false,\n",
        "# regardless of the condition used.)\n",
        "\n",
        "print(f\"Is the number 29 a prime number? {not any(g1)}\")\n",
        "print(f\"Is the number 45 a prime number? {not any (g2)}\")\n",
        "\n",
        "text = \"Hello, world!\"\n",
        "s = [ud.category(x) == ud.category(' ') for x in text]\n",
        "print(f\"Does the string {text!r} contain any spaces? {any(s)}\")\n",
        "\n",
        "# An inner comprehension can be nested inside the evaluation of an outer\n",
        "# comprehension, to produce a sequence whose elements are sequences.\n",
        "\n",
        "u1 = [[x for x in range(n+1)] for n in range(10)]\n",
        "print(u1)\n",
        "\n",
        "# This technique allows us to partition a sequence into another sequence\n",
        "# of its consecutive elements, either overlapping or not.\n",
        "\n",
        "# Overlapping sequences of 3 consecutive elements by having the range\n",
        "# of n skip by default 1.\n",
        "u2 = [\" \".join([words[x] for x in range(n, n+3)]) for n in range(len(words)-2)]\n",
        "print(u2)\n",
        "\n",
        "# Non-overlapping sequences of 3 consecutive elements by having the\n",
        "# range of n skip by 3.\n",
        "u3 = [\" \".join([words[x] for x in range(n, n+3)]) for n in range(0, len(words)-2, 3)]\n",
        "print(u3)"
      ],
      "metadata": {
        "id": "YI-LqbXmWQHs"
      },
      "execution_count": null,
      "outputs": []
    }
  ]
}